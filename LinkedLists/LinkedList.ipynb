{
 "cells": [
  {
   "cell_type": "markdown",
   "id": "b362bd6a-a52e-417c-a7b9-4ab12a835d36",
   "metadata": {},
   "source": [
    "# LinkedList"
   ]
  },
  {
   "cell_type": "markdown",
   "id": "fab1b03e-56e9-4869-b619-197a5f2db0e1",
   "metadata": {},
   "source": [
    "Append Node: O(1)\n",
    "\n",
    "Remove Node from End: O(n) because need to repoint tail\n",
    "\n",
    "Add Node to Beginning: O(1) because set head to new node and point new node to beginning of linkedlist\n",
    "\n",
    "Remove Beginning: O(1)\n",
    "\n",
    "Add Node somewhere in Middle: O(n) iterate to list to find node\n",
    "\n",
    "Remove Node somewhre in Middle: O(n) iterate to list to find node\n",
    "\n",
    "Look for Value or index: O(n) iterate to list to find node\n",
    "\n",
    "-------------------"
   ]
  },
  {
   "cell_type": "markdown",
   "id": "f7ed0749-e15c-42d2-97f8-c5c92d8c44d9",
   "metadata": {},
   "source": [
    "Node contains two pieces of information: value and pointer to next node"
   ]
  },
  {
   "cell_type": "markdown",
   "id": "51a22fe8-5a8d-4e8d-a302-739a05b26844",
   "metadata": {},
   "source": [
    "# Linked List as a Python Dictionary"
   ]
  },
  {
   "cell_type": "code",
   "execution_count": 2,
   "id": "61d922bc-a817-4aa9-90bf-5197d6b51645",
   "metadata": {},
   "outputs": [
    {
     "name": "stdout",
     "output_type": "stream",
     "text": [
      "3\n"
     ]
    }
   ],
   "source": [
    "head = {\n",
    "    \"value\":11,\n",
    "    \"next\":{\n",
    "        \"value\":54,\n",
    "        \"next\":{\n",
    "            \"value\":3,\n",
    "            \"next\":{\n",
    "                \"value\":2,\n",
    "                \"next\":None\n",
    "            }\n",
    "        }\n",
    "    }\n",
    "}\n",
    "\n",
    "# Traverse through nested dicts for value\n",
    "print(head['next']['next']['value'])"
   ]
  },
  {
   "cell_type": "markdown",
   "id": "bd1d2b01-25f2-4f3f-83e5-097eb0dc143c",
   "metadata": {},
   "source": [
    "# Linked List"
   ]
  },
  {
   "cell_type": "code",
   "execution_count": 91,
   "id": "299536e5-6c80-47c6-b59d-1141d8317d0b",
   "metadata": {},
   "outputs": [],
   "source": [
    "# Linked List Constructor\n",
    "\n",
    "# In the append, prepend, insert and constructors, we will be creating a new node\n",
    "# Therefore, lets create a class separate from the LinkedList class that creates a Node\n",
    "\n",
    "class Node: # Separate class for Node\n",
    "    def __init__(self, value):\n",
    "        self.value = value # set value of New Node\n",
    "        self.next = None\n",
    "\n",
    "\n",
    "class LinkedList:\n",
    "    def __init__(self, value):\n",
    "        new_node = Node(value) # Create new node\n",
    "        self.head = new_node # Keep track of head\n",
    "        self.tail = new_node # Keep track of tail. Since LL was just initialized, there is one node so therefore head and tail are the same node\n",
    "        self.length = 1 # Keep track of length of LinkedList (not needed by useful)\n",
    "\n",
    "    def print_list(self):\n",
    "        temp = self.head # Start at the beginning of Linked List; store \"head\"\n",
    "        while temp is not None: # Loop through list till the end (where temp is null)\n",
    "            print(temp.value) # print value\n",
    "            temp = temp.next # move to next node by initialize temp to the pointer i.e. next\n",
    "    def prepend(self, value):\n",
    "        # 1) Set new Node \n",
    "        # 2) Point new node to head \n",
    "        # 3) Point head to new_node\n",
    "        # 4) Edge case: LL is empty, both head and tail point at new node\n",
    "\n",
    "        # 1\n",
    "        new_node = Node(value)\n",
    "\n",
    "        # 4\n",
    "        if self.head is None: # Edge case, can also say if self.length == 0 \n",
    "            self.head = new_node \n",
    "            self.tail = new_node\n",
    "\n",
    "        else:\n",
    "            #2\n",
    "            new_node.next = self.head # new_node is point to head\n",
    "\n",
    "            #3\n",
    "            self.head = new_node # head points to new node\n",
    "        self.length+=1\n",
    "        \n",
    "        # Optional but included as we will use a check on this\n",
    "        return True\n",
    "            \n",
    "            \n",
    "        \n",
    "    def append(self, value):\n",
    "        # 1) Point last node to new node\n",
    "        # 2) point tail to new node\n",
    "        # 3) Edge case: if LL empty, head and tail must point to new node\n",
    "\n",
    "        new_node = Node(value)\n",
    "        if self.head is None: # Edge case, can also say if self.length == 0 \n",
    "            self.head = new_node \n",
    "            self.tail = new_node\n",
    "        else:\n",
    "            self.tail.next = new_node # Point previous node to new node\n",
    "            self.tail = new_node # Set tail to new node\n",
    "        # Optional: increase length\n",
    "        self.length += 1\n",
    "\n",
    "        # Optional but included as we will use a check on this\n",
    "        return True\n",
    "\n",
    "    def pop(self):\n",
    "        # 1) Loop through LL and find second to last node\n",
    "        # 2) set second to last node equal to None (detaches Node)\n",
    "        # 3) Edge Case: if only one item in Linked List, set tail and head to None\n",
    "        # 4) Edge case: if no items, then nothing to pop\n",
    "        \n",
    "        if self.head is None: # Edge case, if length == 0\n",
    "            print('No more items to pop!') \n",
    "            return None\n",
    "        \n",
    "        tmp = self.head # Start at the head\n",
    "        if self.head is not None and self.head.next is None: # Edge Case, check is head is not empty but it's pointer is None\n",
    "            self.head = None \n",
    "            self.tail = None\n",
    "            self.length -= 1\n",
    "            return tmp.value # Return popped item\n",
    "\n",
    "        else:\n",
    "            # Loop through the LL\n",
    "            while tmp.next is not None:\n",
    "                pre = tmp # Set the current node to pre so pre is always one behind tmp at the beginning of loop\n",
    "                tmp = tmp.next # Move to the next node\n",
    "\n",
    "            self.tail = pre # Tail is set to second to last node\n",
    "            self.tail.next = None # Point to nothing, detaching old last node\n",
    "            self.length -= 1\n",
    "            return tmp.value # Return popped item\n",
    "\n",
    "    def pop_first(self):\n",
    "        # 1) Set head to next node \n",
    "        # 2) remove Pointer from old head (stored as tmp variable)\n",
    "        # 3) Edge Case: if only one item in Linked List, set tail and head to None\n",
    "        # 4) Edge case: if no items, then nothing to pop\n",
    "\n",
    "        if self.head is None: # Edge case, if length == 0\n",
    "            print('No more items to pop!') \n",
    "            return None\n",
    "        \n",
    "        tmp = self.head # Start at the head\n",
    "        if self.head is not None and self.head.next is None: # Edge Case, check is head is not empty but it's pointer is None\n",
    "            self.head = None \n",
    "            self.tail = None\n",
    "            self.length -= 1\n",
    "\n",
    "        else:\n",
    "            self.head = self.head.next\n",
    "            tmp.next = None\n",
    "            self.length -= 1\n",
    "\n",
    "        return tmp.value # Return popped item\n",
    "\n",
    "    def get_value(self, index):\n",
    "        # Loop through LL until we are at index\n",
    "        # Return value at index\n",
    "        # Edge case: make sure index in bounds\n",
    "\n",
    "        if index < 0 or index >= self.length: # Check index bounds\n",
    "            print('Index out of bounds!')\n",
    "            return None\n",
    "\n",
    "        tmp = self.head\n",
    "        for _ in range(index):\n",
    "            tmp = tmp.next\n",
    "\n",
    "        return tmp\n",
    "\n",
    "    def set_value(self, index, value):\n",
    "        # Loop through LL until we are at index\n",
    "        # Return True\n",
    "        # Edge case: make sure index in bounds\n",
    "\n",
    "        if index < 0 or index >= self.length:\n",
    "            print('Index out of bounds!')\n",
    "            return False\n",
    "\n",
    "        tmp = self.head\n",
    "        for _ in range(index):\n",
    "            tmp = tmp.next\n",
    "        \n",
    "        tmp.value = value\n",
    "        return True\n",
    "\n",
    "\n",
    "        # ALTERNATIVE CODE FOR CONCISENESS; CALLING get_value FUNCTION\n",
    "        # tmp = self.get_value(index)\n",
    "        # if tmp:\n",
    "        #     tmp.value = value\n",
    "        #     return True\n",
    "        # return False\n",
    "\n",
    "    def insert(self, index, value):\n",
    "        # Loop through LL until we are at index (can call get_value on the previous index)\n",
    "        # Return value at index\n",
    "        # Edge case: make sure index in bounds\n",
    "        # Edge case: index = 0, call prepend\n",
    "        # Edge case: index = self.length, call append\n",
    "\n",
    "        if index < 0 or index > self.length:\n",
    "            print('Index out of bounds!')\n",
    "            return False\n",
    "\n",
    "        if index == 0:\n",
    "            return self.prepend(value) # Returns True or False\n",
    "\n",
    "        if index == self.length:\n",
    "            return self.append(value) # Returns True or False\n",
    "\n",
    "        new_node = Node(value)\n",
    "        \n",
    "        tmp = self.head\n",
    "        for _ in range(index):  # Can use tmp = self.get_value(index - 1) to get previous node instead of for loop\n",
    "            tmp = tmp.next\n",
    "\n",
    "        new_node.next = tmp.next # point new node to node that is currently at index (moves that node to index + 1)\n",
    "        tmp.next = new_node # point previous node in LL to new node\n",
    "        self.length += 1\n",
    "        return True\n",
    "\n",
    "\n",
    "    def remove(self, index):\n",
    "        # Loop through LL and store current and previous node (can use self.get_value instead of loop)\n",
    "        # Set previous node pointer to the pointer of tmp node\n",
    "        # Detach tmp node by setting next to None\n",
    "        # Edge case: make sure index in bounds\n",
    "        # Edge case: index = 0, call pop_first\n",
    "        # Edge case: index = self.length-1, call pop\n",
    "\n",
    "        if index < 0 or index >= self.length: # >= because cannot remove after tail\n",
    "            return None \n",
    "\n",
    "        if index == 0:\n",
    "            return self.pop_first()\n",
    "\n",
    "        if index == self.length - 1:\n",
    "            return self.pop()\n",
    "\n",
    "        tmp = self.head\n",
    "        for _ in range(index+1): # Can use prev = self.get_value(index - 1), tmp = prev.next to get previous node instead of for loop\n",
    "            prev = tmp \n",
    "            tmp = tmp.next\n",
    "\n",
    "        prev.next = tmp.next # set previous node pointer to node after node of removal\n",
    "        tmp.next = None # Detach node of removal completely\n",
    "        self.length -= 1\n",
    "        return tmp\n",
    "\n",
    "    def reverse(self):\n",
    "        # Switch head and tail -- set tmp = head, set head = tail, set tail = tmp\n",
    "        # Iterate through list by having before and after variables\n",
    "        # Set after to node after current and before to None\n",
    "        # Loop: set after = tmp.next (to move to next node iteratively), tmp.next = before (flip of pointer), before = tmp (Now before is pointing to current node), tmp = after (temp is now at the next node and repeat process)\n",
    "\n",
    "        tmp = self.head \n",
    "        self.head = self.tail\n",
    "        self.tail = tmp\n",
    "\n",
    "        before = None\n",
    "\n",
    "        for _ in range(self.length):\n",
    "            after = tmp.next\n",
    "            tmp.next = before\n",
    "            before = tmp\n",
    "            tmp = after\n",
    "            \n",
    "        \n",
    "            \n",
    "            \n",
    "        \n",
    "        \n",
    "            \n",
    "        \n",
    "            \n",
    "            \n",
    "            \n",
    "        \n",
    "\n",
    "        \n",
    "        \n",
    "        \n",
    "\n",
    "\n",
    "\n",
    "my_linked_list = LinkedList(4)\n",
    "    "
   ]
  },
  {
   "cell_type": "code",
   "execution_count": 92,
   "id": "48bac114-ed6d-43f6-8865-c0078abd7410",
   "metadata": {},
   "outputs": [
    {
     "name": "stdout",
     "output_type": "stream",
     "text": [
      "4\n",
      "None\n"
     ]
    }
   ],
   "source": [
    "print(my_linked_list.head.value)\n",
    "print(my_linked_list.head.next)"
   ]
  },
  {
   "cell_type": "code",
   "execution_count": 93,
   "id": "5f034f9e-05cf-4763-b674-9e1dccd7e7fd",
   "metadata": {},
   "outputs": [
    {
     "name": "stdout",
     "output_type": "stream",
     "text": [
      "1\n",
      "3\n",
      "3\n",
      "2\n"
     ]
    }
   ],
   "source": [
    "my_linked_list = LinkedList(1)\n",
    "my_linked_list.append(3)\n",
    "my_linked_list.append(3)\n",
    "my_linked_list.append(2)\n",
    "my_linked_list.print_list()"
   ]
  },
  {
   "cell_type": "code",
   "execution_count": 94,
   "id": "978ef9c5-dd49-463b-a43f-58a12e2d91b9",
   "metadata": {},
   "outputs": [
    {
     "data": {
      "text/plain": [
       "1"
      ]
     },
     "execution_count": 94,
     "metadata": {},
     "output_type": "execute_result"
    }
   ],
   "source": [
    "my_linked_list.pop_first()"
   ]
  },
  {
   "cell_type": "code",
   "execution_count": 95,
   "id": "890575a0-a66c-4fa1-9f86-abcccdc7c05b",
   "metadata": {},
   "outputs": [
    {
     "name": "stdout",
     "output_type": "stream",
     "text": [
      "3\n",
      "3\n",
      "2\n"
     ]
    }
   ],
   "source": [
    "\n",
    "my_linked_list.print_list()"
   ]
  },
  {
   "cell_type": "code",
   "execution_count": 96,
   "id": "de3d5698-4c72-4d70-baee-1da52e848301",
   "metadata": {},
   "outputs": [
    {
     "data": {
      "text/plain": [
       "2"
      ]
     },
     "execution_count": 96,
     "metadata": {},
     "output_type": "execute_result"
    }
   ],
   "source": [
    "my_linked_list.pop()"
   ]
  },
  {
   "cell_type": "code",
   "execution_count": 97,
   "id": "2fe7c98b-19a4-4458-96e1-3042170113fa",
   "metadata": {},
   "outputs": [
    {
     "name": "stdout",
     "output_type": "stream",
     "text": [
      "3\n",
      "3\n"
     ]
    }
   ],
   "source": [
    "my_linked_list.print_list()"
   ]
  },
  {
   "cell_type": "code",
   "execution_count": 114,
   "id": "48fc6e76-a76a-426d-aab6-d17817b65c99",
   "metadata": {},
   "outputs": [
    {
     "data": {
      "text/plain": [
       "2"
      ]
     },
     "execution_count": 114,
     "metadata": {},
     "output_type": "execute_result"
    }
   ],
   "source": [
    "my_linked_list.get_value(1).value"
   ]
  },
  {
   "cell_type": "code",
   "execution_count": 105,
   "id": "f85de465-718c-4be6-b9a8-01a6b65ef967",
   "metadata": {},
   "outputs": [
    {
     "data": {
      "text/plain": [
       "<__main__.Node at 0x1b331806350>"
      ]
     },
     "execution_count": 105,
     "metadata": {},
     "output_type": "execute_result"
    }
   ],
   "source": [
    "my_linked_list.append(2)\n",
    "my_linked_list.append(234)\n",
    "my_linked_list.get_value(1)"
   ]
  },
  {
   "cell_type": "code",
   "execution_count": 106,
   "id": "3520176e-51e1-4ca3-b719-f8e759a0d947",
   "metadata": {},
   "outputs": [
    {
     "data": {
      "text/plain": [
       "True"
      ]
     },
     "execution_count": 106,
     "metadata": {},
     "output_type": "execute_result"
    }
   ],
   "source": [
    "my_linked_list.set_value(2,4)"
   ]
  },
  {
   "cell_type": "code",
   "execution_count": 107,
   "id": "3185ce76-c295-489c-8ffb-7dd2350c5fcf",
   "metadata": {},
   "outputs": [
    {
     "name": "stdout",
     "output_type": "stream",
     "text": [
      "12\n",
      "3\n",
      "4\n",
      "2\n",
      "234\n"
     ]
    }
   ],
   "source": [
    "my_linked_list.print_list()"
   ]
  },
  {
   "cell_type": "code",
   "execution_count": 108,
   "id": "f4e37173-a9bf-4c10-bde8-0c9a236a1747",
   "metadata": {},
   "outputs": [
    {
     "data": {
      "text/plain": [
       "True"
      ]
     },
     "execution_count": 108,
     "metadata": {},
     "output_type": "execute_result"
    }
   ],
   "source": [
    "my_linked_list.prepend(12)"
   ]
  },
  {
   "cell_type": "code",
   "execution_count": 109,
   "id": "f6c37b7e-93f2-424a-817d-6b4544b8d850",
   "metadata": {},
   "outputs": [
    {
     "name": "stdout",
     "output_type": "stream",
     "text": [
      "12\n",
      "12\n",
      "3\n",
      "4\n",
      "2\n",
      "234\n"
     ]
    }
   ],
   "source": [
    "my_linked_list.print_list()"
   ]
  },
  {
   "cell_type": "code",
   "execution_count": 110,
   "id": "abc154b4-35dd-442b-93a2-1626a4f3c3b2",
   "metadata": {},
   "outputs": [
    {
     "name": "stdout",
     "output_type": "stream",
     "text": [
      "12\n",
      "12\n",
      "3\n",
      "5\n",
      "4\n",
      "2\n",
      "234\n"
     ]
    }
   ],
   "source": [
    "my_linked_list.insert(2, 5)\n",
    "my_linked_list.print_list()"
   ]
  },
  {
   "cell_type": "code",
   "execution_count": 111,
   "id": "4ca20b07-b265-4646-bfe5-f6b7c16bdf5f",
   "metadata": {},
   "outputs": [
    {
     "name": "stdout",
     "output_type": "stream",
     "text": [
      "12\n",
      "12\n",
      "3\n",
      "5\n",
      "2\n",
      "234\n"
     ]
    }
   ],
   "source": [
    "my_linked_list.remove(3)\n",
    "my_linked_list.print_list()"
   ]
  },
  {
   "cell_type": "code",
   "execution_count": 112,
   "id": "913a1607-f88e-43b7-b8ca-619cd5619e50",
   "metadata": {},
   "outputs": [
    {
     "name": "stdout",
     "output_type": "stream",
     "text": [
      "234\n",
      "2\n",
      "5\n",
      "3\n",
      "12\n",
      "12\n"
     ]
    }
   ],
   "source": [
    "my_linked_list.reverse()\n",
    "my_linked_list.print_list()"
   ]
  },
  {
   "cell_type": "code",
   "execution_count": null,
   "id": "067b987c-4827-4ffe-8c59-ca201438feb3",
   "metadata": {},
   "outputs": [],
   "source": []
  }
 ],
 "metadata": {
  "kernelspec": {
   "display_name": "Python 3 (ipykernel)",
   "language": "python",
   "name": "python3"
  },
  "language_info": {
   "codemirror_mode": {
    "name": "ipython",
    "version": 3
   },
   "file_extension": ".py",
   "mimetype": "text/x-python",
   "name": "python",
   "nbconvert_exporter": "python",
   "pygments_lexer": "ipython3",
   "version": "3.13.0"
  }
 },
 "nbformat": 4,
 "nbformat_minor": 5
}
