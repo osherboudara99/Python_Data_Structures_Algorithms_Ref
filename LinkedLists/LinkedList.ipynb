{
 "cells": [
  {
   "cell_type": "markdown",
   "id": "b362bd6a-a52e-417c-a7b9-4ab12a835d36",
   "metadata": {},
   "source": [
    "# LinkedList"
   ]
  },
  {
   "cell_type": "markdown",
   "id": "fab1b03e-56e9-4869-b619-197a5f2db0e1",
   "metadata": {},
   "source": [
    "Append Node: O(1)\n",
    "\n",
    "Remove Node from End: O(n) because need to repoint tail\n",
    "\n",
    "Add Node to Beginning: O(1) because set head to new node and point new node to beginning of linkedlist\n",
    "\n",
    "Remove Beginning: O(1)\n",
    "\n",
    "Add Node somewhere in Middle: O(n) iterate to list to find node\n",
    "\n",
    "Remove Node somewhre in Middle: O(n) iterate to list to find node\n",
    "\n",
    "Look for Value or index: O(n) iterate to list to find node\n",
    "\n",
    "-------------------"
   ]
  },
  {
   "cell_type": "markdown",
   "id": "f7ed0749-e15c-42d2-97f8-c5c92d8c44d9",
   "metadata": {},
   "source": [
    "Node contains two pieces of information: value and pointer to next node"
   ]
  },
  {
   "cell_type": "markdown",
   "id": "51a22fe8-5a8d-4e8d-a302-739a05b26844",
   "metadata": {},
   "source": [
    "# Linked List as a Python Dictionary"
   ]
  },
  {
   "cell_type": "code",
   "execution_count": 1,
   "id": "61d922bc-a817-4aa9-90bf-5197d6b51645",
   "metadata": {},
   "outputs": [
    {
     "name": "stdout",
     "output_type": "stream",
     "text": [
      "3\n"
     ]
    }
   ],
   "source": [
    "head = {\n",
    "    \"value\":11,\n",
    "    \"next\":{\n",
    "        \"value\":54,\n",
    "        \"next\":{\n",
    "            \"value\":3,\n",
    "            \"next\":{\n",
    "                \"value\":2,\n",
    "                \"next\":None\n",
    "            }\n",
    "        }\n",
    "    }\n",
    "}\n",
    "\n",
    "# Traverse through nested dicts for value\n",
    "print(head['next']['next']['value'])"
   ]
  },
  {
   "cell_type": "markdown",
   "id": "bd1d2b01-25f2-4f3f-83e5-097eb0dc143c",
   "metadata": {},
   "source": [
    "# Linked List"
   ]
  },
  {
   "cell_type": "code",
   "execution_count": 2,
   "id": "299536e5-6c80-47c6-b59d-1141d8317d0b",
   "metadata": {},
   "outputs": [],
   "source": [
    "# Linked List Constructor\n",
    "\n",
    "# In the append, prepend, insert and constructors, we will be creating a new node\n",
    "# Therefore, lets create a class separate from the LinkedList class that creates a Node\n",
    "\n",
    "class Node: # Separate class for Node\n",
    "    def __init__(self, value):\n",
    "        self.value = value # set value of New Node\n",
    "        self.next = None\n",
    "\n",
    "\n",
    "class LinkedList:\n",
    "    def __init__(self, value):\n",
    "        new_node = Node(value) # Create new node\n",
    "        self.head = new_node # Keep track of head\n",
    "        self.tail = new_node # Keep track of tail. Since LL was just initialized, there is one node so therefore head and tail are the same node\n",
    "        self.length = 1 # Keep track of length of LinkedList (not needed by useful)\n",
    "\n",
    "    def print_list(self):\n",
    "        temp = self.head # Start at the beginning of Linked List; store \"head\"\n",
    "        while temp is not None: # Loop through list till the end (where temp is null)\n",
    "            print(temp.value) # print value\n",
    "            temp = temp.next # move to next node by initialize temp to the pointer i.e. next\n",
    "    def prepend(self, value):\n",
    "        # 1) Set new Node \n",
    "        # 2) Point new node to head \n",
    "        # 3) Point head to new_node\n",
    "        # 4) Edge case: LL is empty, both head and tail point at new node\n",
    "\n",
    "        # 1\n",
    "        new_node = Node(value)\n",
    "\n",
    "        # 4\n",
    "        if self.head is None: # Edge case, can also say if self.length == 0 \n",
    "            self.head = new_node \n",
    "            self.tail = new_node\n",
    "\n",
    "        else:\n",
    "            #2\n",
    "            new_node.next = self.head # new_node is point to head\n",
    "\n",
    "            #3\n",
    "            self.head = new_node # head points to new node\n",
    "        self.length+=1\n",
    "        \n",
    "        # Optional but included as we will use a check on this\n",
    "        return True\n",
    "            \n",
    "            \n",
    "        \n",
    "    def append(self, value):\n",
    "        # 1) Point last node to new node\n",
    "        # 2) point tail to new node\n",
    "        # 3) Edge case: if LL empty, head and tail must point to new node\n",
    "\n",
    "        new_node = Node(value)\n",
    "        if self.head is None: # Edge case, can also say if self.length == 0 \n",
    "            self.head = new_node \n",
    "            self.tail = new_node\n",
    "        else:\n",
    "            self.tail.next = new_node # Point previous node to new node\n",
    "            self.tail = new_node # Set tail to new node\n",
    "        # Optional: increase length\n",
    "        self.length += 1\n",
    "\n",
    "        # Optional but included as we will use a check on this\n",
    "        return True\n",
    "\n",
    "    def pop(self):\n",
    "        # 1) Loop through LL and find second to last node\n",
    "        # 2) set second to last node equal to None (detaches Node)\n",
    "        # 3) Edge Case: if only one item in Linked List, set tail and head to None\n",
    "        # 4) Edge case: if no items, then nothing to pop\n",
    "        \n",
    "        if self.head is None: # Edge case, if length == 0\n",
    "            print('No more items to pop!') \n",
    "            return None\n",
    "        \n",
    "        tmp = self.head # Start at the head\n",
    "        if self.head is not None and self.head.next is None: # Edge Case, check is head is not empty but it's pointer is None\n",
    "            self.head = None \n",
    "            self.tail = None\n",
    "\n",
    "        else:\n",
    "            # Loop through the LL\n",
    "            while tmp.next is not None:\n",
    "                pre = tmp # Set the current node to pre so pre is always one behind tmp at the beginning of loop\n",
    "                tmp = tmp.next # Move to the next node\n",
    "\n",
    "            self.tail = pre # Tail is set to second to last node\n",
    "            self.tail.next = None # Point to nothing, detaching old last node\n",
    "        self.length -= 1\n",
    "        return tmp.value # Return popped item\n",
    "\n",
    "    def pop_first(self):\n",
    "        # 1) Set head to next node \n",
    "        # 2) remove Pointer from old head (stored as tmp variable)\n",
    "        # 3) Edge Case: if only one item in Linked List, set tail and head to None\n",
    "        # 4) Edge case: if no items, then nothing to pop\n",
    "\n",
    "        if self.head is None: # Edge case, if length == 0\n",
    "            print('No more items to pop!') \n",
    "            return None\n",
    "        \n",
    "        tmp = self.head # Start at the head\n",
    "        if self.head is not None and self.head.next is None: # Edge Case, check is head is not empty but it's pointer is None\n",
    "            self.head = None \n",
    "            self.tail = None\n",
    "            self.length -= 1\n",
    "\n",
    "        else:\n",
    "            self.head = self.head.next\n",
    "            tmp.next = None\n",
    "            self.length -= 1\n",
    "\n",
    "        return tmp.value # Return popped item\n",
    "\n",
    "    def get_value(self, index):\n",
    "        # Loop through LL until we are at index\n",
    "        # Return value at index\n",
    "        # Edge case: make sure index in bounds\n",
    "\n",
    "        if index < 0 or index >= self.length: # Check index bounds\n",
    "            print('Index out of bounds!')\n",
    "            return None\n",
    "\n",
    "        tmp = self.head\n",
    "        for _ in range(index):\n",
    "            tmp = tmp.next\n",
    "\n",
    "        return tmp\n",
    "\n",
    "    def set_value(self, index, value):\n",
    "        # Loop through LL until we are at index\n",
    "        # Return True\n",
    "        # Edge case: make sure index in bounds\n",
    "\n",
    "        if index < 0 or index >= self.length:\n",
    "            print('Index out of bounds!')\n",
    "            return False\n",
    "\n",
    "        tmp = self.head\n",
    "        for _ in range(index):\n",
    "            tmp = tmp.next\n",
    "        \n",
    "        tmp.value = value\n",
    "        return True\n",
    "\n",
    "\n",
    "        # ALTERNATIVE CODE FOR CONCISENESS; CALLING get_value FUNCTION\n",
    "        # tmp = self.get_value(index)\n",
    "        # if tmp:\n",
    "        #     tmp.value = value\n",
    "        #     return True\n",
    "        # return False\n",
    "\n",
    "    def insert(self, index, value):\n",
    "        # Loop through LL until we are at index (can call get_value on the previous index)\n",
    "        # Return value at index\n",
    "        # Edge case: make sure index in bounds\n",
    "        # Edge case: index = 0, call prepend\n",
    "        # Edge case: index = self.length, call append\n",
    "\n",
    "        if index < 0 or index > self.length:\n",
    "            print('Index out of bounds!')\n",
    "            return False\n",
    "\n",
    "        if index == 0:\n",
    "            return self.prepend(value) # Returns True or False\n",
    "\n",
    "        if index == self.length:\n",
    "            return self.append(value) # Returns True or False\n",
    "\n",
    "        new_node = Node(value)\n",
    "        \n",
    "        tmp = self.head\n",
    "        for _ in range(index - 1):  # Can use tmp = self.get_value(index - 1) to get previous node instead of for loop\n",
    "            tmp = tmp.next\n",
    "\n",
    "        new_node.next = tmp.next # point new node to node that is currently at index (moves that node to index + 1)\n",
    "        tmp.next = new_node # point previous node in LL to new node\n",
    "        self.length += 1\n",
    "        return True\n",
    "\n",
    "\n",
    "    def remove(self, index):\n",
    "        # Loop through LL and store current and previous node (can use self.get_value instead of loop)\n",
    "        # Set previous node pointer to the pointer of tmp node\n",
    "        # Detach tmp node by setting next to None\n",
    "        # Edge case: make sure index in bounds\n",
    "        # Edge case: index = 0, call pop_first\n",
    "        # Edge case: index = self.length-1, call pop\n",
    "\n",
    "        if index < 0 or index >= self.length: # >= because cannot remove after tail\n",
    "            return None \n",
    "\n",
    "        if index == 0:\n",
    "            return self.pop_first()\n",
    "\n",
    "        if index == self.length - 1:\n",
    "            return self.pop()\n",
    "\n",
    "        tmp = self.head\n",
    "        for _ in range(index): # Can use prev = self.get_value(index - 1), tmp = prev.next to get previous node instead of for loop\n",
    "            prev = tmp \n",
    "            tmp = tmp.next\n",
    "\n",
    "        prev.next = tmp.next # set previous node pointer to node after node of removal\n",
    "        tmp.next = None # Detach node of removal completely\n",
    "        self.length -= 1\n",
    "        return tmp\n",
    "\n",
    "    def reverse(self):\n",
    "        # Switch head and tail -- set tmp = head, set head = tail, set tail = tmp\n",
    "        # Iterate through list by having before and after variables\n",
    "        # Set after to node after current and before to None\n",
    "        # Loop: set after = tmp.next (to move to next node iteratively), tmp.next = before (flip of pointer), before = tmp (Now before is pointing to current node), tmp = after (temp is now at the next node and repeat process)\n",
    "\n",
    "        tmp = self.head \n",
    "        self.head = self.tail\n",
    "        self.tail = tmp\n",
    "\n",
    "        before = None\n",
    "\n",
    "        for _ in range(self.length): # Can also do while tmp is not None or while tmp\n",
    "            after = tmp.next\n",
    "            tmp.next = before\n",
    "            before = tmp\n",
    "            tmp = after\n",
    "            \n",
    "            \n",
    "    def pairwise_swap(self):\n",
    "        # Edge Case: if LL is empty or has one node, then do nothing (return)\n",
    "        # Start with head and set a prev variable initialized to None\n",
    "        # Iterate through LL until tmp not None and tmp.next not None\n",
    "        # In loop, store after variable\n",
    "        # Swap tmp and after\n",
    "        # If prev is None, set head to new head (i.e. set head equal to after)\n",
    "        # Else, set prev pointer to after (which is before temp now)\n",
    "        # Move pointers forward (prev = tmp, tmp = tmp.next)\n",
    "        if self.head is None or self.head.next is None:\n",
    "            return\n",
    "\n",
    "        tmp = self.head  # Start with the head\n",
    "        prev = None  # Initialize previous node as None\n",
    "\n",
    "        # Traverse the linked list\n",
    "        while tmp is not None and tmp.next is not None:\n",
    "            after = tmp.next  # Second node in the pair\n",
    "\n",
    "            # Swap nodes\n",
    "            tmp.next = after.next\n",
    "            after.next = tmp\n",
    "\n",
    "            # Update the head for the first pair\n",
    "            if prev is None:\n",
    "                self.head = after\n",
    "            else:\n",
    "                prev.next = after  # Link previous pair to the current swapped pair\n",
    "            \n",
    "            # Move pointers forward\n",
    "            prev = tmp\n",
    "            tmp = tmp.next\n",
    "            \n",
    "            \n",
    "        \n",
    "        \n",
    "        \n",
    "    \n",
    "\n",
    "    \n",
    "        \n",
    "            \n",
    "        \n",
    "            \n",
    "            \n",
    "            \n",
    "        \n",
    "\n",
    "        \n",
    "        \n",
    "        \n",
    "\n",
    "\n",
    "\n",
    "my_linked_list = LinkedList(4)\n",
    "    "
   ]
  },
  {
   "cell_type": "code",
   "execution_count": 3,
   "id": "48bac114-ed6d-43f6-8865-c0078abd7410",
   "metadata": {},
   "outputs": [
    {
     "name": "stdout",
     "output_type": "stream",
     "text": [
      "4\n",
      "None\n"
     ]
    }
   ],
   "source": [
    "print(my_linked_list.head.value)\n",
    "print(my_linked_list.head.next)"
   ]
  },
  {
   "cell_type": "code",
   "execution_count": 4,
   "id": "5f034f9e-05cf-4763-b674-9e1dccd7e7fd",
   "metadata": {},
   "outputs": [
    {
     "name": "stdout",
     "output_type": "stream",
     "text": [
      "1\n",
      "3\n",
      "3\n",
      "2\n"
     ]
    }
   ],
   "source": [
    "my_linked_list = LinkedList(1)\n",
    "my_linked_list.append(3)\n",
    "my_linked_list.append(3)\n",
    "my_linked_list.append(2)\n",
    "my_linked_list.print_list()"
   ]
  },
  {
   "cell_type": "code",
   "execution_count": 5,
   "id": "978ef9c5-dd49-463b-a43f-58a12e2d91b9",
   "metadata": {},
   "outputs": [
    {
     "data": {
      "text/plain": [
       "1"
      ]
     },
     "execution_count": 5,
     "metadata": {},
     "output_type": "execute_result"
    }
   ],
   "source": [
    "my_linked_list.pop_first()"
   ]
  },
  {
   "cell_type": "code",
   "execution_count": 6,
   "id": "890575a0-a66c-4fa1-9f86-abcccdc7c05b",
   "metadata": {},
   "outputs": [
    {
     "name": "stdout",
     "output_type": "stream",
     "text": [
      "3\n",
      "3\n",
      "2\n"
     ]
    }
   ],
   "source": [
    "\n",
    "my_linked_list.print_list()"
   ]
  },
  {
   "cell_type": "code",
   "execution_count": 7,
   "id": "de3d5698-4c72-4d70-baee-1da52e848301",
   "metadata": {},
   "outputs": [
    {
     "data": {
      "text/plain": [
       "2"
      ]
     },
     "execution_count": 7,
     "metadata": {},
     "output_type": "execute_result"
    }
   ],
   "source": [
    "my_linked_list.pop()"
   ]
  },
  {
   "cell_type": "code",
   "execution_count": 8,
   "id": "2fe7c98b-19a4-4458-96e1-3042170113fa",
   "metadata": {},
   "outputs": [
    {
     "name": "stdout",
     "output_type": "stream",
     "text": [
      "3\n",
      "3\n"
     ]
    }
   ],
   "source": [
    "my_linked_list.print_list()"
   ]
  },
  {
   "cell_type": "code",
   "execution_count": 9,
   "id": "48fc6e76-a76a-426d-aab6-d17817b65c99",
   "metadata": {},
   "outputs": [
    {
     "data": {
      "text/plain": [
       "3"
      ]
     },
     "execution_count": 9,
     "metadata": {},
     "output_type": "execute_result"
    }
   ],
   "source": [
    "my_linked_list.get_value(1).value"
   ]
  },
  {
   "cell_type": "code",
   "execution_count": 10,
   "id": "f85de465-718c-4be6-b9a8-01a6b65ef967",
   "metadata": {},
   "outputs": [
    {
     "data": {
      "text/plain": [
       "<__main__.Node at 0x214a4e141d0>"
      ]
     },
     "execution_count": 10,
     "metadata": {},
     "output_type": "execute_result"
    }
   ],
   "source": [
    "my_linked_list.append(2)\n",
    "my_linked_list.append(234)\n",
    "my_linked_list.get_value(1)"
   ]
  },
  {
   "cell_type": "code",
   "execution_count": 11,
   "id": "3520176e-51e1-4ca3-b719-f8e759a0d947",
   "metadata": {},
   "outputs": [
    {
     "data": {
      "text/plain": [
       "True"
      ]
     },
     "execution_count": 11,
     "metadata": {},
     "output_type": "execute_result"
    }
   ],
   "source": [
    "my_linked_list.set_value(2,4)"
   ]
  },
  {
   "cell_type": "code",
   "execution_count": 12,
   "id": "3185ce76-c295-489c-8ffb-7dd2350c5fcf",
   "metadata": {},
   "outputs": [
    {
     "name": "stdout",
     "output_type": "stream",
     "text": [
      "3\n",
      "3\n",
      "4\n",
      "234\n"
     ]
    }
   ],
   "source": [
    "my_linked_list.print_list()"
   ]
  },
  {
   "cell_type": "code",
   "execution_count": 13,
   "id": "f4e37173-a9bf-4c10-bde8-0c9a236a1747",
   "metadata": {},
   "outputs": [
    {
     "data": {
      "text/plain": [
       "True"
      ]
     },
     "execution_count": 13,
     "metadata": {},
     "output_type": "execute_result"
    }
   ],
   "source": [
    "my_linked_list.prepend(12)"
   ]
  },
  {
   "cell_type": "code",
   "execution_count": 14,
   "id": "f6c37b7e-93f2-424a-817d-6b4544b8d850",
   "metadata": {},
   "outputs": [
    {
     "name": "stdout",
     "output_type": "stream",
     "text": [
      "12\n",
      "3\n",
      "3\n",
      "4\n",
      "234\n"
     ]
    }
   ],
   "source": [
    "my_linked_list.print_list()"
   ]
  },
  {
   "cell_type": "code",
   "execution_count": 15,
   "id": "abc154b4-35dd-442b-93a2-1626a4f3c3b2",
   "metadata": {},
   "outputs": [
    {
     "name": "stdout",
     "output_type": "stream",
     "text": [
      "12\n",
      "3\n",
      "5\n",
      "3\n",
      "4\n",
      "234\n"
     ]
    }
   ],
   "source": [
    "my_linked_list.insert(2, 5)\n",
    "my_linked_list.print_list()"
   ]
  },
  {
   "cell_type": "code",
   "execution_count": 16,
   "id": "4ca20b07-b265-4646-bfe5-f6b7c16bdf5f",
   "metadata": {},
   "outputs": [
    {
     "name": "stdout",
     "output_type": "stream",
     "text": [
      "12\n",
      "3\n",
      "5\n",
      "4\n",
      "234\n"
     ]
    }
   ],
   "source": [
    "my_linked_list.remove(3)\n",
    "my_linked_list.print_list()"
   ]
  },
  {
   "cell_type": "code",
   "execution_count": 17,
   "id": "913a1607-f88e-43b7-b8ca-619cd5619e50",
   "metadata": {},
   "outputs": [
    {
     "name": "stdout",
     "output_type": "stream",
     "text": [
      "234\n",
      "4\n",
      "5\n",
      "3\n",
      "12\n"
     ]
    }
   ],
   "source": [
    "my_linked_list.reverse()\n",
    "\n",
    "my_linked_list.print_list()"
   ]
  },
  {
   "cell_type": "code",
   "execution_count": 18,
   "id": "067b987c-4827-4ffe-8c59-ca201438feb3",
   "metadata": {},
   "outputs": [],
   "source": [
    "my_linked_list.pairwise_swap()\n"
   ]
  },
  {
   "cell_type": "code",
   "execution_count": 19,
   "id": "bbbf92bb-3f39-4b1c-95ac-2901225ba7fd",
   "metadata": {},
   "outputs": [
    {
     "name": "stdout",
     "output_type": "stream",
     "text": [
      "4\n",
      "234\n",
      "3\n",
      "5\n",
      "12\n"
     ]
    }
   ],
   "source": [
    "my_linked_list.print_list()"
   ]
  },
  {
   "cell_type": "markdown",
   "id": "f21783ea-3ad3-4f60-9abd-f167ec127bf5",
   "metadata": {},
   "source": [
    "# Algorithms"
   ]
  },
  {
   "cell_type": "markdown",
   "id": "90eac43b-1778-4cc2-a1b0-2f7dd5c8d155",
   "metadata": {},
   "source": [
    "## Find Middle Node"
   ]
  },
  {
   "cell_type": "code",
   "execution_count": 20,
   "id": "7aab5d0c-05a8-40b6-bdcf-f6220add7aab",
   "metadata": {},
   "outputs": [],
   "source": [
    "def find_middle_node(self):\n",
    "    # 1) Initialize slow and fast variable to head\n",
    "    # 2) Loop through LL while fast and fast.next are not None -> slow moving one at a time, fast moving two at a time\n",
    "    # 3) Return slow \n",
    "\n",
    "    slow = self.head \n",
    "    fast = self.head\n",
    "\n",
    "    while fast is not None and fast.next is not None:\n",
    "        slow = slow.next \n",
    "        fast = fast.next.next \n",
    "\n",
    "    return slow \n",
    "\n",
    "LinkedList.find_middle_node = find_middle_node"
   ]
  },
  {
   "cell_type": "code",
   "execution_count": 21,
   "id": "0f176b5b-81b1-414b-95ee-03fa9677a619",
   "metadata": {},
   "outputs": [
    {
     "data": {
      "text/plain": [
       "3"
      ]
     },
     "execution_count": 21,
     "metadata": {},
     "output_type": "execute_result"
    }
   ],
   "source": [
    "my_linked_list.find_middle_node().value"
   ]
  },
  {
   "cell_type": "markdown",
   "id": "a87b51a9-c4d3-4afa-a998-ec600f79c002",
   "metadata": {},
   "source": [
    "## Has Loop"
   ]
  },
  {
   "cell_type": "code",
   "execution_count": 22,
   "id": "5e7115f7-ae3d-464e-a493-9995b1af7d02",
   "metadata": {},
   "outputs": [],
   "source": [
    "def has_loop(self):\n",
    "    # 1) Initialize slow and fast variable to head\n",
    "    # 2) Loop through LL while fast and fast.next are not None -> slow moving one at a time, fast moving two at a time\n",
    "    # 3) If fast == slow, return True\n",
    "    # 4) Return False after loop\n",
    "\n",
    "    slow = self.head \n",
    "    fast = self.head \n",
    "\n",
    "    while fast is not None and fast.next is not None:\n",
    "        slow = slow.next\n",
    "        fast = fast.next.next\n",
    "\n",
    "        if slow == fast:\n",
    "            return True \n",
    "    return False\n",
    "\n",
    "LinkedList.has_loop = has_loop"
   ]
  },
  {
   "cell_type": "code",
   "execution_count": 23,
   "id": "27647b9e-17c7-4771-a2ad-dd4607f31334",
   "metadata": {},
   "outputs": [
    {
     "data": {
      "text/plain": [
       "False"
      ]
     },
     "execution_count": 23,
     "metadata": {},
     "output_type": "execute_result"
    }
   ],
   "source": [
    "my_linked_list.has_loop()"
   ]
  },
  {
   "cell_type": "markdown",
   "id": "e2fbfd19-20e4-4fc3-9cc5-433a0cf1ce1e",
   "metadata": {},
   "source": [
    "## Find and Delete Middle Node"
   ]
  },
  {
   "cell_type": "code",
   "execution_count": 24,
   "id": "269690b5-ae70-4cb3-be76-74a7aa7de9c9",
   "metadata": {},
   "outputs": [],
   "source": [
    "def delete_middle(self):\n",
    "    # 1) Check if node only one node -> return none\n",
    "    # 2) Set fast, slow and pre variables all to head\n",
    "    # 3) while fast and fast.next have values, increment fast two pointers at a time, set pre to slow and increment slow\n",
    "    # 4) after loop set pre.next to slow.next to remove middle\n",
    "\n",
    "    if self.head.next is None:\n",
    "        return None \n",
    "\n",
    "    fast = self.head \n",
    "    slow = self.head\n",
    "    pre = self.head \n",
    "\n",
    "    while fast and fast.next:\n",
    "        fast = fast.next.next \n",
    "        pre = slow\n",
    "        slow = slow.next \n",
    "\n",
    "    pre.next = slow.next \n",
    "\n",
    "LinkedList.delete_middle = delete_middle\n",
    "\n",
    "from typing import Optional\n",
    "#### Leetcode implementation\n",
    "def deleteMiddle(self, head: Optional[Node]) -> Optional[Node]:\n",
    "    \n",
    "    slow = head \n",
    "    fast = head\n",
    "\n",
    "    if head.next is None:\n",
    "        return None\n",
    "\n",
    "    while fast and fast.next:\n",
    "        fast = fast.next.next\n",
    "        pre = slow\n",
    "        slow = slow.next \n",
    "    \n",
    "    pre.next = slow.next \n",
    "\n",
    "    return head\n"
   ]
  },
  {
   "cell_type": "markdown",
   "id": "783e1373-92da-41f2-a503-963c0e9a34c1",
   "metadata": {},
   "source": [
    "## Bubble Sort for Linked List"
   ]
  },
  {
   "cell_type": "code",
   "execution_count": 25,
   "id": "a69de1e1-0835-4319-89cf-fcc2f43946c4",
   "metadata": {},
   "outputs": [],
   "source": [
    "## Bubble Sort a Linked List: Two implementations\n",
    "\n",
    "\n",
    "\n",
    "# Utilizes self.length\n",
    "def bubble_sort(self):\n",
    "    \n",
    "    # If Linked List only has 1 or less items, return\n",
    "    if self.length < 2:\n",
    "        return \n",
    "    \n",
    "    # Start from second to last item in list and move down \n",
    "    # Everything greated than _ in an iteration has been sorted\n",
    "    for _ in range(self.length-1, 0, -1):\n",
    "        \n",
    "        # Track head \n",
    "        tmp = self.head\n",
    "        \n",
    "        # Loop from head to end of unsorted portion of list (_)\n",
    "        for j in range(_):\n",
    "            \n",
    "            # Store the next item to compare\n",
    "            next_node = tmp.next \n",
    "            \n",
    "            # If current item is greater than next item, swap \n",
    "            if tmp.value > next_node.value:\n",
    "                next_node.value, tmp.value = tmp.value, next_node.value\n",
    "            \n",
    "            # Move up in the list \n",
    "            tmp = tmp.next\n",
    "    return\n",
    "\n",
    "LinkedList.bubble_sort_length = bubble_sort\n",
    "\n",
    "\n",
    "# Utilizes while loop (no consideration of self.length)\n",
    "def bubble_sort(self):\n",
    "    # Check if sorting is needed. If the list has fewer\n",
    "    # than 2 elements, it's already sorted. In such a\n",
    "    # case, exit the function as no sorting is needed.\n",
    "    if self.length < 2:\n",
    "        return\n",
    "    \n",
    "    # Initialize 'sorted_until' to None. This marker will\n",
    "    # indicate the boundary between the sorted part of\n",
    "    # the list and the part that still needs sorting.\n",
    "    sorted_until = None\n",
    "    \n",
    "    # Start the outer loop. This loop will continue\n",
    "    # running until the sorted section of the list\n",
    "    # includes the second node, meaning the whole\n",
    "    # list is sorted.\n",
    "    while sorted_until != self.head.next:\n",
    "        # Initialize 'current' at the head of the list.\n",
    "        # 'current' will traverse the list for sorting.\n",
    "        current = self.head\n",
    " \n",
    "        # Begin the inner loop. It runs until 'current'\n",
    "        # reaches the 'sorted_until' node. This loop is\n",
    "        # where the actual comparison and sorting happen.\n",
    "        while current.next != sorted_until:\n",
    "            # Identify 'next_node', the node immediately\n",
    "            # following 'current'. This is essential for\n",
    "            # comparing adjacent nodes.\n",
    "            next_node = current.next\n",
    " \n",
    "            # Compare values of 'current' and 'next_node'.\n",
    "            # If 'current' is greater, swap their values.\n",
    "            # This action bubbles up larger values towards\n",
    "            # the end of the list, achieving sorting.\n",
    "            if current.value > next_node.value:\n",
    "                current.value, next_node.value = \\\n",
    "                    next_node.value, current.value\n",
    "            \n",
    "            # Advance 'current' to the next node in the list.\n",
    "            # This progression is crucial for continuing\n",
    "            # the sorting process.\n",
    "            current = current.next\n",
    " \n",
    "        # Update 'sorted_until' after each full pass of\n",
    "        # the inner loop. This moves the boundary of the\n",
    "        # sorted section one node forward, shrinking the\n",
    "        # unsorted section accordingly.\n",
    "        sorted_until = current\n",
    "\n",
    "LinkedList.bubble_sort = bubble_sort"
   ]
  },
  {
   "cell_type": "markdown",
   "id": "4d06d7c5-a96f-4591-bc8c-b8eb76f97829",
   "metadata": {},
   "source": [
    "## Merge Two Linked Lists"
   ]
  },
  {
   "cell_type": "code",
   "execution_count": 26,
   "id": "d0b81abb-c4ab-4558-8a6e-ed7171af91ea",
   "metadata": {},
   "outputs": [],
   "source": [
    "def merge(self, other_list):\n",
    "        # Create dummy node to store new Linked List\n",
    "        dummy = Node(0)\n",
    "\n",
    "        # Create pointer to dummy\n",
    "        current = dummy\n",
    "\n",
    "        # Create pointers to starts of both Linked Lists\n",
    "        self_tmp = self.head\n",
    "        other_tmp = other_list.head\n",
    "\n",
    "        # Loop through list while both list have not been traversed\n",
    "        while self_tmp is not None and other_tmp is not None:\n",
    "\n",
    "            # if self position value is less than other position value\n",
    "            if self_tmp.value < other_tmp.value:\n",
    "                # Add self\n",
    "                current.next = self_tmp\n",
    "\n",
    "                # Step to next node\n",
    "                self_tmp = self_tmp.next\n",
    "            else:\n",
    "                # Add other\n",
    "                current.next = other_tmp\n",
    "\n",
    "                # Step to next node\n",
    "                other_tmp = other_tmp.next\n",
    "            # Move forward in new LL\n",
    "            current = current.next\n",
    "\n",
    "        # Check if there is any in self and add\n",
    "        if self_tmp is not None:\n",
    "            current.next = self_tmp\n",
    "        # Check if there is any left in other and add\n",
    "        else:\n",
    "            current.next = other_tmp\n",
    "            \n",
    "            # Set tail to last item in new LL\n",
    "            # Can also go here since self.tail is already on last item in self list so it does not need to be down outside of conditional\n",
    "            # But we do it anyways for clarity\n",
    "            # self.tail = current.next\n",
    "\n",
    "        # Set head to dummy pointer to keep track of new list\n",
    "        self.head = dummy.next\n",
    "        # Set tail to last item in new LL\n",
    "        self.tail = current.next\n",
    "        \n",
    "        # Detach dummy\n",
    "        dummy.next = None \n",
    "        \n",
    "        # Add lengths to update lengths\n",
    "        self.length += other_list.length\n",
    "\n",
    "LinkedList.merge = merge"
   ]
  },
  {
   "cell_type": "code",
   "execution_count": null,
   "id": "4bd073cd-d022-4593-b223-fe344aedf8eb",
   "metadata": {},
   "outputs": [],
   "source": []
  }
 ],
 "metadata": {
  "kernelspec": {
   "display_name": "Python 3 (ipykernel)",
   "language": "python",
   "name": "python3"
  },
  "language_info": {
   "codemirror_mode": {
    "name": "ipython",
    "version": 3
   },
   "file_extension": ".py",
   "mimetype": "text/x-python",
   "name": "python",
   "nbconvert_exporter": "python",
   "pygments_lexer": "ipython3",
   "version": "3.11.0"
  }
 },
 "nbformat": 4,
 "nbformat_minor": 5
}
