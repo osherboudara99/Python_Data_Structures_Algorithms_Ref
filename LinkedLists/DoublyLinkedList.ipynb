{
 "cells": [
  {
   "cell_type": "markdown",
   "id": "583df831-b86b-4e8f-aed6-aade6616fbb2",
   "metadata": {},
   "source": [
    "# Doubly Linked List\n",
    "A type of Linked List but with pointers to the next and previous nodes"
   ]
  },
  {
   "cell_type": "code",
   "execution_count": 30,
   "id": "28fc9e66-ec96-42a3-b365-350a6dbde6ac",
   "metadata": {},
   "outputs": [],
   "source": [
    "class Node:\n",
    "    def __init__(self,value):\n",
    "        self.value = value\n",
    "        self.prev = None # Only difference from Single Linked List\n",
    "        self.next = None \n",
    "\n",
    "class DoublyLinkedList:\n",
    "    def __init__(self,value): # Same as LL\n",
    "        new_node = Node(value)\n",
    "        self.head = new_node\n",
    "        self.tail = new_node\n",
    "        self.length = 1\n",
    "\n",
    "    def print_list(self): # Same as LL\n",
    "        tmp = self.head\n",
    "        while tmp is not None:\n",
    "            print(tmp.value)\n",
    "            tmp = tmp.next\n",
    "\n",
    "    def append(self, value):\n",
    "        # Check if None -> set tail and head to new_node\n",
    "        # Else, set tail next pointer to new node, set new node prev pointer to tail, and move tail to new node\n",
    "        new_node = Node(value)\n",
    "        if self.head is None:\n",
    "            self.head = new_node\n",
    "            self.tail = new_node\n",
    "        else:\n",
    "            self.tail.next = new_node\n",
    "            new_node.prev = self.tail # Only difference from LL\n",
    "            self.tail = new_node\n",
    "        self.length += 1\n",
    "        return True\n",
    "\n",
    "    def pop(self): # O(1) for Doubly Linked List since we do not have to iterate\n",
    "        # Set New tail to prev\n",
    "        # Set New tail next pointer to none\n",
    "        # Completely detach old tail by set prev to None\n",
    "        # Edge case: if only one node, set tail and head to none\n",
    "        # Edge case: if no nodes, return None\n",
    "        \n",
    "        if self.head is None: # if length == 0:\n",
    "            return None\n",
    "\n",
    "        tmp = self.tail\n",
    "        if self.head is not None and self.head.next is None: # if length == 1:\n",
    "            self.head = None\n",
    "            self.tail = None\n",
    "\n",
    "        else: # Section that is different from LL\n",
    "            self.tail = self.tail.prev\n",
    "            self.tail.next = None\n",
    "            tmp.prev = None # To detach\n",
    "        self.length -= 1\n",
    "        return tmp\n",
    "        \n",
    "\n",
    "    def prepend(self, value):\n",
    "        # Point new node next to head\n",
    "        # Point prev pointer of head to new_node\n",
    "        # Set head = new_node\n",
    "        # Edge case: Check if None -> set tail and head to new_node\n",
    "\n",
    "        new_node = Node(value)\n",
    "\n",
    "        if self.head is None: # if length == 0\n",
    "            self.head = new_node\n",
    "            self.tail = new_node\n",
    "        else:\n",
    "            new_node.next = self.head # Point new node next to head\n",
    "            self.head.prev = new_node # Point prev pointer of head to new_node\n",
    "            self.head = new_node\n",
    "\n",
    "        self.length += 1\n",
    "        return True\n",
    "\n",
    "    def pop_first(self):\n",
    "        # Set head to the next node\n",
    "        # Set the prev node of new head to None\n",
    "        # Detach old head (tmp.next = None)\n",
    "        # Edge case: if only one node, set tail and head to none\n",
    "        # Edge case: if no nodes, return None\n",
    "\n",
    "        if self.head is None: # length == 0\n",
    "            return None\n",
    "        \n",
    "        tmp = self.head\n",
    "        if self.head is not None and self.head.next is None: # If length == 1\n",
    "            self.head = None\n",
    "            self.tail = None\n",
    "        else:\n",
    "            self.head = self.head.next\n",
    "            self.head.prev = None\n",
    "            tmp.next = None\n",
    "        self.length -= 1\n",
    "        return tmp\n",
    "\n",
    "    def get(self, index):\n",
    "        # Can use LL version\n",
    "        # This is optimized version\n",
    "        # 1) Edge case: make sure index is in range\n",
    "        # 2) Check if index is less than half -> loop as normal\n",
    "        # 3) if index not less than half -> start from tail and loop down to middle\n",
    "        if index < 0 or index >= self.length:\n",
    "            return None\n",
    "\n",
    "        if index < self.length / 2:\n",
    "            tmp = self.head \n",
    "            for _ in range(index):\n",
    "                tmp = tmp.next\n",
    "        else:\n",
    "            tmp = self.tail\n",
    "            for _ in range(self.length - 1, index, -1):\n",
    "                tmp = tmp.prev\n",
    "\n",
    "        return tmp\n",
    "\n",
    "    def set_value(self, index, value):\n",
    "\n",
    "        # if index < 0 or index >= self.length:\n",
    "        #     return None\n",
    "\n",
    "        # if index < self.length / 2:\n",
    "        #     tmp = self.head\n",
    "        #     for _ in range(index):\n",
    "        #         tmp = tmp.next\n",
    "        # else:\n",
    "        #     tmp = self.tail \n",
    "        #     for _ in range(self.length - 1, index, -1):\n",
    "        #         tmp = tmp.prev\n",
    "\n",
    "        tmp = self.get(index)\n",
    "        if tmp:\n",
    "            tmp.value = value\n",
    "            return True\n",
    "        return False\n",
    "\n",
    "    def insert(self, index, value):\n",
    "        # 3 edge cases: out of bounds, index == 0, index == length\n",
    "        if index < 0 or index > self.length:\n",
    "            return False\n",
    "\n",
    "        if index == 0:\n",
    "            return self.prepend(value)\n",
    "\n",
    "        if index == self.length:\n",
    "            return self.append(value)\n",
    "\n",
    "        # init node\n",
    "        new_node = Node(value)\n",
    "\n",
    "        # Get before node and after node \n",
    "        before = self.get(index - 1)\n",
    "        after = before.next\n",
    "\n",
    "        # Set pointers for new node to before and after\n",
    "        new_node.prev = before\n",
    "        new_node.next = after\n",
    "        \n",
    "        # Set previous point for after to new node\n",
    "        after.prev = new_node\n",
    "\n",
    "        # Set next pointer for before to new node\n",
    "        before.next = new_node\n",
    "\n",
    "        self.length += 1\n",
    "        return True\n",
    "\n",
    "\n",
    "    def remove(self, index):\n",
    "\n",
    "        if index < 0 or index >= self.length:\n",
    "            return None\n",
    "\n",
    "        if index == 0:\n",
    "            return self.pop_first()\n",
    "\n",
    "        if index == self.length - 1:\n",
    "            return self.pop()\n",
    "\n",
    "        ## One Method\n",
    "\n",
    "        before = self.get(index - 1)\n",
    "        temp = before.next\n",
    "        after = temp.next\n",
    "\n",
    "        before.next = after\n",
    "        temp.prev = None\n",
    "        temp.next = None\n",
    "        after.prev = before\n",
    "\n",
    "        ## Alternate\n",
    "        # temp = self.get(index)\n",
    "\n",
    "        # temp.next.prev = temp.prev\n",
    "        # temp.prev.next = temp.next\n",
    "        # temp.next = None\n",
    "        # temp.prev = None\n",
    "\n",
    "        \n",
    "\n",
    "        self.length -= 1\n",
    "\n",
    "        return temp\n",
    "        \n",
    "            \n",
    "            \n",
    "\n",
    "        \n",
    "            \n",
    "            \n",
    "        \n",
    "\n",
    "    "
   ]
  },
  {
   "cell_type": "code",
   "execution_count": 31,
   "id": "197845ed-3dd6-4a02-9c01-dc30fa8ba81c",
   "metadata": {},
   "outputs": [],
   "source": [
    "dll = DoublyLinkedList(3)"
   ]
  },
  {
   "cell_type": "code",
   "execution_count": 32,
   "id": "7af2ca81-6d8c-4e99-bfd4-753d0e89f6fe",
   "metadata": {},
   "outputs": [
    {
     "name": "stdout",
     "output_type": "stream",
     "text": [
      "3\n"
     ]
    }
   ],
   "source": [
    "dll.print_list()"
   ]
  },
  {
   "cell_type": "code",
   "execution_count": 33,
   "id": "5b264b29-2fab-4856-9cde-8ad8e0a7bb8d",
   "metadata": {},
   "outputs": [
    {
     "data": {
      "text/plain": [
       "True"
      ]
     },
     "execution_count": 33,
     "metadata": {},
     "output_type": "execute_result"
    }
   ],
   "source": [
    "dll.append(2)\n",
    "dll.append(1)"
   ]
  },
  {
   "cell_type": "code",
   "execution_count": 34,
   "id": "3fd60548-0d30-48fc-aee9-dc0f3ab8fa82",
   "metadata": {},
   "outputs": [
    {
     "name": "stdout",
     "output_type": "stream",
     "text": [
      "3\n",
      "2\n",
      "1\n"
     ]
    }
   ],
   "source": [
    "dll.print_list()"
   ]
  },
  {
   "cell_type": "code",
   "execution_count": 35,
   "id": "a6b3f7ce-07da-423a-bf15-6e57d1ae2b17",
   "metadata": {},
   "outputs": [
    {
     "data": {
      "text/plain": [
       "<__main__.Node at 0x219a4316210>"
      ]
     },
     "execution_count": 35,
     "metadata": {},
     "output_type": "execute_result"
    }
   ],
   "source": [
    "dll.pop()"
   ]
  },
  {
   "cell_type": "code",
   "execution_count": 36,
   "id": "798676e6-dd03-44af-9f02-7531d66b8c2c",
   "metadata": {},
   "outputs": [
    {
     "name": "stdout",
     "output_type": "stream",
     "text": [
      "3\n",
      "2\n"
     ]
    }
   ],
   "source": [
    "dll.print_list()"
   ]
  },
  {
   "cell_type": "code",
   "execution_count": 37,
   "id": "6563de8a-7ccf-4e20-9845-7dfba3314b0a",
   "metadata": {},
   "outputs": [
    {
     "name": "stdout",
     "output_type": "stream",
     "text": [
      "3\n",
      "2\n"
     ]
    }
   ],
   "source": [
    "dll.print_list()"
   ]
  },
  {
   "cell_type": "code",
   "execution_count": 38,
   "id": "28622157-2d1b-4e03-9c34-d96785897fbc",
   "metadata": {},
   "outputs": [
    {
     "data": {
      "text/plain": [
       "True"
      ]
     },
     "execution_count": 38,
     "metadata": {},
     "output_type": "execute_result"
    }
   ],
   "source": [
    "dll.prepend(67)"
   ]
  },
  {
   "cell_type": "code",
   "execution_count": 39,
   "id": "79bb5fc4-29d5-4d54-b604-571998fe2e32",
   "metadata": {},
   "outputs": [
    {
     "name": "stdout",
     "output_type": "stream",
     "text": [
      "67\n",
      "3\n",
      "2\n"
     ]
    }
   ],
   "source": [
    "dll.print_list()"
   ]
  },
  {
   "cell_type": "code",
   "execution_count": 40,
   "id": "4756e677-77f5-4ec1-b121-efd72cf4eb5c",
   "metadata": {},
   "outputs": [
    {
     "data": {
      "text/plain": [
       "<__main__.Node at 0x219a3d5dd30>"
      ]
     },
     "execution_count": 40,
     "metadata": {},
     "output_type": "execute_result"
    }
   ],
   "source": [
    "dll.get(1)"
   ]
  },
  {
   "cell_type": "code",
   "execution_count": 41,
   "id": "c6b1cf16-b524-4691-b7bc-80add5ca5cf2",
   "metadata": {},
   "outputs": [
    {
     "name": "stdout",
     "output_type": "stream",
     "text": [
      "67\n",
      "6\n",
      "2\n"
     ]
    }
   ],
   "source": [
    "dll.set_value(1, 6)\n",
    "dll.print_list()"
   ]
  },
  {
   "cell_type": "code",
   "execution_count": 42,
   "id": "4c379bf5-c34c-43b8-84b8-d39d57b71f74",
   "metadata": {},
   "outputs": [
    {
     "name": "stdout",
     "output_type": "stream",
     "text": [
      "67\n",
      "6\n",
      "88\n",
      "2\n"
     ]
    }
   ],
   "source": [
    "dll.insert(2, 88)\n",
    "dll.print_list()"
   ]
  },
  {
   "cell_type": "code",
   "execution_count": 43,
   "id": "614cd44a-9917-443d-9a80-d8d07743112f",
   "metadata": {},
   "outputs": [
    {
     "name": "stdout",
     "output_type": "stream",
     "text": [
      "67\n",
      "6\n",
      "2\n"
     ]
    }
   ],
   "source": [
    "dll.remove(2)\n",
    "dll.print_list()"
   ]
  },
  {
   "cell_type": "code",
   "execution_count": null,
   "id": "beda96fc-6a01-440b-99b8-7264638ad509",
   "metadata": {},
   "outputs": [],
   "source": []
  }
 ],
 "metadata": {
  "kernelspec": {
   "display_name": "Python 3 (ipykernel)",
   "language": "python",
   "name": "python3"
  },
  "language_info": {
   "codemirror_mode": {
    "name": "ipython",
    "version": 3
   },
   "file_extension": ".py",
   "mimetype": "text/x-python",
   "name": "python",
   "nbconvert_exporter": "python",
   "pygments_lexer": "ipython3",
   "version": "3.13.0"
  }
 },
 "nbformat": 4,
 "nbformat_minor": 5
}
