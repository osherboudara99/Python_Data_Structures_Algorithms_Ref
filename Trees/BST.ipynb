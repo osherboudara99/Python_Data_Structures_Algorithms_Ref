{
 "cells": [
  {
   "cell_type": "markdown",
   "id": "05f53d45-ed22-4399-9b8d-b1080c0000c3",
   "metadata": {},
   "source": [
    "Trees\n",
    "\n",
    "\n",
    "- Full Tree : A tree where every node either points to TWO nodes or ZERO nodes\n",
    "\n",
    "- Perfect Tree : A tree that has all nodes in the level; if nodes missing at level then not perfect\n",
    "\n",
    "- Complete Tree : A tree that we are filling from left to right with no gaps; if gaps, not complete"
   ]
  },
  {
   "cell_type": "code",
   "execution_count": 2,
   "id": "869e4e19-bca8-4cb2-86df-b4021da75d5c",
   "metadata": {},
   "outputs": [
    {
     "data": {
      "text/plain": [
       "{'value': 11,\n",
       " 'left': {'value': 54, 'left': None, 'right': None},\n",
       " 'right': {'value': 75, 'left': None, 'right': None}}"
      ]
     },
     "execution_count": 2,
     "metadata": {},
     "output_type": "execute_result"
    }
   ],
   "source": [
    "#Tree Example as a dictionary\n",
    "\n",
    "\n",
    "{\n",
    "    \"value\":11,\n",
    "    \"left\":{\n",
    "        \"value\":54,\n",
    "        \"left\":None,\n",
    "        \"right\":None\n",
    "    },\n",
    "    \"right\":{\n",
    "        \"value\":75,\n",
    "        \"left\":None,\n",
    "        \"right\":None\n",
    "        \n",
    "    }\n",
    "}"
   ]
  },
  {
   "cell_type": "code",
   "execution_count": 5,
   "id": "f1678066-f16c-4b58-a664-2013305653b8",
   "metadata": {},
   "outputs": [],
   "source": [
    "# Full Binary Tree: A Binary Tree is full if every node has 0 or 2 children. Following are examples of a full binary tree.\n",
    "\n",
    "#          18\n",
    "#        /    \\   \n",
    "#      15      20    \n",
    "#     /  \\       \n",
    "#    40   50   \n",
    "#   /  \\\n",
    "#  30  50\n",
    "\n",
    "\n",
    "# Complete Binary Tree: A Binary Tree is complete Binary Tree if all levels are completely filled except possibly the last level and the last level has all keys as left as possible.\n",
    "\n",
    "#             18\n",
    "#        /         \\  \n",
    "#      15           30  \n",
    "#     /  \\         /  \\\n",
    "#   40    50     100   40\n",
    "#  /  \\   /\n",
    "# 8   7  9 \n",
    "\n",
    "\n",
    "\n",
    "# Perfect Binary Tree: A Binary tree is Perfect Binary Tree in which all internal nodes have two children and all leaves are at same level.\n",
    "\n",
    "#            18\n",
    "#        /       \\  \n",
    "#      15         30  \n",
    "#     /  \\        /  \\\n",
    "#   40    50    100   40"
   ]
  },
  {
   "cell_type": "markdown",
   "id": "d74d2982-aea8-4ece-aa72-4c71621950ef",
   "metadata": {},
   "source": [
    "- Parent and Child nodes: Parents are the root node of two childs (left and right). Childs on the same level are siblings\n",
    "\n",
    "- Leaf Node: a node with no children"
   ]
  },
  {
   "cell_type": "markdown",
   "id": "ed26b45f-a138-4b45-a227-bd975f111d68",
   "metadata": {},
   "source": [
    "# BST\n",
    "\n",
    "Binary Search Tree: Order matters. If new node being inserted is less than root, goes to left child. If it is bigger, goes to right child."
   ]
  },
  {
   "cell_type": "markdown",
   "id": "21c9ef3c-94b3-4204-953f-4e1214d3b81e",
   "metadata": {},
   "source": [
    "# Time Complexity"
   ]
  },
  {
   "cell_type": "markdown",
   "id": "973b9669-34b3-421f-a996-5a65ea88f748",
   "metadata": {},
   "source": [
    "2^n - 1 tells us the amount of nodes in a perfect tree where n = amount of levels in tree"
   ]
  },
  {
   "cell_type": "markdown",
   "id": "2556b886-5b56-4abb-a0b4-72e592fdb941",
   "metadata": {},
   "source": [
    "### Best Case"
   ]
  },
  {
   "cell_type": "code",
   "execution_count": 6,
   "id": "55e546e2-6457-4541-a7b0-4af7765da070",
   "metadata": {},
   "outputs": [],
   "source": [
    "# FYI, below tree is not a BST\n",
    "\n",
    "#            18            2^1 - 1 = 1               \n",
    "#        /       \\  \n",
    "#      15         30       2^2 - 1 = 3\n",
    "#     /  \\        /  \\\n",
    "#   40    50    100   40   2^3 - 1 = 7\n",
    "\n",
    "\n",
    "# Finding a node, removing a node, and adding a node in a tree are O(log n)\n",
    "# This is because when we step through the tree, we only need to step through the levels and with each level the nodes grow exponentially\n",
    "\n",
    "# Example: if I have 10 levels in my perfect tree then I have 2^10-1 = 1023 which is so many nodes \n",
    "# But since I only have to 10 levels, I only need 10 operations to add, remove or find a node so therefore O(log n)\n",
    "\n",
    "\n",
    "# Perfect BST gives us our best case scenario -> Omega(log n)\n"
   ]
  },
  {
   "cell_type": "markdown",
   "id": "27bb112d-480a-45c6-9bdb-f88ebe845b98",
   "metadata": {},
   "source": [
    "### Worst Case"
   ]
  },
  {
   "cell_type": "code",
   "execution_count": 17,
   "id": "3110ca64-2124-444a-9f16-6f0a0abe3fc2",
   "metadata": {},
   "outputs": [
    {
     "name": "stdout",
     "output_type": "stream",
     "text": [
      " 1\n",
      "  \\\n",
      "   2\n",
      "    \\\n",
      "     3\n",
      "      \\\n",
      "       4\n",
      "        \\\n"
     ]
    }
   ],
   "source": [
    "\n",
    "# Worst case scenario\n",
    "# Below case \n",
    "spaces=' '\n",
    "counter = 0\n",
    "for i in range(1, 5):\n",
    "    print(counter * spaces, i)\n",
    "    print(counter * spaces, \" \\\\\")\n",
    "    counter += 2"
   ]
  },
  {
   "cell_type": "markdown",
   "id": "11fb9733-e40d-46fc-96d5-d112c48563c0",
   "metadata": {},
   "source": [
    "The above tree is essentially a linked list. 4 nodes and 4 levels so therefore it is O(n) to traverse!\n",
    "\n",
    "Refer to Time Complexity Image in Basic folder for more time complexity questions"
   ]
  },
  {
   "cell_type": "markdown",
   "id": "8449bf85-c82b-46e4-90b6-fe75080864ac",
   "metadata": {},
   "source": [
    "# Binary Search Tree Implementation"
   ]
  },
  {
   "cell_type": "code",
   "execution_count": 26,
   "id": "7308f62d-a6d9-4d6a-afbd-119fa6988077",
   "metadata": {},
   "outputs": [],
   "source": [
    "class Node:\n",
    "    def __init__(self, value):\n",
    "        self.value = value\n",
    "        self.left = None\n",
    "        self.right = None"
   ]
  },
  {
   "cell_type": "code",
   "execution_count": 33,
   "id": "93179584-3138-48af-b972-aad70304bdc9",
   "metadata": {},
   "outputs": [],
   "source": [
    "class BinarySearchTree:\n",
    "    def __init__(self):\n",
    "        # Instead of initialize a new node to root, we create our tree empty and insert our first node with the insert method\n",
    "        self.root = None\n",
    "\n",
    "    def insert(self, value):\n",
    "        # Create Node\n",
    "        # Edge Case: if root is empty, new_node equals root\n",
    "        # Temp = root\n",
    "        # Loop through Tree and compare temp to new node\n",
    "        # If new node less than temp, move left else move right -> insert if None\n",
    "        # Edge case: if new_node.value == temp.value, return False\n",
    "        \n",
    "        new_node = Node(value)\n",
    "        \n",
    "        if self.root == None:\n",
    "            self.root = new_node \n",
    "            return True\n",
    "        \n",
    "        temp = self.root\n",
    "\n",
    "        while True:\n",
    "            if new_node.value == temp.value: # If value already exists in tree, return False\n",
    "                return False\n",
    "\n",
    "            if new_node.value < temp.value: # if new_node value is less than temp.value\n",
    "                if temp.left is None: # If temp.left is empty, insert!\n",
    "                    temp.left = new_node\n",
    "                    return True\n",
    "                temp = temp.left # move left!\n",
    "\n",
    "            else:\n",
    "                if temp.right is None: # if new_node value is greater than temp.value\n",
    "                    temp.right = new_node\n",
    "                    return True \n",
    "                temp = temp.right # Move right!\n",
    "\n",
    "    def contains(self, value):\n",
    "        # Iterate through tree starting from root (temp = self.root) until temp is not None\n",
    "        # If value to find is less than temp.left, keep going left\n",
    "        # Elif value to find is greater than temp.right, go right\n",
    "        # Else (i.e. temp.value == value), return True\n",
    "        # Return False if value not found in loop\n",
    "        \n",
    "        # if self.root == None:     <- Not needed because return false at the end\n",
    "        #     return False\n",
    "\n",
    "        temp = self.root\n",
    "\n",
    "        while temp is not None:\n",
    "            if value < temp.value:\n",
    "                temp = temp.left\n",
    "            elif value > temp.value:\n",
    "                temp = temp.right\n",
    "            else:\n",
    "                return True\n",
    "        return False\n",
    "            "
   ]
  },
  {
   "cell_type": "code",
   "execution_count": 39,
   "id": "11aaa924-cdae-4855-8a44-321525046eae",
   "metadata": {},
   "outputs": [],
   "source": [
    "tree = BinarySearchTree()"
   ]
  },
  {
   "cell_type": "code",
   "execution_count": 46,
   "id": "a26bff45-a6ef-4789-a0e1-a98cf626b48e",
   "metadata": {},
   "outputs": [
    {
     "data": {
      "text/plain": [
       "False"
      ]
     },
     "execution_count": 46,
     "metadata": {},
     "output_type": "execute_result"
    }
   ],
   "source": [
    "tree.contains(12)"
   ]
  },
  {
   "cell_type": "code",
   "execution_count": 40,
   "id": "d937b0f8-34b6-4234-8d99-eaa2a436bea1",
   "metadata": {},
   "outputs": [
    {
     "data": {
      "text/plain": [
       "True"
      ]
     },
     "execution_count": 40,
     "metadata": {},
     "output_type": "execute_result"
    }
   ],
   "source": [
    "tree.insert(2)\n",
    "tree.insert(1)\n",
    "tree.insert(3)"
   ]
  },
  {
   "cell_type": "code",
   "execution_count": 41,
   "id": "d739b73e-2cea-4171-846a-38d56ffc6e3e",
   "metadata": {},
   "outputs": [
    {
     "name": "stdout",
     "output_type": "stream",
     "text": [
      "2\n",
      "1\n",
      "3\n"
     ]
    }
   ],
   "source": [
    "print(tree.root.value)\n",
    "print(tree.root.left.value)\n",
    "print(tree.root.right.value)"
   ]
  },
  {
   "cell_type": "code",
   "execution_count": 42,
   "id": "3648651c-33ee-483b-ad07-f5adfff23b95",
   "metadata": {},
   "outputs": [
    {
     "data": {
      "text/plain": [
       "False"
      ]
     },
     "execution_count": 42,
     "metadata": {},
     "output_type": "execute_result"
    }
   ],
   "source": [
    "tree.insert(3)"
   ]
  },
  {
   "cell_type": "code",
   "execution_count": 43,
   "id": "b77fcda6-bd3f-42de-9b14-45c8299b0ec1",
   "metadata": {},
   "outputs": [
    {
     "data": {
      "text/plain": [
       "False"
      ]
     },
     "execution_count": 43,
     "metadata": {},
     "output_type": "execute_result"
    }
   ],
   "source": [
    "tree.contains(4)"
   ]
  },
  {
   "cell_type": "code",
   "execution_count": 44,
   "id": "89ac9425-d471-4beb-9b9f-6cb963fe7c51",
   "metadata": {},
   "outputs": [
    {
     "data": {
      "text/plain": [
       "True"
      ]
     },
     "execution_count": 44,
     "metadata": {},
     "output_type": "execute_result"
    }
   ],
   "source": [
    "tree.contains(3)"
   ]
  },
  {
   "cell_type": "code",
   "execution_count": null,
   "id": "4d8a982f-ea59-45b8-af75-f4d0e94ea518",
   "metadata": {},
   "outputs": [],
   "source": []
  }
 ],
 "metadata": {
  "kernelspec": {
   "display_name": "Python 3 (ipykernel)",
   "language": "python",
   "name": "python3"
  },
  "language_info": {
   "codemirror_mode": {
    "name": "ipython",
    "version": 3
   },
   "file_extension": ".py",
   "mimetype": "text/x-python",
   "name": "python",
   "nbconvert_exporter": "python",
   "pygments_lexer": "ipython3",
   "version": "3.13.0"
  }
 },
 "nbformat": 4,
 "nbformat_minor": 5
}
