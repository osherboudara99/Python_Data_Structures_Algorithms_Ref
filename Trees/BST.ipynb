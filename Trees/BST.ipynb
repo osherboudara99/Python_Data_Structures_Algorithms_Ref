{
 "cells": [
  {
   "cell_type": "markdown",
   "id": "05f53d45-ed22-4399-9b8d-b1080c0000c3",
   "metadata": {},
   "source": [
    "Trees\n",
    "\n",
    "\n",
    "- Full Tree : A tree where every node either points to TWO nodes or ZERO nodes\n",
    "\n",
    "- Perfect Tree : A tree that has all nodes in the level; if nodes missing at level then not perfect\n",
    "\n",
    "- Complete Tree : A tree that we are filling from left to right with no gaps; if gaps, not complete"
   ]
  },
  {
   "cell_type": "code",
   "execution_count": 7,
   "id": "869e4e19-bca8-4cb2-86df-b4021da75d5c",
   "metadata": {},
   "outputs": [
    {
     "data": {
      "text/plain": [
       "{'value': 11,\n",
       " 'left': {'value': 54, 'left': None, 'right': None},\n",
       " 'right': {'value': 75, 'left': None, 'right': None}}"
      ]
     },
     "execution_count": 7,
     "metadata": {},
     "output_type": "execute_result"
    }
   ],
   "source": [
    "#Tree Example as a dictionary\n",
    "\n",
    "\n",
    "{\n",
    "    \"value\":11,\n",
    "    \"left\":{\n",
    "        \"value\":54,\n",
    "        \"left\":None,\n",
    "        \"right\":None\n",
    "    },\n",
    "    \"right\":{\n",
    "        \"value\":75,\n",
    "        \"left\":None,\n",
    "        \"right\":None\n",
    "        \n",
    "    }\n",
    "}"
   ]
  },
  {
   "cell_type": "code",
   "execution_count": 8,
   "id": "f1678066-f16c-4b58-a664-2013305653b8",
   "metadata": {},
   "outputs": [],
   "source": [
    "# Full Binary Tree: A Binary Tree is full if every node has 0 or 2 children. Following are examples of a full binary tree.\n",
    "\n",
    "#          18\n",
    "#        /    \\   \n",
    "#      15      20    \n",
    "#     /  \\       \n",
    "#    40   50   \n",
    "#   /  \\\n",
    "#  30  50\n",
    "\n",
    "\n",
    "# Complete Binary Tree: A Binary Tree is complete Binary Tree if all levels are completely filled except possibly the last level and the last level has all keys as left as possible.\n",
    "\n",
    "#             18\n",
    "#        /         \\  \n",
    "#      15           30  \n",
    "#     /  \\         /  \\\n",
    "#   40    50     100   40\n",
    "#  /  \\   /\n",
    "# 8   7  9 \n",
    "\n",
    "\n",
    "\n",
    "# Perfect Binary Tree: A Binary tree is Perfect Binary Tree in which all internal nodes have two children and all leaves are at same level.\n",
    "\n",
    "#            18\n",
    "#        /       \\  \n",
    "#      15         30  \n",
    "#     /  \\        /  \\\n",
    "#   40    50    100   40"
   ]
  },
  {
   "cell_type": "markdown",
   "id": "d74d2982-aea8-4ece-aa72-4c71621950ef",
   "metadata": {},
   "source": [
    "- Parent and Child nodes: Parents are the root node of two childs (left and right). Childs on the same level are siblings\n",
    "\n",
    "- Leaf Node: a node with no children"
   ]
  },
  {
   "cell_type": "markdown",
   "id": "ed26b45f-a138-4b45-a227-bd975f111d68",
   "metadata": {},
   "source": [
    "# BST\n",
    "\n",
    "Binary Search Tree: Order matters. If new node being inserted is less than root, goes to left child. If it is bigger, goes to right child."
   ]
  },
  {
   "cell_type": "markdown",
   "id": "21c9ef3c-94b3-4204-953f-4e1214d3b81e",
   "metadata": {},
   "source": [
    "# Time Complexity"
   ]
  },
  {
   "cell_type": "markdown",
   "id": "973b9669-34b3-421f-a996-5a65ea88f748",
   "metadata": {},
   "source": [
    "2^n - 1 tells us the amount of nodes in a perfect tree where n = amount of levels in tree"
   ]
  },
  {
   "cell_type": "markdown",
   "id": "2556b886-5b56-4abb-a0b4-72e592fdb941",
   "metadata": {},
   "source": [
    "### Best Case"
   ]
  },
  {
   "cell_type": "code",
   "execution_count": 9,
   "id": "55e546e2-6457-4541-a7b0-4af7765da070",
   "metadata": {},
   "outputs": [],
   "source": [
    "# FYI, below tree is not a BST\n",
    "\n",
    "#            18            2^1 - 1 = 1               \n",
    "#        /       \\  \n",
    "#      15         30       2^2 - 1 = 3\n",
    "#     /  \\        /  \\\n",
    "#   40    50    100   40   2^3 - 1 = 7\n",
    "\n",
    "\n",
    "# Finding a node, removing a node, and adding a node in a tree are O(log n)\n",
    "# This is because when we step through the tree, we only need to step through the levels and with each level the nodes grow exponentially\n",
    "\n",
    "# Example: if I have 10 levels in my perfect tree then I have 2^10-1 = 1023 which is so many nodes \n",
    "# But since I only have to 10 levels, I only need 10 operations to add, remove or find a node so therefore O(log n)\n",
    "\n",
    "\n",
    "# Perfect BST gives us our best case scenario -> Omega(log n)\n"
   ]
  },
  {
   "cell_type": "markdown",
   "id": "27bb112d-480a-45c6-9bdb-f88ebe845b98",
   "metadata": {},
   "source": [
    "### Worst Case"
   ]
  },
  {
   "cell_type": "code",
   "execution_count": 10,
   "id": "3110ca64-2124-444a-9f16-6f0a0abe3fc2",
   "metadata": {},
   "outputs": [
    {
     "name": "stdout",
     "output_type": "stream",
     "text": [
      " 1\n",
      "  \\\n",
      "   2\n",
      "    \\\n",
      "     3\n",
      "      \\\n",
      "       4\n",
      "        \\\n"
     ]
    }
   ],
   "source": [
    "\n",
    "# Worst case scenario\n",
    "# Below case \n",
    "spaces=' '\n",
    "counter = 0\n",
    "for i in range(1, 5):\n",
    "    print(counter * spaces, i)\n",
    "    print(counter * spaces, \" \\\\\")\n",
    "    counter += 2"
   ]
  },
  {
   "cell_type": "markdown",
   "id": "11fb9733-e40d-46fc-96d5-d112c48563c0",
   "metadata": {},
   "source": [
    "The above tree is essentially a linked list. 4 nodes and 4 levels so therefore it is O(n) to traverse!\n",
    "\n",
    "Refer to Time Complexity Image in Basic folder for more time complexity questions"
   ]
  },
  {
   "cell_type": "markdown",
   "id": "8449bf85-c82b-46e4-90b6-fe75080864ac",
   "metadata": {},
   "source": [
    "# Binary Search Tree Implementation"
   ]
  },
  {
   "cell_type": "code",
   "execution_count": 11,
   "id": "7308f62d-a6d9-4d6a-afbd-119fa6988077",
   "metadata": {},
   "outputs": [],
   "source": [
    "class Node:\n",
    "    def __init__(self, value):\n",
    "        self.value = value\n",
    "        self.left = None\n",
    "        self.right = None"
   ]
  },
  {
   "cell_type": "code",
   "execution_count": 47,
   "id": "93179584-3138-48af-b972-aad70304bdc9",
   "metadata": {},
   "outputs": [],
   "source": [
    "class BinarySearchTree:\n",
    "    def __init__(self):\n",
    "        # Instead of initialize a new node to root, we create our tree empty and insert our first node with the insert method\n",
    "        self.root = None\n",
    "\n",
    "    def insert(self, value):\n",
    "        # Create Node\n",
    "        # Edge Case: if root is empty, new_node equals root\n",
    "        # Temp = root\n",
    "        # Loop through Tree and compare temp to new node\n",
    "        # If new node less than temp, move left else move right -> insert if None\n",
    "        # Edge case: if new_node.value == temp.value, return False\n",
    "        \n",
    "        new_node = Node(value)\n",
    "        \n",
    "        if self.root == None:\n",
    "            self.root = new_node \n",
    "            return True\n",
    "        \n",
    "        temp = self.root\n",
    "\n",
    "        while True:\n",
    "            if new_node.value == temp.value: # If value already exists in tree, return False\n",
    "                return False\n",
    "\n",
    "            if new_node.value < temp.value: # if new_node value is less than temp.value\n",
    "                if temp.left is None: # If temp.left is empty, insert!\n",
    "                    temp.left = new_node\n",
    "                    return True\n",
    "                temp = temp.left # move left!\n",
    "\n",
    "            else:\n",
    "                if temp.right is None: # if new_node value is greater than temp.value\n",
    "                    temp.right = new_node\n",
    "                    return True \n",
    "                temp = temp.right # Move right!\n",
    "\n",
    "    # RECURSIVE INSERT\n",
    "    ## Below function contains __ because it is not the callable function.\n",
    "    def __r_insert(self, current_node, value):\n",
    "        # Base case, current_node == None, we return Node(value) (inserted new node)\n",
    "        # if value is less than current_node at value, call __r_insert on left node\n",
    "        # if value is greater than current_node at value, call __r_insert of right node\n",
    "        # return current_node at the end to work your way back up the tree recursively by returning current structure\n",
    "        \n",
    "        # This function also addresses duplicates as nothing happens when a duplicate value is attempted to be inserted, all that happens is the current_node is returned\n",
    "        # i.e. if the current_node is returned, we are just showing the pointers of the tree\n",
    "       \n",
    "        \n",
    "        if current_node == None:\n",
    "            return Node(value)  # Creates a new node if spot is found\n",
    "\n",
    "        # Decide to go left or right based on value\n",
    "        if value < current_node.value:\n",
    "            current_node.left = self.__r_insert(current_node.left, value)\n",
    "        if value > current_node.value:\n",
    "            current_node.right = self.__r_insert(current_node.right, value)\n",
    "\n",
    "        # Returns the current tree structure\n",
    "        return current_node\n",
    "        \n",
    "        \n",
    "        \n",
    "\n",
    "    ## Below function is callable\n",
    "    def r_insert(self, value):\n",
    "        if self.root == None:\n",
    "            self.root = Node(value)\n",
    "        self.__r_insert(self.root, value)\n",
    "\n",
    "    \n",
    "\n",
    "    def contains(self, value):\n",
    "        # Iterate through tree starting from root (temp = self.root) until temp is not None\n",
    "        # If value to find is less than temp.left, keep going left\n",
    "        # Elif value to find is greater than temp.right, go right\n",
    "        # Else (i.e. temp.value == value), return True\n",
    "        # Return False if value not found in loop\n",
    "        \n",
    "        # if self.root == None:     <- Not needed because return false at the end\n",
    "        #     return False\n",
    "\n",
    "        temp = self.root\n",
    "\n",
    "        while temp is not None:\n",
    "            if value < temp.value:\n",
    "                temp = temp.left\n",
    "            elif value > temp.value:\n",
    "                temp = temp.right\n",
    "            else:\n",
    "                return True\n",
    "        return False\n",
    "\n",
    "    # RECURSIVE CONTAINS\n",
    "    ## Below function contains __ because it is not the callable function. \n",
    "    def __r_contains(self, current_node, value):\n",
    "        # Base Case 1, if current node is empty, return False (i.e. value is not \"contained\")\n",
    "        # Base Case 2, if current node is equal to value searching for, return True (i.e. value is \"contained\")\n",
    "\n",
    "        # Base case 1\n",
    "        if current_node == None:\n",
    "            return False\n",
    "\n",
    "        # Base Case 2\n",
    "        if value == current_node.value:\n",
    "            return True\n",
    "\n",
    "        if value < current_node.value:\n",
    "            return self.__r_contains(current_node.left, value)\n",
    "\n",
    "        if value > current_node.value:\n",
    "            return self.__r_contains(current_node.right, value)\n",
    "    \n",
    "\n",
    "    ## This is the callable function\n",
    "    def r_contains(self, value):\n",
    "        return self.__r_contains(self.root, value)\n",
    "\n",
    "\n",
    "\n",
    "    # RECURSIVE\n",
    "\n",
    "    def __delete_node(self, current_node, value):\n",
    "        # Base case, current_node == None, return None\n",
    "        # Check if value is less than current node, call __delete_node on current.left\n",
    "        # Check if value is greater than current node, call __delete_node on current.right\n",
    "        # if value == current_node.value, found node to delete \n",
    "        #### 4 base case, if node to delete is leaf, if node to delete has node on right, if node to delete has node on left, if node to delete has both left and right\n",
    "\n",
    "        # return current_node at the end for tree structure\n",
    "        if current_node == None:\n",
    "            return None\n",
    "        if value < current_node.value:\n",
    "            current_node.left = self.__delete_node(current_node.left, value)\n",
    "        elif value > current_node.value:\n",
    "            current_node.right = self.__delete_node(current_node.right, value)\n",
    "        else: ## value == current_node.value (meaning we found node to delete)\n",
    "\n",
    "            # if node to delete is leaf\n",
    "            if current_node.left is None and current_node.right is None:\n",
    "                return None # remove node from structure\n",
    "            elif current_node.left is None: # if current_node only has right children (if it didn't have right children, previous conditional would've been executed)\n",
    "                current_node = current_node.right # modify tree structure to move right child up\n",
    "            elif current_node.right is None:\n",
    "                current_node = current_node.left # modify tree structure to move left child up\n",
    "            else: # if node to be deleted has children on left and right\n",
    "\n",
    "                # find minimun value in right child subtree (and eventually move it to where node to be deleted is)\n",
    "                sub_tree_min = self.min_value(current_node.right)\n",
    "                current_node.value = sub_tree_min\n",
    "                current_node.right = self.__delete_node(current_node.right, sub_tree_min) # Delete that minimum node as it has been moved\n",
    "                \n",
    "                \n",
    "            \n",
    "        return current_node\n",
    "\n",
    "    def delete_node(self, value):\n",
    "        self.__delete_node(self.root, value)\n",
    "\n",
    "\n",
    "    def min_value(self, current_node):\n",
    "        while current_node.left is not None:\n",
    "            current_node = current_node.left\n",
    "        return current_node.value"
   ]
  },
  {
   "cell_type": "code",
   "execution_count": 48,
   "id": "11aaa924-cdae-4855-8a44-321525046eae",
   "metadata": {},
   "outputs": [],
   "source": [
    "tree = BinarySearchTree()"
   ]
  },
  {
   "cell_type": "code",
   "execution_count": 49,
   "id": "a26bff45-a6ef-4789-a0e1-a98cf626b48e",
   "metadata": {},
   "outputs": [
    {
     "data": {
      "text/plain": [
       "False"
      ]
     },
     "execution_count": 49,
     "metadata": {},
     "output_type": "execute_result"
    }
   ],
   "source": [
    "tree.contains(12)"
   ]
  },
  {
   "cell_type": "code",
   "execution_count": 50,
   "id": "d937b0f8-34b6-4234-8d99-eaa2a436bea1",
   "metadata": {},
   "outputs": [
    {
     "data": {
      "text/plain": [
       "True"
      ]
     },
     "execution_count": 50,
     "metadata": {},
     "output_type": "execute_result"
    }
   ],
   "source": [
    "tree.insert(2)\n",
    "tree.insert(1)\n",
    "tree.insert(3)"
   ]
  },
  {
   "cell_type": "code",
   "execution_count": 51,
   "id": "d739b73e-2cea-4171-846a-38d56ffc6e3e",
   "metadata": {},
   "outputs": [
    {
     "name": "stdout",
     "output_type": "stream",
     "text": [
      "2\n",
      "1\n",
      "3\n"
     ]
    }
   ],
   "source": [
    "print(tree.root.value)\n",
    "print(tree.root.left.value)\n",
    "print(tree.root.right.value)"
   ]
  },
  {
   "cell_type": "code",
   "execution_count": 52,
   "id": "3648651c-33ee-483b-ad07-f5adfff23b95",
   "metadata": {},
   "outputs": [
    {
     "data": {
      "text/plain": [
       "False"
      ]
     },
     "execution_count": 52,
     "metadata": {},
     "output_type": "execute_result"
    }
   ],
   "source": [
    "tree.insert(3)"
   ]
  },
  {
   "cell_type": "code",
   "execution_count": 53,
   "id": "b77fcda6-bd3f-42de-9b14-45c8299b0ec1",
   "metadata": {},
   "outputs": [
    {
     "data": {
      "text/plain": [
       "False"
      ]
     },
     "execution_count": 53,
     "metadata": {},
     "output_type": "execute_result"
    }
   ],
   "source": [
    "tree.contains(4)"
   ]
  },
  {
   "cell_type": "code",
   "execution_count": 54,
   "id": "89ac9425-d471-4beb-9b9f-6cb963fe7c51",
   "metadata": {},
   "outputs": [
    {
     "data": {
      "text/plain": [
       "True"
      ]
     },
     "execution_count": 54,
     "metadata": {},
     "output_type": "execute_result"
    }
   ],
   "source": [
    "tree.contains(3)"
   ]
  },
  {
   "cell_type": "code",
   "execution_count": 55,
   "id": "4d8a982f-ea59-45b8-af75-f4d0e94ea518",
   "metadata": {},
   "outputs": [
    {
     "data": {
      "text/plain": [
       "True"
      ]
     },
     "execution_count": 55,
     "metadata": {},
     "output_type": "execute_result"
    }
   ],
   "source": [
    "tree.r_contains(3)"
   ]
  },
  {
   "cell_type": "code",
   "execution_count": 56,
   "id": "7b623200-5d7e-49c9-8b31-32e3d3c57314",
   "metadata": {},
   "outputs": [
    {
     "data": {
      "text/plain": [
       "False"
      ]
     },
     "execution_count": 56,
     "metadata": {},
     "output_type": "execute_result"
    }
   ],
   "source": [
    "tree.r_contains(17)"
   ]
  },
  {
   "cell_type": "code",
   "execution_count": 57,
   "id": "23ebc727-3db9-4836-ae7b-148c38eff91e",
   "metadata": {},
   "outputs": [],
   "source": [
    "tree.r_insert(25)"
   ]
  },
  {
   "cell_type": "code",
   "execution_count": 58,
   "id": "dcce0c46-7067-48a7-af4b-78cb4336f8d9",
   "metadata": {},
   "outputs": [
    {
     "data": {
      "text/plain": [
       "True"
      ]
     },
     "execution_count": 58,
     "metadata": {},
     "output_type": "execute_result"
    }
   ],
   "source": [
    "tree.r_contains(25)"
   ]
  },
  {
   "cell_type": "code",
   "execution_count": 59,
   "id": "089d14c7-0367-4c39-b455-6446344f1ded",
   "metadata": {},
   "outputs": [
    {
     "data": {
      "text/plain": [
       "1"
      ]
     },
     "execution_count": 59,
     "metadata": {},
     "output_type": "execute_result"
    }
   ],
   "source": [
    "tree.min_value(tree.root)"
   ]
  },
  {
   "cell_type": "code",
   "execution_count": 60,
   "id": "dbfc0717-0cbd-4f19-a37a-7436c5299149",
   "metadata": {},
   "outputs": [],
   "source": [
    "tree.delete_node(1)"
   ]
  },
  {
   "cell_type": "code",
   "execution_count": 61,
   "id": "c3490555-ff0d-4821-9502-d680563313d3",
   "metadata": {},
   "outputs": [
    {
     "data": {
      "text/plain": [
       "False"
      ]
     },
     "execution_count": 61,
     "metadata": {},
     "output_type": "execute_result"
    }
   ],
   "source": [
    "tree.contains(1)"
   ]
  },
  {
   "cell_type": "code",
   "execution_count": null,
   "id": "925ffacf-99d0-4e1f-ac99-3029aa9bc552",
   "metadata": {},
   "outputs": [],
   "source": []
  }
 ],
 "metadata": {
  "kernelspec": {
   "display_name": "Python 3 (ipykernel)",
   "language": "python",
   "name": "python3"
  },
  "language_info": {
   "codemirror_mode": {
    "name": "ipython",
    "version": 3
   },
   "file_extension": ".py",
   "mimetype": "text/x-python",
   "name": "python",
   "nbconvert_exporter": "python",
   "pygments_lexer": "ipython3",
   "version": "3.13.0"
  }
 },
 "nbformat": 4,
 "nbformat_minor": 5
}
