{
 "cells": [
  {
   "cell_type": "markdown",
   "id": "7bc4eef1-5d65-4745-a814-7de6e5febecf",
   "metadata": {},
   "source": [
    "# Queues"
   ]
  },
  {
   "cell_type": "code",
   "execution_count": 1,
   "id": "71b8ddca-5100-4bfa-9ebf-e735b33ad526",
   "metadata": {},
   "outputs": [],
   "source": [
    "# FIFO -- First In First Out --  Think of a line\n",
    "\n",
    "# Can use list - removing from front of list is O(n) because re-indexing and O(1) to push to back \n",
    "\n",
    "# Can use LL - removing/pushing from head is O(1) and removing/pushing from tail is O(n) and O(1) respectively\n",
    "# When using LL, we want to address time complexity too\n",
    "# We will \"dequeue\" LL from the head (since it is O(1))\n",
    "# And \"enqueue\" from the tail (since it is O(1))\n",
    "\n",
    "# Head and tail will be first and last"
   ]
  },
  {
   "cell_type": "code",
   "execution_count": 2,
   "id": "9cae8bb9-ce0b-4521-a838-7add3234e70f",
   "metadata": {},
   "outputs": [],
   "source": [
    "class Node:\n",
    "    def __init__(self, value):\n",
    "        self.value = value\n",
    "        self.next = None"
   ]
  },
  {
   "cell_type": "code",
   "execution_count": 3,
   "id": "e66c961f-09d7-4e42-892b-533c8578b8d9",
   "metadata": {},
   "outputs": [],
   "source": [
    "class Queue:\n",
    "    def __init__(self, value):\n",
    "        new_node = Node(value)\n",
    "        self.first = new_node\n",
    "        self.last = new_node\n",
    "        self.length = 1\n",
    "\n",
    "    def print_queue(self):\n",
    "        tmp = self.first\n",
    "\n",
    "        while tmp is not None:\n",
    "            print(tmp.value)\n",
    "            tmp = tmp.next\n",
    "\n",
    "    def enqueue(self, value):\n",
    "        # Create node\n",
    "        # Edge case: if first is empty, set first and last to new_node\n",
    "        # Else, last points to new_node and last is now new_node\n",
    "        # Increase length\n",
    "        new_node = Node(value)\n",
    "\n",
    "        if self.first is None:\n",
    "            self.first = new_node\n",
    "            self.last = new_node\n",
    "        else:\n",
    "            self.last.next = new_node\n",
    "            self.last = new_node\n",
    "        self.length += 1\n",
    "\n",
    "    def dequeue(self):\n",
    "        # Edge case: if empty return None\n",
    "        # Edge case: if only one node, set first and last to None\n",
    "        # else  set first to next node and detach tmp\n",
    "        # decrement and return tmp\n",
    "\n",
    "        if self.first is None:\n",
    "            return None\n",
    "        tmp = self.first\n",
    "        if self.first is not None and self.first.next is None:\n",
    "            self.first = None\n",
    "            self.last = None\n",
    "\n",
    "        else:\n",
    "            self.first = self.first.next \n",
    "            tmp.next = None\n",
    "        self.length -= 1\n",
    "        return tmp\n",
    "            \n",
    "            \n",
    "            \n",
    "        "
   ]
  },
  {
   "cell_type": "code",
   "execution_count": 4,
   "id": "5467eaed-29fc-45cf-a637-0caf5f520a8d",
   "metadata": {},
   "outputs": [
    {
     "name": "stdout",
     "output_type": "stream",
     "text": [
      "2\n",
      "4\n"
     ]
    }
   ],
   "source": [
    "queue = Queue(3)\n",
    "\n",
    "queue.enqueue(2)\n",
    "queue.enqueue(4)\n",
    "\n",
    "queue.dequeue()\n",
    "\n",
    "queue.print_queue()"
   ]
  },
  {
   "cell_type": "code",
   "execution_count": null,
   "id": "730c84bf-4275-479b-997a-9cb19c3b4e43",
   "metadata": {},
   "outputs": [],
   "source": []
  }
 ],
 "metadata": {
  "kernelspec": {
   "display_name": "Python 3 (ipykernel)",
   "language": "python",
   "name": "python3"
  },
  "language_info": {
   "codemirror_mode": {
    "name": "ipython",
    "version": 3
   },
   "file_extension": ".py",
   "mimetype": "text/x-python",
   "name": "python",
   "nbconvert_exporter": "python",
   "pygments_lexer": "ipython3",
   "version": "3.13.0"
  }
 },
 "nbformat": 4,
 "nbformat_minor": 5
}
