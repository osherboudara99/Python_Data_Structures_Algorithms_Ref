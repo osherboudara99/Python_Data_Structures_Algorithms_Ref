{
 "cells": [
  {
   "cell_type": "markdown",
   "id": "933329d1-af96-4f32-9103-d12ddc8637a8",
   "metadata": {},
   "source": [
    "# Stacks"
   ]
  },
  {
   "cell_type": "code",
   "execution_count": 2,
   "id": "711f6599-6c2e-49bd-928f-eac06b5bed8b",
   "metadata": {},
   "outputs": [],
   "source": [
    "# LIFO - Last In First Out\n",
    "\n",
    "# Can use a list to implement a stack\n",
    "# Can also use a Linked List\n",
    "\n",
    "# For Linked List, head is at top of the stack and tail is at the bottom\n",
    "# We do it this way because time complexity\n",
    "# Prepending or Popping_First are O(1) operations in LL while Appending is O(1) and Popping is O(n) \n",
    "# Since we get better time complexity with Popping_First and Prepending, we will implement the stack with the Head at the top of the stack and tail at the bottom\n",
    "\n",
    "\n",
    "# No tail needed here since we can only see what is on top of stack (i.e. the head)\n",
    "# Head will be called top in this implementation"
   ]
  },
  {
   "cell_type": "code",
   "execution_count": 3,
   "id": "570374cb-6ed7-40f4-84d8-8f7fdc2920e8",
   "metadata": {},
   "outputs": [],
   "source": [
    "class Node:\n",
    "    def __init__(self, value):  ## Same as LL\n",
    "        self.value = value\n",
    "        self.next = None\n",
    "\n",
    "\n"
   ]
  },
  {
   "cell_type": "code",
   "execution_count": 8,
   "id": "747e0ad8-a481-49d5-b0a3-8869b615fa0d",
   "metadata": {},
   "outputs": [],
   "source": [
    "class Stack:\n",
    "    def __init__(self, value):\n",
    "        new_node = Node(value)\n",
    "        self.top = new_node\n",
    "        self.height = 1\n",
    "\n",
    "    def print_stack(self):\n",
    "        tmp = self.top \n",
    "        while tmp is not None:\n",
    "            print(tmp.value)\n",
    "            tmp = tmp.next\n",
    "\n",
    "    def push(self, value):\n",
    "        # Create Node\n",
    "        # Edge Case: Stack is empty, set top to new_node\n",
    "        # if not empty, point new node to top of stack and set top of stack to new_node\n",
    "        # Increase height\n",
    "        new_node = Node(value)\n",
    "        \n",
    "        if self.top is None: # if self.height == 0\n",
    "            self.top = new_node\n",
    "        else:\n",
    "            new_node.next = self.top\n",
    "            self.top = new_node \n",
    "\n",
    "        self.height += 1\n",
    "\n",
    "    def pop(self):\n",
    "        # Edge case, check if empty, return None\n",
    "        # Store tmp = self.top\n",
    "        # Set top to the next node in stack\n",
    "        # Detach tmp completely but setting .next = None\n",
    "        # Decrease height and return\n",
    "\n",
    "        if self.top is None: # if self.height == 0\n",
    "            return None\n",
    "\n",
    "        tmp = self.top\n",
    "        self.top = self.top.next\n",
    "        tmp.next = None\n",
    "        self.height -= 1\n",
    "        return tmp\n",
    "        \n",
    "    \n",
    "            "
   ]
  },
  {
   "cell_type": "code",
   "execution_count": 9,
   "id": "bb3ab6b0-4991-4da2-a0f4-fc9fa71d3a71",
   "metadata": {},
   "outputs": [
    {
     "name": "stdout",
     "output_type": "stream",
     "text": [
      "4\n",
      "3\n"
     ]
    }
   ],
   "source": [
    "stack = Stack(3)\n",
    "\n",
    "stack.push(4)\n",
    "stack.push(14)\n",
    "\n",
    "stack.pop()\n",
    "stack.print_stack()"
   ]
  },
  {
   "cell_type": "code",
   "execution_count": null,
   "id": "1c6a4095-f637-4cd8-b38d-cc85f70d5640",
   "metadata": {},
   "outputs": [],
   "source": []
  }
 ],
 "metadata": {
  "kernelspec": {
   "display_name": "Python 3 (ipykernel)",
   "language": "python",
   "name": "python3"
  },
  "language_info": {
   "codemirror_mode": {
    "name": "ipython",
    "version": 3
   },
   "file_extension": ".py",
   "mimetype": "text/x-python",
   "name": "python",
   "nbconvert_exporter": "python",
   "pygments_lexer": "ipython3",
   "version": "3.13.0"
  }
 },
 "nbformat": 4,
 "nbformat_minor": 5
}
