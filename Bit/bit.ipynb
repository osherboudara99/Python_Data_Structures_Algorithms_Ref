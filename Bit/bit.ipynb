{
 "cells": [
  {
   "cell_type": "code",
   "execution_count": 29,
   "id": "923aad9a",
   "metadata": {},
   "outputs": [
    {
     "name": "stdout",
     "output_type": "stream",
     "text": [
      "0b101 101\n"
     ]
    }
   ],
   "source": [
    "# Decimal to Binary\n",
    "\n",
    "print(bin(5), bin(5)[2:])"
   ]
  },
  {
   "cell_type": "code",
   "execution_count": 30,
   "id": "ea549aa8",
   "metadata": {},
   "outputs": [
    {
     "name": "stdout",
     "output_type": "stream",
     "text": [
      "5\n",
      "37\n"
     ]
    }
   ],
   "source": [
    "# Binary to Decimal \n",
    "\n",
    "binary_5 = '101'\n",
    "\n",
    "print(int(binary_5, 2)) # Converts to Base 2\n",
    "\n",
    "\n",
    "print(int(binary_5, 6)) # Converts to Base 6"
   ]
  },
  {
   "cell_type": "code",
   "execution_count": 31,
   "id": "b3d76ae0",
   "metadata": {},
   "outputs": [
    {
     "name": "stdout",
     "output_type": "stream",
     "text": [
      "5\n"
     ]
    }
   ],
   "source": [
    "# Bitwise AND \n",
    "\n",
    "# 101 (5)\n",
    "# 111 (7) & \n",
    "# 101\n",
    "\n",
    "print(5 & 7) # equals 5"
   ]
  },
  {
   "cell_type": "code",
   "execution_count": 32,
   "id": "ff799a64",
   "metadata": {},
   "outputs": [
    {
     "name": "stdout",
     "output_type": "stream",
     "text": [
      "7\n"
     ]
    }
   ],
   "source": [
    "# Bitwise OR \n",
    "\n",
    "# 101 \n",
    "# 111 |\n",
    "# 111\n",
    "\n",
    "print(5 | 7) # equals 7"
   ]
  },
  {
   "cell_type": "code",
   "execution_count": 33,
   "id": "86dd5b92",
   "metadata": {},
   "outputs": [
    {
     "name": "stdout",
     "output_type": "stream",
     "text": [
      "2\n"
     ]
    }
   ],
   "source": [
    "# Bitwise XOR \n",
    "\n",
    "# 101\n",
    "# 111 ^ \n",
    "# 010\n",
    "\n",
    "print(5 ^ 7) # equals 2"
   ]
  },
  {
   "cell_type": "code",
   "execution_count": 34,
   "id": "e97c92c3",
   "metadata": {},
   "outputs": [
    {
     "name": "stdout",
     "output_type": "stream",
     "text": [
      "-6\n",
      "-8\n"
     ]
    }
   ],
   "source": [
    "# Bitwise NOT (Unary operator)\n",
    "\n",
    "# 00000101 <- 5\n",
    "# 11111010 <- Binary representation of ~5, to determine value in base 10, we must do twos compliment (flip digits and add 1)\n",
    "# 00000110 <- this is 6 but we know its negative because of leading 1 in binary representation so -6\n",
    "print(~5)\n",
    "print(~7)"
   ]
  },
  {
   "cell_type": "code",
   "execution_count": 35,
   "id": "e49c51d0",
   "metadata": {},
   "outputs": [
    {
     "data": {
      "text/plain": [
       "20"
      ]
     },
     "execution_count": 35,
     "metadata": {},
     "output_type": "execute_result"
    }
   ],
   "source": [
    "# Bitwise Left Shift\n",
    "\n",
    "# 00000101 \n",
    "# 00010100 <- shifted everything to left 2 spaces = 20\n",
    "\n",
    "5 << 2"
   ]
  },
  {
   "cell_type": "code",
   "execution_count": 36,
   "id": "2eea7223",
   "metadata": {},
   "outputs": [
    {
     "data": {
      "text/plain": [
       "1"
      ]
     },
     "execution_count": 36,
     "metadata": {},
     "output_type": "execute_result"
    }
   ],
   "source": [
    "# Bitwise Right Shift Arithmetic \n",
    "# Python only has Arithmetic which is for signed integers, logical is for unsigned\n",
    "\n",
    "# 00000101\n",
    "# 00000001 <- shifted everything to right 2 spaces = 1\n",
    "\n",
    "5 >> 2"
   ]
  },
  {
   "cell_type": "code",
   "execution_count": 37,
   "id": "334f94cb",
   "metadata": {},
   "outputs": [
    {
     "data": {
      "text/plain": [
       "'0x10'"
      ]
     },
     "execution_count": 37,
     "metadata": {},
     "output_type": "execute_result"
    }
   ],
   "source": [
    "# Hexidecimal\n",
    "\n",
    "# 0 0 \n",
    "# 1 1\n",
    "# 2 2\n",
    "# 3 3\n",
    "# ...\n",
    "# 10 a \n",
    "# 11 b \n",
    "# 12 c\n",
    "# 13 d \n",
    "# 14 e\n",
    "# 15 f \n",
    "# 16 10\n",
    "\n",
    "hex(16) # 16**1 * 1 + 16**0  = 10"
   ]
  },
  {
   "cell_type": "code",
   "execution_count": 38,
   "id": "4fc48279",
   "metadata": {},
   "outputs": [
    {
     "data": {
      "text/plain": [
       "'0x19'"
      ]
     },
     "execution_count": 38,
     "metadata": {},
     "output_type": "execute_result"
    }
   ],
   "source": [
    "\n",
    "hex(25) # 16**1 * 1 + 16**0 * 9 \n"
   ]
  },
  {
   "cell_type": "code",
   "execution_count": 39,
   "id": "ffa3cbdb",
   "metadata": {},
   "outputs": [
    {
     "data": {
      "text/plain": [
       "'0x37a'"
      ]
     },
     "execution_count": 39,
     "metadata": {},
     "output_type": "execute_result"
    }
   ],
   "source": [
    "\n",
    "\n",
    "hex(890) # 3 * 16**2 + 7 * 16**1 + a(11) * 16**0\n",
    "\n"
   ]
  },
  {
   "cell_type": "code",
   "execution_count": null,
   "id": "1bc882f5",
   "metadata": {},
   "outputs": [],
   "source": []
  }
 ],
 "metadata": {
  "kernelspec": {
   "display_name": "Python 3",
   "language": "python",
   "name": "python3"
  },
  "language_info": {
   "codemirror_mode": {
    "name": "ipython",
    "version": 3
   },
   "file_extension": ".py",
   "mimetype": "text/x-python",
   "name": "python",
   "nbconvert_exporter": "python",
   "pygments_lexer": "ipython3",
   "version": "3.13.0"
  }
 },
 "nbformat": 4,
 "nbformat_minor": 5
}
