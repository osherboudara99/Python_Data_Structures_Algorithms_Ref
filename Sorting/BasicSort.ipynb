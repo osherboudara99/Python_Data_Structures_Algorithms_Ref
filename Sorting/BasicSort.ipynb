{
 "cells": [
  {
   "cell_type": "markdown",
   "id": "4a7af216-b745-4184-8e4b-919ee8b0e173",
   "metadata": {},
   "source": [
    "# Bubble Sort\n",
    "\n",
    "- is a simple sorting algorithm that repeatedly steps through the input list element by element, comparing the current element with the one after it, and swapping their values if needed.\n",
    "- These passes through the list are repeated until no swaps have to be performed during a pass, meaning that the list has become fully sorted. The algorithm is named for the way the larger elements \"bubble\" up to the top of the list.\n",
    "\n",
    "- The bubble sort algorithm works by comparing adjacent elements in a list and swapping them if they are in the wrong order. It continues this process until the entire list is sorted.\n",
    "- This method is not suitable for large data sets due to its average and worst-case time complexity, which is O(n^2).However, it can be optimized by stopping the algorithm if the inner loop didn’t cause any swaps"
   ]
  },
  {
   "cell_type": "code",
   "execution_count": 7,
   "id": "9d45db38-10a4-46a5-b659-dfe826b80474",
   "metadata": {},
   "outputs": [],
   "source": [
    "# Non Optimized \n",
    "def bubble_sort(arr):\n",
    "    n = len(arr)\n",
    "    for i in range(n - 1):\n",
    "        for j in range(n - i - 1):\n",
    "            if arr[j] > arr[j + 1]:\n",
    "                arr[j], arr[j + 1] = arr[j + 1], arr[j]\n",
    "    return arr\n",
    "\n",
    "\n",
    "# Optimized since swapped variable\n",
    "def optimized_bubble_sort(arr):\n",
    "    n = len(arr)\n",
    "    for i in range(n - 1):\n",
    "        swapped = False\n",
    "        for j in range(n - i - 1):\n",
    "            if arr[j] > arr[j + 1]:\n",
    "                arr[j], arr[j + 1] = arr[j + 1], arr[j]\n",
    "                swapped = True\n",
    "        if not swapped:\n",
    "            break\n",
    "    return arr\n",
    "\n",
    "\n",
    "\n",
    "def bubble_sort(my_list):\n",
    "    for i in range(len(my_list) - 1, 0, -1):\n",
    "        for j in range(i): # Continually decrements since i is decreasing as it is moving closer to 0 in outer for loop\n",
    "            if my_list[j] > my_list[j+1]:\n",
    "                my_list[j], my_list[j+1] = my_list[j+1], my_list[j]\n",
    "                # print(my_list)\n",
    "            \n",
    "    return my_list\n",
    "                \n",
    "        "
   ]
  },
  {
   "cell_type": "code",
   "execution_count": 8,
   "id": "7174cee3-23e5-4895-a31f-01e973771c34",
   "metadata": {},
   "outputs": [
    {
     "name": "stdout",
     "output_type": "stream",
     "text": [
      "[2, 4, 5, 3, 1, 7, 6]\n",
      "[2, 4, 3, 5, 1, 7, 6]\n",
      "[2, 4, 3, 1, 5, 7, 6]\n",
      "[2, 4, 3, 1, 5, 6, 7]\n",
      "[2, 3, 4, 1, 5, 6, 7]\n",
      "[2, 3, 1, 4, 5, 6, 7]\n",
      "[2, 1, 3, 4, 5, 6, 7]\n",
      "[1, 2, 3, 4, 5, 6, 7]\n"
     ]
    },
    {
     "data": {
      "text/plain": [
       "[1, 2, 3, 4, 5, 6, 7]"
      ]
     },
     "execution_count": 8,
     "metadata": {},
     "output_type": "execute_result"
    }
   ],
   "source": [
    "bubble_sort([4,2,5,3,1,7,6])"
   ]
  },
  {
   "cell_type": "code",
   "execution_count": null,
   "id": "d0236d15-5c49-4e64-a4d1-e1aedd421b73",
   "metadata": {},
   "outputs": [],
   "source": []
  },
  {
   "cell_type": "markdown",
   "id": "e5f7a35c-f123-4d6a-9227-1151abccbf0f",
   "metadata": {},
   "source": [
    "# Selection Sort\n",
    "\n",
    "- simple sorting algorithm that is typically used for sequencing small lists. \n",
    "- It works by dividing the list into two parts: the sorted part at the left end and the unsorted part at the right end.\n",
    "- Initially, the sorted part is empty and the unsorted part is the entire list. The algorithm repeatedly searches the unsorted part to find the smallest element and swaps it to the beginning of the unsorted part, gradually building up the sorted part of the list.\n",
    "- This sorting algorithm is an in-place comparison-based algorithm, meaning it does not require any extra space other than the input array.\n",
    "- The selection sort algorithm has a time complexity of O(n^2), making it inefficient on large lists compared to more advanced algorithms like quicksort or mergesort."
   ]
  },
  {
   "cell_type": "code",
   "execution_count": 11,
   "id": "f6734054-cfb1-4f50-a5e6-edb8f2e97f01",
   "metadata": {},
   "outputs": [],
   "source": [
    "def selection_sort(my_list):\n",
    "    # Loop through list\n",
    "    for i in range(len(my_list) - 1):\n",
    "\n",
    "        # Set min_index to i\n",
    "        min_index = i \n",
    "\n",
    "        # Loop through list from i+1 to end\n",
    "        for j in range(i+1, len(my_list)):\n",
    "            # Check if item in list is less than min_index\n",
    "            if my_list[j] < my_list[min_index]:\n",
    "                # Set min index to item in list\n",
    "                min_index = j\n",
    "        \n",
    "        # Check if we even need to swap, if min_index and i are the same -> then there was no j in the list less than i (i.e. left side of list already sorted)\n",
    "        if i != min_index:\n",
    "            \n",
    "            # Swap min_index with item at beginning of list\n",
    "            my_list[i], my_list[min_index] = my_list[min_index], my_list[i]\n",
    "            # print(my_list)\n",
    "    return my_list"
   ]
  },
  {
   "cell_type": "code",
   "execution_count": 12,
   "id": "a875ad13-d724-4d25-85c2-3a6d67eaa300",
   "metadata": {},
   "outputs": [
    {
     "name": "stdout",
     "output_type": "stream",
     "text": [
      "[1, 5, 4, 8, 7, 3, 10, 9, 2, 6]\n",
      "[1, 2, 4, 8, 7, 3, 10, 9, 5, 6]\n",
      "[1, 2, 3, 8, 7, 4, 10, 9, 5, 6]\n",
      "[1, 2, 3, 4, 7, 8, 10, 9, 5, 6]\n",
      "[1, 2, 3, 4, 5, 8, 10, 9, 7, 6]\n",
      "[1, 2, 3, 4, 5, 6, 10, 9, 7, 8]\n",
      "[1, 2, 3, 4, 5, 6, 7, 9, 10, 8]\n",
      "[1, 2, 3, 4, 5, 6, 7, 8, 10, 9]\n",
      "[1, 2, 3, 4, 5, 6, 7, 8, 9, 10]\n"
     ]
    },
    {
     "data": {
      "text/plain": [
       "[1, 2, 3, 4, 5, 6, 7, 8, 9, 10]"
      ]
     },
     "execution_count": 12,
     "metadata": {},
     "output_type": "execute_result"
    }
   ],
   "source": [
    "selection_sort([7,5,4,8,1,3,10,9,2,6])"
   ]
  },
  {
   "cell_type": "markdown",
   "id": "ce90bd18-1d54-4283-9e8b-55f758370386",
   "metadata": {},
   "source": [
    "# Insertion Sort\n",
    "\n",
    "- a simple sorting algorithm that builds the final sorted array (or list) one item at a time by comparisons.\n",
    "- It iterates through an input array and removes one element per iteration, finds the place the element belongs in the array, and then places it there, growing a sorted list from left to right.\n",
    "\n",
    "- The algorithm works by iterating through a list of items, comparing each element to the ones that come before it, and inserting it into the correct position in the list. This process is repeated until the list is fully sorted.\n",
    "\n",
    "- Insertion sort is less complex and efficient than a merge sort, but more efficient than a bubble sort. It is particularly efficient for small data sets and nearly sorted lists, and it is stable, meaning it does not change the relative order of elements with equal keys.\n",
    "\n",
    "- The time complexity of insertion sort is O(n^2) in the average and worst case, but it can perform in O(n) time if the input list is already sorted or almost sorted"
   ]
  },
  {
   "cell_type": "code",
   "execution_count": 23,
   "id": "a5372d53-c240-4f5a-a81f-dd777978aa43",
   "metadata": {},
   "outputs": [],
   "source": [
    "def insertion_sort(my_list):\n",
    "    for i in range(1, len(my_list)):\n",
    "        # Current Item to compare\n",
    "        tmp = my_list[i]\n",
    "        # Index of previous item\n",
    "        j = i-1\n",
    "        # While current item to compare is less than the previous item and we are at the beginning of the list\n",
    "        while tmp < my_list[j] and j > -1:\n",
    "            # Move previous item to where current item index\n",
    "            my_list[j+1]= my_list[j]\n",
    "            \n",
    "            # Move current item to previous item index\n",
    "            my_list[j] = tmp \n",
    "            \n",
    "            # Move pointer to the following previous item\n",
    "            j -= 1\n",
    "            print(my_list)\n",
    "\n",
    "    return my_list"
   ]
  },
  {
   "cell_type": "code",
   "execution_count": 25,
   "id": "5c4a673d-d464-4bf4-b348-f28d49e6c7e8",
   "metadata": {},
   "outputs": [
    {
     "name": "stdout",
     "output_type": "stream",
     "text": [
      "[3, 21, 6, 2, 4, 1]\n",
      "[3, 6, 21, 2, 4, 1]\n",
      "[3, 6, 2, 21, 4, 1]\n",
      "[3, 2, 6, 21, 4, 1]\n",
      "[2, 3, 6, 21, 4, 1]\n",
      "[2, 3, 6, 4, 21, 1]\n",
      "[2, 3, 4, 6, 21, 1]\n",
      "[2, 3, 4, 6, 1, 21]\n",
      "[2, 3, 4, 1, 6, 21]\n",
      "[2, 3, 1, 4, 6, 21]\n",
      "[2, 1, 3, 4, 6, 21]\n",
      "[1, 2, 3, 4, 6, 21]\n"
     ]
    },
    {
     "data": {
      "text/plain": [
       "[1, 2, 3, 4, 6, 21]"
      ]
     },
     "execution_count": 25,
     "metadata": {},
     "output_type": "execute_result"
    }
   ],
   "source": [
    "insertion_sort([21,3,6,2,4,1])"
   ]
  },
  {
   "cell_type": "code",
   "execution_count": null,
   "id": "87884ee5-39f1-416c-87b4-2015409eaecc",
   "metadata": {},
   "outputs": [],
   "source": []
  }
 ],
 "metadata": {
  "kernelspec": {
   "display_name": "Python 3 (ipykernel)",
   "language": "python",
   "name": "python3"
  },
  "language_info": {
   "codemirror_mode": {
    "name": "ipython",
    "version": 3
   },
   "file_extension": ".py",
   "mimetype": "text/x-python",
   "name": "python",
   "nbconvert_exporter": "python",
   "pygments_lexer": "ipython3",
   "version": "3.13.0"
  }
 },
 "nbformat": 4,
 "nbformat_minor": 5
}
