{
 "cells": [
  {
   "cell_type": "markdown",
   "id": "ba998e77-8d01-43d2-b223-10f44c43a677",
   "metadata": {},
   "source": [
    "# Merge Sort\n",
    "- Merge sort is an efficient, stable sorting algorithm that uses a divide-and-conquer approach to recursively sort subarrays and merge them back into a sorted array.\n",
    "\n",
    "- The algorithm works by repeatedly dividing the input array into smaller subarrays until each subarray contains only one element, and then merging those subarrays back together in a sorted order.\n",
    "\n",
    "- The process of merge sort can be broken down into three main steps:\n",
    "\n",
    "    1) Divide: The array is divided into two halves until it can no longer be divided. Each subarray is then sorted individually using the merge sort algorithm.\n",
    "    2) Conquer: Each subarray is sorted recursively. This step continues until all subarrays are sorted.\n",
    "    3) Merge: The sorted subarrays are merged back together in sorted order. The process continues until all elements from both subarrays have been merged."
   ]
  },
  {
   "cell_type": "markdown",
   "id": "0e37ff04-b605-4fcd-bdba-7b979341f727",
   "metadata": {},
   "source": [
    "- The merge function is a key part of the algorithm. It compares elements from the two halves and merges them back into a single sorted array.\n",
    "\n",
    "- The time complexity of merge sort is O(nlogn) for the best, worst, and average cases, where n is the number of elements in the array.\n",
    "  - O(log n) to split the list down to one item each\n",
    "  - O(n) to put it all back together, since we have to compare each subset\n",
    "  - Therefore O(n log n) \n",
    "\n",
    "- Merge sort is known for its efficiency and stability, maintaining the relative order of equal elements in the input array.\n",
    "- However, it is not an in-place sorting algorithm and requires additional memory to store the merged sub-arrays during the sorting process."
   ]
  },
  {
   "cell_type": "markdown",
   "id": "39299e00-eff6-48bc-99b2-cb917173737d",
   "metadata": {},
   "source": [
    "## Example\n",
    "\n",
    "Example of Merge Sort in Action\n",
    "- Consider the array [38, 27, 43, 10]:\n",
    "\n",
    "- First, it is divided into [38, 27] and [43, 10].\n",
    "- Each subarray is further divided into [38], [27], [43], and [10].\n",
    "= Then, the subarrays are merged back together in sorted order: [27, 38] and [10, 43].\n",
    "= Finally, the two sorted subarrays are merged to get the final sorted array [10, 27, 38, 43]."
   ]
  },
  {
   "cell_type": "code",
   "execution_count": 7,
   "id": "8f047e4d-bd7b-4d42-8a73-af0340e39b6b",
   "metadata": {},
   "outputs": [],
   "source": [
    "# this function will sort two sorted lists, it is a helper function for merge sort\n",
    "\n",
    "def merge(list1, list2):\n",
    "    # Our resultant list\n",
    "    combined = []\n",
    "\n",
    "    # Keeps track of each list, i and j for list1 and list2 respectively\n",
    "    i=0\n",
    "    j=0\n",
    "\n",
    "    # Executes until we have parsed at least one list\n",
    "    while i < len(list1) and j < len(list2):\n",
    "        if list1[i] < list2[j]:\n",
    "            combined.append(list1[i])\n",
    "            i+=1 \n",
    "        else:\n",
    "            combined.append(list2[j])\n",
    "            j+=1\n",
    "\n",
    "    # Only one of the below while loops will execute\n",
    "    while i < len(list1):\n",
    "        combined.append(list1[i])\n",
    "        i+=1 \n",
    "    while j < len(list2):\n",
    "        combined.append(list2[j])\n",
    "        j+=1 \n",
    "\n",
    "    return combined\n",
    "\n",
    "    "
   ]
  },
  {
   "cell_type": "code",
   "execution_count": 8,
   "id": "fa1171fc-63ef-4f25-83fe-b6e899452b3c",
   "metadata": {},
   "outputs": [],
   "source": [
    "# Merge sort\n",
    "# Break list down until len of list is 1 and then call merge to build back list sorted\n",
    "# This is good use case for recursion because we are breaking the problem into halves \n",
    "\n",
    "\n",
    "\n",
    "def merge_sort(my_list):\n",
    "\n",
    "    # Base case --  we have split the list till there is one item in each subset\n",
    "    if len(my_list) == 1:\n",
    "        return my_list\n",
    "    # First split list into half by obtaining middle index\n",
    "    mid_index = int(len(my_list) / 2)\n",
    "\n",
    "    # Call merge_sort recursively on each half to keep splitting list\n",
    "    left = merge_sort(my_list[:mid_index])\n",
    "    right = merge_sort(my_list[mid_index:])\n",
    "\n",
    "    return merge(left, right)"
   ]
  },
  {
   "cell_type": "code",
   "execution_count": 6,
   "id": "87a6c154-a5fa-4483-ac5c-933420a17fe7",
   "metadata": {},
   "outputs": [
    {
     "data": {
      "text/plain": [
       "[1, 2, 4, 5, 6, 6]"
      ]
     },
     "execution_count": 6,
     "metadata": {},
     "output_type": "execute_result"
    }
   ],
   "source": [
    "merge([1,4,6], [2,5,6])"
   ]
  },
  {
   "cell_type": "code",
   "execution_count": 10,
   "id": "facdcea6-628f-4bc4-b538-43830bc6b05d",
   "metadata": {},
   "outputs": [
    {
     "data": {
      "text/plain": [
       "[1, 2, 2, 3, 4, 7, 19, 32, 65, 75, 100]"
      ]
     },
     "execution_count": 10,
     "metadata": {},
     "output_type": "execute_result"
    }
   ],
   "source": [
    "merge_sort([75, 2, 3, 100, 1, 65, 7, 19, 32, 4,2])"
   ]
  },
  {
   "cell_type": "code",
   "execution_count": null,
   "id": "2f78876b-b4dc-4f18-bc41-43542133d76d",
   "metadata": {},
   "outputs": [],
   "source": [
    "import "
   ]
  }
 ],
 "metadata": {
  "kernelspec": {
   "display_name": "Python 3 (ipykernel)",
   "language": "python",
   "name": "python3"
  },
  "language_info": {
   "codemirror_mode": {
    "name": "ipython",
    "version": 3
   },
   "file_extension": ".py",
   "mimetype": "text/x-python",
   "name": "python",
   "nbconvert_exporter": "python",
   "pygments_lexer": "ipython3",
   "version": "3.13.0"
  }
 },
 "nbformat": 4,
 "nbformat_minor": 5
}
