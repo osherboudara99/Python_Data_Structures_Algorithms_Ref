{
 "cells": [
  {
   "cell_type": "markdown",
   "id": "69468156-3b85-433e-956c-497368fcc269",
   "metadata": {},
   "source": [
    "## Quick Sort\n",
    "\n",
    "- Quick Sort is a widely used sorting algorithm that employs a divide-and-conquer strategy to sort arrays efficiently.\n",
    "- It works by selecting a pivot element from the array and partitioning the other elements into two sub-arrays, according to whether they are less than or greater than the pivot. The sub-arrays are then sorted recursively.\n",
    "\n",
    "- The algorithm's steps are as follows:\n",
    "\n",
    "1) Choose a pivot element from the array.\n",
    "2) Partition the array into two sub-arrays: elements less than the pivot and elements greater than the pivot.\n",
    "3) Recursively apply the above steps to the sub-arrays."
   ]
  },
  {
   "cell_type": "markdown",
   "id": "f98060ef-098d-445b-8f0c-207ecfc1e896",
   "metadata": {},
   "source": [
    "- Quick Sort is particularly effective for large datasets due to its average-case time complexity of O(nlogn), making it faster than simpler algorithms like Bubble Sort or Insertion Sort in most scenarios. It is O(n^2) for sorted lists which is the worst case.\n",
    "\n",
    "- In practice, Quick Sort can be optimized in several ways. For small arrays, Insertion Sort is often faster than Quick Sort due to its lower overhead. Many implementations switch to Insertion Sort when the array size drops below a certain threshold. For sorted arrays or almost sorted, Insertion Sort is O(n) so it would be good to use Insertion sort in those cases.\n",
    "\n",
    "- However, Quick Sort is not a stable sorting algorithm, meaning that the relative order of equal elements is not preserved. This is typically not an issue unless specific applications require stability.\n",
    "\n",
    "- Quick Sort can be implemented either recursively or iteratively. The recursive method is more straightforward and is often used in educational contexts. The iterative method can be optimized to avoid the overhead of recursive function calls.\n",
    "\n",
    "\n",
    "- Quick Sort remains one of the most efficient and widely used sorting algorithms due to its simplicity and speed. Its divide-and-conquer approach, combined with its in-place sorting capability, makes it suitable for large datasets and systems with memory constraints."
   ]
  },
  {
   "cell_type": "code",
   "execution_count": 7,
   "id": "6aa33d24-e818-4ba9-83ad-b70ad9b960f5",
   "metadata": {},
   "outputs": [],
   "source": [
    "# Create Swap function for cleanliness since we swap multiple times at different points in algorithm\n",
    "\n",
    "def swap(my_list, index1, index2):\n",
    "    my_list[index1], my_list[index2] = my_list[index2], my_list[index1]\n",
    "\n",
    "# This algorithm is O(n) because we iterate through whole list\n",
    "def pivot(my_list, pivot_index, end_index):\n",
    "    # Pivot index and swap index start at same position\n",
    "    swap_index = pivot_index\n",
    "\n",
    "    # Loop through all items after pivot index\n",
    "    for i in range(pivot_index+1, end_index+1):\n",
    "        # If item at i is less than item at pivot index\n",
    "        if my_list[i] < my_list[pivot_index]:\n",
    "            # Move swap index forward 1\n",
    "            swap_index += 1\n",
    "            # Swap swap_index with i value (moving lower values to the left and bigger values than pivot to the right)\n",
    "            swap(my_list, swap_index, i)\n",
    "    # Finally swap the swap index and pivot index to put the pivot variable in its correct position i.e. in between the values lower than it and the values higher than it\n",
    "    swap(my_list, pivot_index, swap_index)\n",
    "\n",
    "    # return swap index\n",
    "    return swap_index\n",
    "\n",
    "# This is divide and conquer (left, right each time on best and average case) -> O(log n). \n",
    "# Sorted list is worst case: nothing on left, go one by one on right side so we basically traverse full list -> O(n)\n",
    "def quick_sort_helper(my_list, left, right):\n",
    "    # Base case is anything other than this\n",
    "    if left < right:\n",
    "        # Swap index returned by pivot function tells us what has been sorted\n",
    "        pivot_index = pivot(my_list, left, right)\n",
    "    \n",
    "        # Recursively call quick sort on left and right of pivot index\n",
    "        quick_sort_helper(my_list, left, pivot_index-1)\n",
    "        quick_sort_helper(my_list, pivot_index+1, right)\n",
    "    return my_list\n",
    "\n",
    "def quick_sort(my_list):\n",
    "    return quick_sort_helper(my_list, 0, len(my_list)-1)"
   ]
  },
  {
   "cell_type": "code",
   "execution_count": 8,
   "id": "5e298ff1-4f31-4d2c-89a7-bf5a910a8d04",
   "metadata": {},
   "outputs": [
    {
     "name": "stdout",
     "output_type": "stream",
     "text": [
      "5\n"
     ]
    },
    {
     "data": {
      "text/plain": [
       "[6, 2, 1, 4, 3, 8, 10, 9, 11]"
      ]
     },
     "execution_count": 8,
     "metadata": {},
     "output_type": "execute_result"
    }
   ],
   "source": [
    "# Pivot works as expected, 8 is at 5th index and all lower numbers are on left and higher numbers are on right\n",
    "a = [8,9,2,1,4,3,10,6,11]\n",
    "print(pivot(a, 0, 8))\n",
    "a"
   ]
  },
  {
   "cell_type": "code",
   "execution_count": 9,
   "id": "6adc8a5b-e4f6-4e22-80d1-34f805da44ad",
   "metadata": {},
   "outputs": [
    {
     "data": {
      "text/plain": [
       "[1, 2, 3, 4, 6, 8, 9, 10, 11]"
      ]
     },
     "execution_count": 9,
     "metadata": {},
     "output_type": "execute_result"
    }
   ],
   "source": [
    "quick_sort(a)"
   ]
  },
  {
   "cell_type": "code",
   "execution_count": null,
   "id": "95b8355a-93c0-41ef-9210-b568dcd38a65",
   "metadata": {},
   "outputs": [],
   "source": []
  }
 ],
 "metadata": {
  "kernelspec": {
   "display_name": "Python 3 (ipykernel)",
   "language": "python",
   "name": "python3"
  },
  "language_info": {
   "codemirror_mode": {
    "name": "ipython",
    "version": 3
   },
   "file_extension": ".py",
   "mimetype": "text/x-python",
   "name": "python",
   "nbconvert_exporter": "python",
   "pygments_lexer": "ipython3",
   "version": "3.13.0"
  }
 },
 "nbformat": 4,
 "nbformat_minor": 5
}
