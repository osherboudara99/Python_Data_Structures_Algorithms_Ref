{
 "cells": [
  {
   "cell_type": "code",
   "execution_count": 1,
   "id": "62be5f9b-0637-424c-b931-71a867085704",
   "metadata": {},
   "outputs": [],
   "source": [
    "### Common interview question\n",
    "## If you have two lists, find item in commmon\n",
    "# Below is the inefficient way of doing this O(n^2)\n",
    "def item_in_common(list1, list2):\n",
    "    for i in list1:\n",
    "        for j in list2:\n",
    "            if i == j:\n",
    "                return True\n",
    "    return False\n",
    "\n",
    "## Better version with dictionary\n",
    "# Loop through first list, setting each item in list to key in dictionary with value True\n",
    "# Then loop through second list and check if item is in dictionary -> return true if not return false\n",
    "def item_in_common(list1, list2):\n",
    "    my_dict = {}\n",
    "    for i in list1:\n",
    "        my_dict[i] = True\n",
    "\n",
    "    for j in list2:\n",
    "        if j in my_dict:\n",
    "            return True\n",
    "    return False"
   ]
  },
  {
   "cell_type": "code",
   "execution_count": 2,
   "id": "007674d6-bdd1-4c19-8b77-fd5609ac1d1e",
   "metadata": {},
   "outputs": [
    {
     "data": {
      "text/plain": [
       "[2, 8, 3]"
      ]
     },
     "execution_count": 2,
     "metadata": {},
     "output_type": "execute_result"
    }
   ],
   "source": [
    "# Find duplicates using set and a list\n",
    "# Create set and duplicates list\n",
    "# Loop through input list\n",
    "## if value in set, append to duplicates\n",
    "## else, append to set\n",
    "# return duplicates list\n",
    "def find_duplicates(l):\n",
    "\n",
    "    s = set()\n",
    "    duplicates = []\n",
    "\n",
    "    for i in l:\n",
    "        if i in s:\n",
    "            duplicates.append(i)\n",
    "        else:\n",
    "            s.add(i)\n",
    "    return duplicates\n",
    "\n",
    "\n",
    "\n",
    "find_duplicates([2,45,6,7,8,8,3,2,3])\n",
    "\n",
    "# O(n + n) slightly less efficient than above\n",
    "def find_duplicates(l):\n",
    "\n",
    "    counts = {} \n",
    "\n",
    "    for i in l:\n",
    "        counts[i] = counts.get(i, 0) + 1\n",
    "\n",
    "    duplicates = []\n",
    "\n",
    "    for i, count in counts.items():\n",
    "        if count > 1:\n",
    "            duplicates.append(i)\n",
    "    return duplicates\n",
    "\n",
    "find_duplicates([2, 45, 6,7,8,8,3,2,3])"
   ]
  },
  {
   "cell_type": "code",
   "execution_count": 3,
   "id": "f9527778-7746-4f3a-9816-743ceb1c212a",
   "metadata": {},
   "outputs": [
    {
     "name": "stdout",
     "output_type": "stream",
     "text": [
      "Result: None\n",
      "Result: r\n"
     ]
    }
   ],
   "source": [
    "def first_non_repeating_char(string):\n",
    "\n",
    "    chars = {}\n",
    "    for i in string:\n",
    "        chars[i] = chars.get(i, 0) + 1\n",
    "\n",
    "    for key in chars:\n",
    "        if chars[key] == 1:\n",
    "            return key\n",
    "    return None\n",
    "\n",
    "print(\"Result:\", first_non_repeating_char('hghhg'))\n",
    "print(\"Result:\", first_non_repeating_char(\"rebyidd\")) "
   ]
  },
  {
   "cell_type": "code",
   "execution_count": 9,
   "id": "6666dc17-af4c-4c64-80b9-86f481e492d2",
   "metadata": {},
   "outputs": [],
   "source": [
    "def roman_to_int(value):\n",
    "    # First, create order dictionary mapping\n",
    "    # Second initialize total variable\n",
    "    # Third, loop through range(len(roman_value))\n",
    "    # Fourth, for Roman numeral in rnage(len(value)), obtain the mapping to an integer\n",
    "    # 5th, if next integer index (i+1) is less than the len of value and the current value is less than the next integer (roman_int[value[i]]) then subtract current_value from total\n",
    "    # 6t, else add current_value to total\n",
    "    \n",
    "    # Step 1: Roman numeral to integer mapping\n",
    "    roman_int = {\n",
    "        'I': 1, 'V': 5, 'X': 10, 'L': 50,\n",
    "        'C': 100, 'D': 500, 'M': 1000\n",
    "    }\n",
    "    \n",
    "    # Initialize Values\n",
    "    total = 0\n",
    "    \n",
    "    for i in range(len(value)):\n",
    "        \n",
    "        current_value = roman_int[value[i]]\n",
    "        \n",
    "        # Check if this is not the last character and if the next numeral is larger \n",
    "        if i + 1 < len(value) and roman_int[value[i+1]] > current_value:\n",
    "            \n",
    "            # If not last character and next value is larger than current value -> subtract\n",
    "            # i.e. think IV, since V is greater than I, we subtract first\n",
    "            # In above case, we subtract 1 in first loop (because if conditions are met) and add 5 in second iteration (because if conditions are not met so we go to else)\n",
    "            total -= current_value\n",
    "        else:\n",
    "            total += current_value\n",
    "        \n",
    "        # Set prev value to current value\n",
    "        # prev = current_value\n",
    "    return total  \n",
    "            "
   ]
  },
  {
   "cell_type": "code",
   "execution_count": 10,
   "id": "f0ba40cb-3e3b-488b-9071-d01eb40e39d6",
   "metadata": {},
   "outputs": [
    {
     "data": {
      "text/plain": [
       "4"
      ]
     },
     "execution_count": 10,
     "metadata": {},
     "output_type": "execute_result"
    }
   ],
   "source": [
    "roman_to_int('IV')"
   ]
  },
  {
   "cell_type": "code",
   "execution_count": 11,
   "id": "05ffc2f8-8589-4c0c-8964-e82fbd2a3de4",
   "metadata": {},
   "outputs": [
    {
     "data": {
      "text/plain": [
       "7"
      ]
     },
     "execution_count": 11,
     "metadata": {},
     "output_type": "execute_result"
    }
   ],
   "source": [
    "roman_to_int('VII')"
   ]
  },
  {
   "cell_type": "code",
   "execution_count": 12,
   "id": "c20b5e76-7140-4509-9fc6-403625088fff",
   "metadata": {},
   "outputs": [
    {
     "data": {
      "text/plain": [
       "9"
      ]
     },
     "execution_count": 12,
     "metadata": {},
     "output_type": "execute_result"
    }
   ],
   "source": [
    "roman_to_int('IX')"
   ]
  },
  {
   "cell_type": "code",
   "execution_count": 13,
   "id": "d6bcdf2f-906c-4e0c-8ba8-0c3ba8b40d6b",
   "metadata": {},
   "outputs": [
    {
     "data": {
      "text/plain": [
       "3"
      ]
     },
     "execution_count": 13,
     "metadata": {},
     "output_type": "execute_result"
    }
   ],
   "source": [
    "roman_to_int('III')"
   ]
  },
  {
   "cell_type": "code",
   "execution_count": 14,
   "id": "2056fe4d-132a-4b77-adf8-e2bffcf9fcbd",
   "metadata": {},
   "outputs": [
    {
     "data": {
      "text/plain": [
       "10"
      ]
     },
     "execution_count": 14,
     "metadata": {},
     "output_type": "execute_result"
    }
   ],
   "source": [
    "roman_to_int('X')"
   ]
  },
  {
   "cell_type": "code",
   "execution_count": 15,
   "id": "51fcca43-7da6-4bd0-874f-3387aaea2b48",
   "metadata": {},
   "outputs": [
    {
     "data": {
      "text/plain": [
       "19"
      ]
     },
     "execution_count": 15,
     "metadata": {},
     "output_type": "execute_result"
    }
   ],
   "source": [
    "roman_to_int('XIX')"
   ]
  },
  {
   "cell_type": "code",
   "execution_count": 16,
   "id": "483883a7-2cc6-4606-9391-b1110fdb2db1",
   "metadata": {},
   "outputs": [
    {
     "data": {
      "text/plain": [
       "1559"
      ]
     },
     "execution_count": 16,
     "metadata": {},
     "output_type": "execute_result"
    }
   ],
   "source": [
    "roman_to_int('MDLIX')"
   ]
  },
  {
   "cell_type": "markdown",
   "id": "b1bf60fe-e56b-43e8-837e-e01b1afbab81",
   "metadata": {},
   "source": [
    "# Longest Common Prefix\n",
    "https://leetcode.com/problems/longest-common-prefix/description/"
   ]
  },
  {
   "cell_type": "code",
   "execution_count": 17,
   "id": "429379b0-e7cb-4ad1-8c9e-7816c47556c3",
   "metadata": {},
   "outputs": [],
   "source": [
    "def longestCommonPrefix(strs: list[str]) -> str:\n",
    "    # Initiallize return string\n",
    "    common_prefix = ''\n",
    "\n",
    "    # Loop through letters in string at zero index\n",
    "    for i in range(len(strs[0])):\n",
    "\n",
    "        # Have a counter to check if how many matches there are\n",
    "        counter = 0\n",
    "\n",
    "        # Loop through all other items in list and compare against string at zero index\n",
    "        for j in range(1, len(strs)):\n",
    "            # try - except incase out of range\n",
    "            try:\n",
    "                # if there is a match increase counter\n",
    "                if strs[0][i] == strs[j][i]:\n",
    "                    counter += 1 \n",
    "            except IndexError:\n",
    "                break\n",
    "        # If counter == length of list - 1, we know that all items in list have the same letter at the same position\n",
    "        if counter == len(strs) - 1:\n",
    "            common_prefix += (strs[0][i])\n",
    "        # If not, we know there aren't matches everywhere so we return prefix\n",
    "        else:\n",
    "            return common_prefix\n",
    "    return common_prefix\n",
    "\n"
   ]
  },
  {
   "cell_type": "code",
   "execution_count": 18,
   "id": "e5df6bf4-91ee-4f1f-8a26-8357b6bb1cbe",
   "metadata": {},
   "outputs": [
    {
     "data": {
      "text/plain": [
       "'12'"
      ]
     },
     "execution_count": 18,
     "metadata": {},
     "output_type": "execute_result"
    }
   ],
   "source": [
    "longestCommonPrefix(['1234454', '12334', '12456'])"
   ]
  },
  {
   "cell_type": "code",
   "execution_count": 19,
   "id": "7a2538aa-aaf4-491d-929a-38c6dcc7e551",
   "metadata": {},
   "outputs": [
    {
     "data": {
      "text/plain": [
       "''"
      ]
     },
     "execution_count": 19,
     "metadata": {},
     "output_type": "execute_result"
    }
   ],
   "source": [
    "longestCommonPrefix(['a', 'b'])"
   ]
  },
  {
   "cell_type": "code",
   "execution_count": 20,
   "id": "0e30423c-6ecf-4283-a3d0-dc5a7a70a06e",
   "metadata": {},
   "outputs": [
    {
     "data": {
      "text/plain": [
       "'flo'"
      ]
     },
     "execution_count": 20,
     "metadata": {},
     "output_type": "execute_result"
    }
   ],
   "source": [
    "longestCommonPrefix(['flower', 'flour', 'flows', 'flood'])"
   ]
  },
  {
   "cell_type": "markdown",
   "id": "0c1d9d4b-2fce-438a-809d-cd6456899241",
   "metadata": {},
   "source": [
    "# Plus One Algorithm\n",
    "\n",
    "https://leetcode.com/problems/plus-one/description/"
   ]
  },
  {
   "cell_type": "code",
   "execution_count": 21,
   "id": "0c5efcd2-eb09-4155-bade-affb75e619d0",
   "metadata": {},
   "outputs": [],
   "source": [
    "## My solution\n",
    "\n",
    "def plusOne(digits):\n",
    "    combined_digits = int(''.join(map(str,digits))) \n",
    "    combined_digits += 1 \n",
    "    combined_digits = str(combined_digits)\n",
    "    digits = list(combined_digits)\n",
    "\n",
    "    return [int(i) for i in digits]\n",
    "\n",
    "\n",
    "## Another solution\n",
    "\n",
    "def plusOne(digits):\n",
    "    # Start from the end, in many cases, this will be O(1) algorithm because of starting from end\n",
    "    for i in range(len(digits)-1, 0, -1):\n",
    "\n",
    "        # Most lists will hit this statement and return (ex: [1,2,3] , [2,8], [8])\n",
    "        if digits[i] != 10:\n",
    "            digits[i] += 1\n",
    "            return digits\n",
    "        # Lists that go from 9 -> 0 will come here (ex: [1,9], [2,9] etc)\n",
    "        digits[i] = 0\n",
    "\n",
    "        # If going from 9 -> 0 by adding one we add a new digit to number, then we come here (ex: [9], [9,9], [9,9,9], [9,9,9,9])\n",
    "        if i == 0:\n",
    "            return [1] + digits"
   ]
  },
  {
   "cell_type": "markdown",
   "id": "75c6ec59-b187-4044-8521-8f8939161294",
   "metadata": {},
   "source": [
    "## kth Factor of n:\n",
    "https://leetcode.com/problems/the-kth-factor-of-n/?envType=study-plan-v2&envId=amazon-spring-23-high-frequency\n"
   ]
  },
  {
   "cell_type": "code",
   "execution_count": 22,
   "id": "622556c0-bd11-4034-8edf-daa0f5247dd2",
   "metadata": {},
   "outputs": [],
   "source": [
    "def kth_factor(k:int, n:int) -> int:\n",
    "    # 1) Initialize factor counter\n",
    "    # 2) Loop from 1 to n+1\n",
    "    # 3) If n is divisble by i, increment factor counter\n",
    "    # 4) if kth value == factor counter, return i \n",
    "    # 5) return -1 at the end\n",
    "\n",
    "    j = 0 \n",
    "    for i in range(1, n+1):\n",
    "        if n % i == 0:\n",
    "            j+=1\n",
    "        if k == j:\n",
    "            return i \n",
    "    return -1 "
   ]
  },
  {
   "cell_type": "code",
   "execution_count": 23,
   "id": "958da2cd-bbe8-4cad-b5d9-da40366f4bda",
   "metadata": {},
   "outputs": [
    {
     "data": {
      "text/plain": [
       "1"
      ]
     },
     "execution_count": 23,
     "metadata": {},
     "output_type": "execute_result"
    }
   ],
   "source": [
    "kth_factor(1, 16)"
   ]
  },
  {
   "cell_type": "markdown",
   "id": "57d29e5a-41fa-40d1-b4e0-d6d36207fc7e",
   "metadata": {},
   "source": [
    "# ARRAYS"
   ]
  },
  {
   "cell_type": "markdown",
   "id": "7fd8e5ee-9bd8-4392-9375-3a57ab001c06",
   "metadata": {},
   "source": [
    "## Two Sum\n",
    "https://leetcode.com/problems/two-sum/description/"
   ]
  },
  {
   "cell_type": "code",
   "execution_count": 24,
   "id": "a2a1f6a5-67a7-43d7-81e9-b7fc3c44ce5e",
   "metadata": {},
   "outputs": [],
   "source": [
    "def two_sum(nums:list[int], target:int) -> list[int]:\n",
    "    # 1) Create dictionary to store index and value of already traversed numbers\n",
    "    # 2) Iterate through num list\n",
    "    # 3) Obtain complement (target - nums[i])\n",
    "    # 4) If complement in dictionary, return index of complement and current iteration index\n",
    "    # 5) After conditional, add traversed number and its index to dictionary \n",
    "    # 6) return empty list if reached end of list and two sum wasn't found\n",
    "\n",
    "    traversed_nums = {} \n",
    "\n",
    "    for i in range(len(nums)):\n",
    "        complement = target - nums[i]\n",
    "        if complement in traversed_nums:\n",
    "            return [traversed_nums[complement], i]\n",
    "        traversed_nums[nums[i]] = i\n",
    "    return []"
   ]
  },
  {
   "cell_type": "code",
   "execution_count": 25,
   "id": "5cc78d80-cab1-43ac-b68e-a7fec33da698",
   "metadata": {},
   "outputs": [
    {
     "data": {
      "text/plain": [
       "[0, 1]"
      ]
     },
     "execution_count": 25,
     "metadata": {},
     "output_type": "execute_result"
    }
   ],
   "source": [
    "two_sum([9,3,4], 12)"
   ]
  },
  {
   "cell_type": "code",
   "execution_count": 26,
   "id": "bf803cb0-f3e8-4672-ab97-979b4b951ebd",
   "metadata": {},
   "outputs": [
    {
     "data": {
      "text/plain": [
       "[]"
      ]
     },
     "execution_count": 26,
     "metadata": {},
     "output_type": "execute_result"
    }
   ],
   "source": [
    "two_sum([1,2,3], 45)"
   ]
  },
  {
   "cell_type": "code",
   "execution_count": 27,
   "id": "fb59367e-da3b-4d14-bc95-c21f7233ca63",
   "metadata": {},
   "outputs": [
    {
     "data": {
      "text/plain": [
       "[]"
      ]
     },
     "execution_count": 27,
     "metadata": {},
     "output_type": "execute_result"
    }
   ],
   "source": [
    "two_sum([3,3,3], 9)"
   ]
  },
  {
   "cell_type": "code",
   "execution_count": 28,
   "id": "ca36a3ff-4dd2-40d2-a648-4511e63076a7",
   "metadata": {},
   "outputs": [
    {
     "data": {
      "text/plain": [
       "[0, 1]"
      ]
     },
     "execution_count": 28,
     "metadata": {},
     "output_type": "execute_result"
    }
   ],
   "source": [
    "two_sum([3,3], 6)"
   ]
  },
  {
   "cell_type": "markdown",
   "id": "c340dcc0-27a9-4b42-b0fe-e1465ad8ac28",
   "metadata": {},
   "source": [
    "## Best Time to Buy and Sell Stock\n",
    "\n",
    "https://leetcode.com/problems/best-time-to-buy-and-sell-stock/description/"
   ]
  },
  {
   "cell_type": "code",
   "execution_count": 29,
   "id": "395fd586-a5f4-4622-8c55-aad666215571",
   "metadata": {},
   "outputs": [],
   "source": [
    "def max_profit(prices:list[int]) -> int:\n",
    "    # 1) Create max profit variable and set to zero, create cheapest price variable and set to infinity\n",
    "    # 2) Loop through prices until (and including) second to last index\n",
    "    # 3) if prices at current index is less than cheapest prices, cheapest price equals price at current index\n",
    "    # 4) if prices at next index - cheapest price is greater than max profit, then max profit equals that (meaning higher max profit for selling then)\n",
    "    # 5) return max profit\n",
    "    max_profit = 0\n",
    "    cheapest_price = float('inf')\n",
    "\n",
    "    for i in range(len(prices)-1):\n",
    "        if prices[i] < cheapest_price:\n",
    "            cheapest_price = prices[i]\n",
    "\n",
    "        if max_profit < prices[i+1] - cheapest_price:\n",
    "            max_profit = prices[i+1] - cheapest_price\n",
    "    return max_profit"
   ]
  },
  {
   "cell_type": "code",
   "execution_count": 30,
   "id": "06723d34-a2a6-4b51-9aca-c0fd43973b4c",
   "metadata": {},
   "outputs": [
    {
     "data": {
      "text/plain": [
       "5"
      ]
     },
     "execution_count": 30,
     "metadata": {},
     "output_type": "execute_result"
    }
   ],
   "source": [
    "max_profit([1,2,3,4,5,6])"
   ]
  },
  {
   "cell_type": "code",
   "execution_count": 31,
   "id": "79e2b668-b2f7-437a-8975-4f4a10c14052",
   "metadata": {},
   "outputs": [
    {
     "data": {
      "text/plain": [
       "2"
      ]
     },
     "execution_count": 31,
     "metadata": {},
     "output_type": "execute_result"
    }
   ],
   "source": [
    "max_profit([2,4,1])"
   ]
  },
  {
   "cell_type": "code",
   "execution_count": 32,
   "id": "e3fdead1-81e2-4c68-84cf-868efff5daa8",
   "metadata": {},
   "outputs": [
    {
     "data": {
      "text/plain": [
       "0"
      ]
     },
     "execution_count": 32,
     "metadata": {},
     "output_type": "execute_result"
    }
   ],
   "source": [
    "max_profit([7,6,5,4])"
   ]
  },
  {
   "cell_type": "markdown",
   "id": "9006e0da-82be-48b4-894f-9be40f36bc28",
   "metadata": {},
   "source": [
    "## Maximum SubArray\n",
    "\n",
    "https://leetcode.com/problems/maximum-subarray/description/"
   ]
  },
  {
   "cell_type": "code",
   "execution_count": 11,
   "id": "fc027f0a-16a1-480a-a1be-ac87fdfb2d4d",
   "metadata": {},
   "outputs": [],
   "source": [
    "def max_subarray(nums:list[int]) -> int:\n",
    "    # O(n^2)\n",
    "    # 1) initialize largest sum to -infinity\n",
    "    # 2) Loop through nums list len\n",
    "    # 3) initialize current sum\n",
    "    # 4) loop from i to nums list len\n",
    "    # 5) add nums[j] to current sum\n",
    "    # 6) find max between current sum and largest sum and set to largest sum\n",
    "    # 7) return largest sum\n",
    "    largest_sum = float('-inf')\n",
    "    for i in range(len(nums)):\n",
    "        current_sum = 0 \n",
    "        for j in range(i, len(nums)):\n",
    "            current_sum += nums[j]\n",
    "            largest_sum = max(current_sum, largest_sum)\n",
    "    return largest_sum\n",
    "\n",
    "\n",
    "def max_subarray(nums:list[int]) -> int:\n",
    "    # O(n) solution\n",
    "    # 1) Initialize total variable (set to zero) and result variable (set to first number in list)\n",
    "    # 2) Iterate through numbers list\n",
    "    # 3) If total is less than zero, we set to zero \n",
    "    # 4) Add number at index to total\n",
    "    # 5) Find max between result and total and set to result\n",
    "    # Result will eventually hit the maximum sub array sum because it is always being compared to total \n",
    "    # total is reset to zero in cases where we are starting our new sum and when max function executes, result obtains whatever this sum is\n",
    "    # - the maximum sum will stay assigned to result\n",
    "    total = 0\n",
    "    result = nums[0]\n",
    "\n",
    "    for i in range(len(nums)):\n",
    "        if total < 0:\n",
    "            total = 0 \n",
    "        total += nums[i]\n",
    "        result = max(total, result)\n",
    "    return result\n",
    "    \n",
    "        "
   ]
  },
  {
   "cell_type": "code",
   "execution_count": 12,
   "id": "a2fb3094-e1f5-47f5-800f-74891cc97a95",
   "metadata": {},
   "outputs": [
    {
     "data": {
      "text/plain": [
       "1"
      ]
     },
     "execution_count": 12,
     "metadata": {},
     "output_type": "execute_result"
    }
   ],
   "source": [
    "max_subarray([1])"
   ]
  },
  {
   "cell_type": "code",
   "execution_count": 13,
   "id": "498e6b8f-546c-4c0b-9c3f-08ab24a6a888",
   "metadata": {},
   "outputs": [
    {
     "data": {
      "text/plain": [
       "6"
      ]
     },
     "execution_count": 13,
     "metadata": {},
     "output_type": "execute_result"
    }
   ],
   "source": [
    "max_subarray([1,2,3,-3])"
   ]
  },
  {
   "cell_type": "code",
   "execution_count": 14,
   "id": "7de2667e-366f-4b71-bb60-eb9f7d3ab324",
   "metadata": {},
   "outputs": [
    {
     "data": {
      "text/plain": [
       "8"
      ]
     },
     "execution_count": 14,
     "metadata": {},
     "output_type": "execute_result"
    }
   ],
   "source": [
    "max_subarray([1,-5,4,-1,2,3,-4,-6, 3])"
   ]
  },
  {
   "cell_type": "markdown",
   "id": "876c35fb-630b-45e7-af2a-1da778f22098",
   "metadata": {},
   "source": [
    "# STRING"
   ]
  },
  {
   "cell_type": "markdown",
   "id": "8f73e823-be0c-4ffb-be97-5f61717bd2be",
   "metadata": {},
   "source": [
    "## Is Palindrome?\n",
    "\n",
    "https://leetcode.com/problems/valid-palindrome/description/"
   ]
  },
  {
   "cell_type": "code",
   "execution_count": 1,
   "id": "53bc5a17-5e0c-4442-8de8-ff951133118d",
   "metadata": {},
   "outputs": [],
   "source": [
    "def is_palindrome(phrase):\n",
    "    ans = '' \n",
    "    for i in range(len(phrase)):\n",
    "        if phrase[i].isalnum():\n",
    "            ans += phrase[i]\n",
    "    return ans == ans[::-1]\n",
    "\n",
    "def is_palindrome(phrase):\n",
    "    # Ignores any non alphanumeric characters (spaces and symbols)\n",
    "    \n",
    "    phrase_alnum = \"\".join([i.lower() for i in phrase if i.isalnum()])\n",
    "    \n",
    "    return phrase_alnum[::-1] == phrase_alnum\n",
    "\n"
   ]
  },
  {
   "cell_type": "code",
   "execution_count": 2,
   "id": "aa5461dd-f8ae-4b0f-8d3a-924bc4848a66",
   "metadata": {},
   "outputs": [
    {
     "data": {
      "text/plain": [
       "True"
      ]
     },
     "execution_count": 2,
     "metadata": {},
     "output_type": "execute_result"
    }
   ],
   "source": [
    "is_palindrome('adda')"
   ]
  },
  {
   "cell_type": "code",
   "execution_count": 3,
   "id": "ba120f46-85c8-4ddf-b7b8-702a74b0074d",
   "metadata": {},
   "outputs": [
    {
     "data": {
      "text/plain": [
       "True"
      ]
     },
     "execution_count": 3,
     "metadata": {},
     "output_type": "execute_result"
    }
   ],
   "source": [
    "is_palindrome('SQL# LQS')"
   ]
  },
  {
   "cell_type": "code",
   "execution_count": 4,
   "id": "13421a89-906f-427c-818f-7eb3d07697a1",
   "metadata": {},
   "outputs": [
    {
     "data": {
      "text/plain": [
       "False"
      ]
     },
     "execution_count": 4,
     "metadata": {},
     "output_type": "execute_result"
    }
   ],
   "source": [
    "is_palindrome('lnkdf%%%')"
   ]
  },
  {
   "cell_type": "code",
   "execution_count": 8,
   "id": "7ac86ec2-6843-4274-9300-3f7bc7658796",
   "metadata": {},
   "outputs": [
    {
     "data": {
      "text/plain": [
       "True"
      ]
     },
     "execution_count": 8,
     "metadata": {},
     "output_type": "execute_result"
    }
   ],
   "source": [
    "is_palindrome('l%nkk$$$nl$$')"
   ]
  }
 ],
 "metadata": {
  "kernelspec": {
   "display_name": "Python 3 (ipykernel)",
   "language": "python",
   "name": "python3"
  },
  "language_info": {
   "codemirror_mode": {
    "name": "ipython",
    "version": 3
   },
   "file_extension": ".py",
   "mimetype": "text/x-python",
   "name": "python",
   "nbconvert_exporter": "python",
   "pygments_lexer": "ipython3",
   "version": "3.13.0"
  }
 },
 "nbformat": 4,
 "nbformat_minor": 5
}
