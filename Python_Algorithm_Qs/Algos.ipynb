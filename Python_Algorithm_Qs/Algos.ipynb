{
 "cells": [
  {
   "cell_type": "code",
   "execution_count": 1,
   "id": "62be5f9b-0637-424c-b931-71a867085704",
   "metadata": {},
   "outputs": [],
   "source": [
    "### Common interview question\n",
    "## If you have two lists, find item in commmon\n",
    "# Below is the inefficient way of doing this O(n^2)\n",
    "def item_in_common(list1, list2):\n",
    "    for i in list1:\n",
    "        for j in list2:\n",
    "            if i == j:\n",
    "                return True\n",
    "    return False\n",
    "\n",
    "## Better version with dictionary\n",
    "# Loop through first list, setting each item in list to key in dictionary with value True\n",
    "# Then loop through second list and check if item is in dictionary -> return true if not return false\n",
    "def item_in_common(list1, list2):\n",
    "    my_dict = {}\n",
    "    for i in list1:\n",
    "        my_dict[i] = True\n",
    "\n",
    "    for j in list2:\n",
    "        if j in my_dict:\n",
    "            return True\n",
    "    return False"
   ]
  },
  {
   "cell_type": "code",
   "execution_count": 2,
   "id": "007674d6-bdd1-4c19-8b77-fd5609ac1d1e",
   "metadata": {},
   "outputs": [
    {
     "data": {
      "text/plain": [
       "[8, 2, 3]"
      ]
     },
     "execution_count": 2,
     "metadata": {},
     "output_type": "execute_result"
    }
   ],
   "source": [
    "# Find duplicates using set and a list\n",
    "# Create set and duplicates list\n",
    "# Loop through input list\n",
    "## if value in set, append to duplicates\n",
    "## else, append to set\n",
    "# return duplicates list\n",
    "def find_duplicates(l):\n",
    "\n",
    "    s = set()\n",
    "    duplicates = []\n",
    "\n",
    "    for i in l:\n",
    "        if i in s:\n",
    "            duplicates.append(i)\n",
    "        else:\n",
    "            s.add(i)\n",
    "    return duplicates\n",
    "\n",
    "\n",
    "\n",
    "find_duplicates([2,45,6,7,8,8,3,2,3])\n",
    "\n",
    "# O(n + n) slightly less efficient than above\n",
    "def find_duplicates(l):\n",
    "\n",
    "    counts = {} \n",
    "\n",
    "    for i in l:\n",
    "        counts[i] = counts.get(i, 0) + 1\n",
    "\n",
    "    duplicates = []\n",
    "\n",
    "    for i, count in counts.items():\n",
    "        if count > 1:\n",
    "            duplicates.append(i)\n",
    "    return duplicates\n",
    "\n",
    "find_duplicates([2, 45, 6,7,8,8,3,2,3])"
   ]
  },
  {
   "cell_type": "code",
   "execution_count": 11,
   "id": "f9527778-7746-4f3a-9816-743ceb1c212a",
   "metadata": {},
   "outputs": [
    {
     "name": "stdout",
     "output_type": "stream",
     "text": [
      "Result: None\n",
      "Result: r\n"
     ]
    }
   ],
   "source": [
    "def first_non_repeating_char(string):\n",
    "\n",
    "    chars = {}\n",
    "    for i in string:\n",
    "        chars[i] = chars.get(i, 0) + 1\n",
    "\n",
    "    for key in chars:\n",
    "        if chars[key] == 1:\n",
    "            return key\n",
    "    return None\n",
    "\n",
    "print(\"Result:\", first_non_repeating_char('hghhg'))\n",
    "print(\"Result:\", first_non_repeating_char(\"rebyidd\")) "
   ]
  },
  {
   "cell_type": "code",
   "execution_count": 3,
   "id": "1ef51aab-e895-453d-af73-63004bb389d2",
   "metadata": {},
   "outputs": [],
   "source": [
    "def is_palindrome(phrase):\n",
    "    # Ignores any non alphanumeric characters (spaces and symbols)\n",
    "    \n",
    "    phrase_alnum = \"\".join([i.lower() for i in phrase if i.isalnum()])\n",
    "    \n",
    "    return phrase_alnum[::-1] == phrase_alnum"
   ]
  },
  {
   "cell_type": "code",
   "execution_count": 26,
   "id": "d821abe6-2de0-45aa-82a1-6a7e4e1f51ae",
   "metadata": {},
   "outputs": [
    {
     "data": {
      "text/plain": [
       "True"
      ]
     },
     "execution_count": 26,
     "metadata": {},
     "output_type": "execute_result"
    }
   ],
   "source": [
    "is_palindrome('adda')"
   ]
  },
  {
   "cell_type": "code",
   "execution_count": 27,
   "id": "a7713648-48f7-418c-ba90-34de131382a8",
   "metadata": {},
   "outputs": [
    {
     "data": {
      "text/plain": [
       "True"
      ]
     },
     "execution_count": 27,
     "metadata": {},
     "output_type": "execute_result"
    }
   ],
   "source": [
    "is_palindrome('SQL# LQS')"
   ]
  },
  {
   "cell_type": "code",
   "execution_count": 28,
   "id": "643995a5-1694-4e8e-98f7-6efba8976433",
   "metadata": {},
   "outputs": [
    {
     "data": {
      "text/plain": [
       "False"
      ]
     },
     "execution_count": 28,
     "metadata": {},
     "output_type": "execute_result"
    }
   ],
   "source": [
    "is_palindrome('lnkdf%%%')"
   ]
  },
  {
   "cell_type": "code",
   "execution_count": 29,
   "id": "ca199b1a-0f75-426c-bc66-ac266dc80cd6",
   "metadata": {},
   "outputs": [
    {
     "data": {
      "text/plain": [
       "True"
      ]
     },
     "execution_count": 29,
     "metadata": {},
     "output_type": "execute_result"
    }
   ],
   "source": [
    "is_palindrome('l%nkk$$$nl$$')"
   ]
  },
  {
   "cell_type": "code",
   "execution_count": 13,
   "id": "6666dc17-af4c-4c64-80b9-86f481e492d2",
   "metadata": {},
   "outputs": [],
   "source": [
    "def roman_to_int(value):\n",
    "    # First, create order dictionary mapping\n",
    "    # Second initialize total variable\n",
    "    # Third, loop through range(len(roman_value))\n",
    "    # Fourth, for Roman numeral in rnage(len(value)), obtain the mapping to an integer\n",
    "    # 5th, if next integer index (i+1) is less than the len of value and the current value is less than the next integer (roman_int[value[i]]) then subtract current_value from total\n",
    "    # 6t, else add current_value to total\n",
    "    \n",
    "    # Step 1: Roman numeral to integer mapping\n",
    "    roman_int = {\n",
    "        'I': 1, 'V': 5, 'X': 10, 'L': 50,\n",
    "        'C': 100, 'D': 500, 'M': 1000\n",
    "    }\n",
    "    \n",
    "    # Initialize Values\n",
    "    total = 0\n",
    "    \n",
    "    for i in range(len(value)):\n",
    "        \n",
    "        current_value = roman_int[value[i]]\n",
    "        \n",
    "        # Check if this is not the last character and if the next numeral is larger \n",
    "        if i + 1 < len(value) and roman_int[value[i+1]] > current_value:\n",
    "            \n",
    "            # If not last character and next value is larger than current value -> subtract\n",
    "            # i.e. think IV, since V is greater than I, we subtract first\n",
    "            # In above case, we subtract 1 in first loop (because if conditions are met) and add 5 in second iteration (because if conditions are not met so we go to else)\n",
    "            total -= current_value\n",
    "        else:\n",
    "            total += current_value\n",
    "        \n",
    "        # Set prev value to current value\n",
    "        # prev = current_value\n",
    "    return total  \n",
    "            "
   ]
  },
  {
   "cell_type": "code",
   "execution_count": 14,
   "id": "f0ba40cb-3e3b-488b-9071-d01eb40e39d6",
   "metadata": {},
   "outputs": [
    {
     "data": {
      "text/plain": [
       "4"
      ]
     },
     "execution_count": 14,
     "metadata": {},
     "output_type": "execute_result"
    }
   ],
   "source": [
    "roman_to_int('IV')"
   ]
  },
  {
   "cell_type": "code",
   "execution_count": 15,
   "id": "05ffc2f8-8589-4c0c-8964-e82fbd2a3de4",
   "metadata": {},
   "outputs": [
    {
     "data": {
      "text/plain": [
       "7"
      ]
     },
     "execution_count": 15,
     "metadata": {},
     "output_type": "execute_result"
    }
   ],
   "source": [
    "roman_to_int('VII')"
   ]
  },
  {
   "cell_type": "code",
   "execution_count": 16,
   "id": "c20b5e76-7140-4509-9fc6-403625088fff",
   "metadata": {},
   "outputs": [
    {
     "data": {
      "text/plain": [
       "9"
      ]
     },
     "execution_count": 16,
     "metadata": {},
     "output_type": "execute_result"
    }
   ],
   "source": [
    "roman_to_int('IX')"
   ]
  },
  {
   "cell_type": "code",
   "execution_count": 17,
   "id": "d6bcdf2f-906c-4e0c-8ba8-0c3ba8b40d6b",
   "metadata": {},
   "outputs": [
    {
     "data": {
      "text/plain": [
       "3"
      ]
     },
     "execution_count": 17,
     "metadata": {},
     "output_type": "execute_result"
    }
   ],
   "source": [
    "roman_to_int('III')"
   ]
  },
  {
   "cell_type": "code",
   "execution_count": 18,
   "id": "2056fe4d-132a-4b77-adf8-e2bffcf9fcbd",
   "metadata": {},
   "outputs": [
    {
     "data": {
      "text/plain": [
       "10"
      ]
     },
     "execution_count": 18,
     "metadata": {},
     "output_type": "execute_result"
    }
   ],
   "source": [
    "roman_to_int('X')"
   ]
  },
  {
   "cell_type": "code",
   "execution_count": 19,
   "id": "51fcca43-7da6-4bd0-874f-3387aaea2b48",
   "metadata": {},
   "outputs": [
    {
     "data": {
      "text/plain": [
       "19"
      ]
     },
     "execution_count": 19,
     "metadata": {},
     "output_type": "execute_result"
    }
   ],
   "source": [
    "roman_to_int('XIX')"
   ]
  },
  {
   "cell_type": "code",
   "execution_count": 22,
   "id": "483883a7-2cc6-4606-9391-b1110fdb2db1",
   "metadata": {},
   "outputs": [
    {
     "data": {
      "text/plain": [
       "1559"
      ]
     },
     "execution_count": 22,
     "metadata": {},
     "output_type": "execute_result"
    }
   ],
   "source": [
    "roman_to_int('MDLIX')"
   ]
  },
  {
   "cell_type": "markdown",
   "id": "b1bf60fe-e56b-43e8-837e-e01b1afbab81",
   "metadata": {},
   "source": [
    "# Longest Common Prefix\n",
    "https://leetcode.com/problems/longest-common-prefix/description/"
   ]
  },
  {
   "cell_type": "code",
   "execution_count": 3,
   "id": "429379b0-e7cb-4ad1-8c9e-7816c47556c3",
   "metadata": {},
   "outputs": [],
   "source": [
    "def longestCommonPrefix(strs: list[str]) -> str:\n",
    "    # Initiallize return string\n",
    "    common_prefix = ''\n",
    "\n",
    "    # Loop through letters in string at zero index\n",
    "    for i in range(len(strs[0])):\n",
    "\n",
    "        # Have a counter to check if how many matches there are\n",
    "        counter = 0\n",
    "\n",
    "        # Loop through all other items in list and compare against string at zero index\n",
    "        for j in range(1, len(strs)):\n",
    "            # try - except incase out of range\n",
    "            try:\n",
    "                # if there is a match increase counter\n",
    "                if strs[0][i] == strs[j][i]:\n",
    "                    counter += 1 \n",
    "            except IndexError:\n",
    "                break\n",
    "        # If counter == length of list - 1, we know that all items in list have the same letter at the same position\n",
    "        if counter == len(strs) - 1:\n",
    "            common_prefix += (strs[0][i])\n",
    "        # If not, we know there aren't matches everywhere so we return prefix\n",
    "        else:\n",
    "            return common_prefix\n",
    "    return common_prefix\n",
    "\n"
   ]
  },
  {
   "cell_type": "code",
   "execution_count": 4,
   "id": "e5df6bf4-91ee-4f1f-8a26-8357b6bb1cbe",
   "metadata": {},
   "outputs": [
    {
     "data": {
      "text/plain": [
       "'12'"
      ]
     },
     "execution_count": 4,
     "metadata": {},
     "output_type": "execute_result"
    }
   ],
   "source": [
    "longestCommonPrefix(['1234454', '12334', '12456'])"
   ]
  },
  {
   "cell_type": "code",
   "execution_count": 5,
   "id": "7a2538aa-aaf4-491d-929a-38c6dcc7e551",
   "metadata": {},
   "outputs": [
    {
     "data": {
      "text/plain": [
       "''"
      ]
     },
     "execution_count": 5,
     "metadata": {},
     "output_type": "execute_result"
    }
   ],
   "source": [
    "longestCommonPrefix(['a', 'b'])"
   ]
  },
  {
   "cell_type": "code",
   "execution_count": 6,
   "id": "0e30423c-6ecf-4283-a3d0-dc5a7a70a06e",
   "metadata": {},
   "outputs": [
    {
     "data": {
      "text/plain": [
       "'flo'"
      ]
     },
     "execution_count": 6,
     "metadata": {},
     "output_type": "execute_result"
    }
   ],
   "source": [
    "longestCommonPrefix(['flower', 'flour', 'flows', 'flood'])"
   ]
  },
  {
   "cell_type": "markdown",
   "id": "0c1d9d4b-2fce-438a-809d-cd6456899241",
   "metadata": {},
   "source": [
    "# Plus One Algorithm\n",
    "\n",
    "https://leetcode.com/problems/plus-one/description/"
   ]
  },
  {
   "cell_type": "code",
   "execution_count": 3,
   "id": "0c5efcd2-eb09-4155-bade-affb75e619d0",
   "metadata": {},
   "outputs": [],
   "source": [
    "## My solution\n",
    "\n",
    "def plusOne(digits):\n",
    "    combined_digits = int(''.join(map(str,digits))) \n",
    "    combined_digits += 1 \n",
    "    combined_digits = str(combined_digits)\n",
    "    digits = list(combined_digits)\n",
    "\n",
    "    return [int(i) for i in digits]\n",
    "\n",
    "\n",
    "## Another solution\n",
    "\n",
    "def plusOne(digits):\n",
    "    # Start from the end, in many cases, this will be O(1) algorithm because of starting from end\n",
    "    for i in range(len(digits)-1, 0, -1):\n",
    "\n",
    "        # Most lists will hit this statement and return (ex: [1,2,3] , [2,8], [8])\n",
    "        if digits[i] != 10:\n",
    "            digits[i] += 1\n",
    "            return digits\n",
    "        # Lists that go from 9 -> 0 will come here (ex: [1,9], [2,9] etc)\n",
    "        digits[i] = 0\n",
    "\n",
    "        # If going from 9 -> 0 by adding one we add a new digit to number, then we come here (ex: [9], [9,9], [9,9,9], [9,9,9,9])\n",
    "        if i == 0:\n",
    "            return [1] + digits"
   ]
  }
 ],
 "metadata": {
  "kernelspec": {
   "display_name": "Python 3 (ipykernel)",
   "language": "python",
   "name": "python3"
  },
  "language_info": {
   "codemirror_mode": {
    "name": "ipython",
    "version": 3
   },
   "file_extension": ".py",
   "mimetype": "text/x-python",
   "name": "python",
   "nbconvert_exporter": "python",
   "pygments_lexer": "ipython3",
   "version": "3.13.0"
  }
 },
 "nbformat": 4,
 "nbformat_minor": 5
}
