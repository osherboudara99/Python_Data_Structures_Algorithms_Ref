{
 "cells": [
  {
   "cell_type": "markdown",
   "id": "0e401cfd-43d7-46df-a8f6-d3752fc04ac8",
   "metadata": {},
   "source": [
    "## 1) Merge String Alternatively\n",
    "\n",
    "https://leetcode.com/problems/merge-strings-alternately/description/?envType=study-plan-v2&envId=leetcode-75"
   ]
  },
  {
   "cell_type": "code",
   "execution_count": 1,
   "id": "af148f8d-6eb7-4fa9-bc9f-4ada6b3851be",
   "metadata": {},
   "outputs": [],
   "source": [
    "\n",
    "## My solution\n",
    "def merge_alternately(word1: str, word2: str) -> str:\n",
    "    combined_str = '' \n",
    "    i = 0\n",
    "    j = 0 \n",
    "    while i < len(word1) and j < len(word2):\n",
    "        combined_str += word1[i]\n",
    "        combined_str += word2[j]\n",
    "        i+=1 \n",
    "        j+=1 \n",
    "    \n",
    "\n",
    "    combined_str += word1[i:]\n",
    "    combined_str += word2[j:]\n",
    "    return combined_str"
   ]
  },
  {
   "cell_type": "code",
   "execution_count": 3,
   "id": "fc9046f3-d70b-4b49-8fd9-e43dfd4e0c57",
   "metadata": {},
   "outputs": [
    {
     "data": {
      "text/plain": [
       "'adbecf'"
      ]
     },
     "execution_count": 3,
     "metadata": {},
     "output_type": "execute_result"
    }
   ],
   "source": [
    "merge_alternately('abc', 'def')"
   ]
  },
  {
   "cell_type": "code",
   "execution_count": 15,
   "id": "df1394ba-8b9a-4a62-9fd4-dccf6f2c02e9",
   "metadata": {},
   "outputs": [],
   "source": [
    "## Other solution \n",
    "\n",
    "def merge_alternately(word1:str, word2:str) -> str:\n",
    "    combined_str = '' \n",
    "\n",
    "    # Add letters from both words\n",
    "    for a,b in zip(word1, word2):\n",
    "        combined_str += a+b\n",
    "\n",
    "    # Only one of the below lines will add characters \n",
    "    # We index using the length of the other word\n",
    "    # If index word length is smaller thne we grab all letters till the end of longer word\n",
    "    # If index word length is bigger then we do not grab anything because index is out of bounds\n",
    "    # Therefore, only one of th ebelow lines will execute\n",
    "    combined_str += word1[len(word2):]\n",
    "    combined_str += word2[len(word1):]\n",
    "    return combined_str"
   ]
  },
  {
   "cell_type": "code",
   "execution_count": 16,
   "id": "1a76f025-8d1d-42fb-9828-e0c71f3eb59f",
   "metadata": {},
   "outputs": [
    {
     "data": {
      "text/plain": [
       "'adbecfdgeafhahahagaaaaaaaaaaa'"
      ]
     },
     "execution_count": 16,
     "metadata": {},
     "output_type": "execute_result"
    }
   ],
   "source": [
    "merge_alternately('abcdefaaaaaaaaaaaaaa', 'defgahhhg')"
   ]
  },
  {
   "cell_type": "code",
   "execution_count": 17,
   "id": "2ec31475-54d8-4a71-b13d-137e78303f7f",
   "metadata": {},
   "outputs": [
    {
     "data": {
      "text/plain": [
       "'adbecf'"
      ]
     },
     "execution_count": 17,
     "metadata": {},
     "output_type": "execute_result"
    }
   ],
   "source": [
    "merge_alternately('abc', 'def')"
   ]
  },
  {
   "cell_type": "code",
   "execution_count": 23,
   "id": "b48b53c3-8438-450b-9384-dabae7c37001",
   "metadata": {},
   "outputs": [
    {
     "data": {
      "text/plain": [
       "1"
      ]
     },
     "execution_count": 23,
     "metadata": {},
     "output_type": "execute_result"
    }
   ],
   "source": [
    "'ABABAB'.count('AB' * 3)"
   ]
  },
  {
   "cell_type": "markdown",
   "id": "ce1a6096-e3ff-4f77-be17-b258ac6ba326",
   "metadata": {},
   "source": [
    "## 2) Kids With Candies\n",
    "\n",
    "https://leetcode.com/problems/kids-with-the-greatest-number-of-candies/description/?envType=study-plan-v2&envId=leetcode-75"
   ]
  },
  {
   "cell_type": "code",
   "execution_count": 24,
   "id": "b43d2058-246b-4bbf-b94a-cb32b0412b2a",
   "metadata": {},
   "outputs": [],
   "source": [
    "## My Solution\n",
    "\n",
    "def kids_with_candies(candies: list[int], extra_candies: int) -> list[bool]:\n",
    "    result = []\n",
    "    max_value = max(candies)\n",
    "    for i in range(len(candies)):\n",
    "        if candies[i]+extra_candies >= max_value:\n",
    "            result.append(True)\n",
    "        else:\n",
    "            result.append(False)\n",
    "    return result"
   ]
  },
  {
   "cell_type": "code",
   "execution_count": 25,
   "id": "2f8c08f4-29d8-42c5-8491-2fe764cf734c",
   "metadata": {},
   "outputs": [
    {
     "data": {
      "text/plain": [
       "[False, True, False, True, True]"
      ]
     },
     "execution_count": 25,
     "metadata": {},
     "output_type": "execute_result"
    }
   ],
   "source": [
    "kids_with_candies([1,7,3,4,9], 5)"
   ]
  },
  {
   "cell_type": "markdown",
   "id": "5d982b84-f955-491e-a9b4-ff4bc777ec46",
   "metadata": {},
   "source": [
    "## 3) Can Place Flowers\n",
    "\n",
    "https://leetcode.com/problems/can-place-flowers/description/?envType=study-plan-v2&envId=leetcode-75"
   ]
  },
  {
   "cell_type": "code",
   "execution_count": 2,
   "id": "33eb699b-8530-4267-9a07-6d4dede09c10",
   "metadata": {},
   "outputs": [],
   "source": [
    "def can_place_flowers(flower_bed:list[int], n:int) -> bool:\n",
    "    # Loop through list\n",
    "    # Find what is on left (if flowers can be inserted there without being adjacent) -> True if flowers can be inserted\n",
    "    # Find what is on right -> True if flowers can be inserted\n",
    "    # If left and right are true and flower_bed at index also has no flowers, we set that value = 1 \n",
    "    # Decrement the amount of flowers to insert\n",
    "    # Return n <= 0. If we decrement the amount of flowers all the way to zero then we know we were able to plant all plants, \n",
    "    # sometimes it is less than zero if we can plant in more places than plants we have \n",
    "    \n",
    "    \n",
    "    for i in range(len(flower_bed)):\n",
    "        # If it is the first value in list or the previous value is zero, then we having nothing adjacent on the left\n",
    "        left = i == 0 or flower_bed[i-1] == 0 \n",
    "        right = i == len(flower_bed) -1 or flower_bed[i+1] == 0\n",
    "        if left and right and flower_bed[i] == 0:\n",
    "            flower_bed[i] = 1 \n",
    "            n -= 1 \n",
    "    return n <= 0"
   ]
  },
  {
   "cell_type": "code",
   "execution_count": 4,
   "id": "f184cfcb-4bdc-41b8-924f-fe72eeabb67a",
   "metadata": {},
   "outputs": [
    {
     "data": {
      "text/plain": [
       "False"
      ]
     },
     "execution_count": 4,
     "metadata": {},
     "output_type": "execute_result"
    }
   ],
   "source": [
    "can_place_flowers([0,1,0,0,1], 1)\n"
   ]
  },
  {
   "cell_type": "code",
   "execution_count": 5,
   "id": "06a2cec2-25ce-4b01-b31b-e3e16a12cfd8",
   "metadata": {},
   "outputs": [
    {
     "data": {
      "text/plain": [
       "False"
      ]
     },
     "execution_count": 5,
     "metadata": {},
     "output_type": "execute_result"
    }
   ],
   "source": [
    "can_place_flowers([0,1,0,0,1], 4)"
   ]
  },
  {
   "cell_type": "code",
   "execution_count": 6,
   "id": "83b4eff7-c53a-4f04-be0d-c08c52a4bc34",
   "metadata": {},
   "outputs": [
    {
     "data": {
      "text/plain": [
       "True"
      ]
     },
     "execution_count": 6,
     "metadata": {},
     "output_type": "execute_result"
    }
   ],
   "source": [
    "can_place_flowers([1,0,0,0,0,0,0,1], 2)"
   ]
  },
  {
   "cell_type": "code",
   "execution_count": 7,
   "id": "755b3001-8456-4a27-bbff-5d6ed1f5db08",
   "metadata": {},
   "outputs": [
    {
     "data": {
      "text/plain": [
       "True"
      ]
     },
     "execution_count": 7,
     "metadata": {},
     "output_type": "execute_result"
    }
   ],
   "source": [
    "can_place_flowers([1,0,0,0,1],1)"
   ]
  },
  {
   "cell_type": "markdown",
   "id": "3363be77-3c04-4b0d-9a66-a5301974edc4",
   "metadata": {},
   "source": [
    "## 4) Reverse String Vowels\n",
    "\n",
    "https://leetcode.com/problems/reverse-vowels-of-a-string/description/?envType=study-plan-v2&envId=leetcode-75"
   ]
  },
  {
   "cell_type": "code",
   "execution_count": 1,
   "id": "a29ba0ff-61fd-41e7-b02f-2e2f09ddb387",
   "metadata": {},
   "outputs": [],
   "source": [
    "def reverse_vowels(s: str) -> str:\n",
    "    # 1) Create vowels\n",
    "    # 2) loop through string\n",
    "    # 3) within loop, if char in s is a vowel -> append index and value into vowels list\n",
    "    # 4) end loop\n",
    "    # 5) set j to len of vowel_list minus 1\n",
    "    # 6) iterate through vowel list\n",
    "    # 7) in loop, store index from vowels list to be modified\n",
    "    # 8) modify string at index with value in vowels list at j\n",
    "    # 9) decrement j\n",
    "    # 10) return string\n",
    "    vowels_list = []\n",
    "    for i in range(len(s)):\n",
    "        if s[i].lower() in ['a', 'e', 'i', 'o', 'u']:\n",
    "            vowels_list.append([i, s[i]])\n",
    "    \n",
    "    j = len(vowels_list) - 1\n",
    "    for i in range(len(vowels_list)):\n",
    "        index = vowels_list[i][0]\n",
    "        s = s[:index] + vowels_list[j][1] + s[index+1:]\n",
    "        j -= 1 \n",
    "    return s\n"
   ]
  },
  {
   "cell_type": "code",
   "execution_count": 2,
   "id": "abc9db3e-a466-4650-affb-cf3d649219d8",
   "metadata": {},
   "outputs": [
    {
     "data": {
      "text/plain": [
       "'eOmIn'"
      ]
     },
     "execution_count": 2,
     "metadata": {},
     "output_type": "execute_result"
    }
   ],
   "source": [
    "reverse_vowels('IOmen')"
   ]
  },
  {
   "cell_type": "code",
   "execution_count": 3,
   "id": "cdb8dec4-f7d9-4dc2-bfb5-1a7cce21ee94",
   "metadata": {},
   "outputs": [
    {
     "data": {
      "text/plain": [
       "'ghg'"
      ]
     },
     "execution_count": 3,
     "metadata": {},
     "output_type": "execute_result"
    }
   ],
   "source": [
    "reverse_vowels('ghg')"
   ]
  },
  {
   "cell_type": "code",
   "execution_count": 4,
   "id": "1af0ffd6-8588-41e2-84e8-5d2cab010fc9",
   "metadata": {},
   "outputs": [
    {
     "data": {
      "text/plain": [
       "'acaCreemMIn'"
      ]
     },
     "execution_count": 4,
     "metadata": {},
     "output_type": "execute_result"
    }
   ],
   "source": [
    "reverse_vowels('IceCreamMan')"
   ]
  },
  {
   "cell_type": "markdown",
   "id": "3eaff54c-29ce-49ab-bde8-8e3b33e86e45",
   "metadata": {},
   "source": [
    "## 5) Reverse Words in String\n",
    "\n",
    "https://leetcode.com/problems/reverse-words-in-a-string/description/?envType=study-plan-v2&envId=leetcode-75"
   ]
  },
  {
   "cell_type": "code",
   "execution_count": 3,
   "id": "ad7c74bf-5363-4846-bb30-eaddd8570175",
   "metadata": {},
   "outputs": [],
   "source": [
    "def reverse_words(s:str) -> str:\n",
    "    # 1) Create empty string to store result\n",
    "    # 2) split the string and filter out empty strings using list comprehension\n",
    "    # 3) Loop from end of string to beginning, adding in each string to result string followed by space\n",
    "    # 4) After loop, add final string in list to result string without space\n",
    "    # 5) Return result\n",
    "    result = '' \n",
    "    str_list = s.split(' ')\n",
    "    str_list = [x for x in str_list if x != '']\n",
    "    for i in range(len(str_list)-1, 0, -1):\n",
    "        result += str_list[i] + ' '\n",
    "    result += str_list[0]\n",
    "    return result"
   ]
  },
  {
   "cell_type": "code",
   "execution_count": 4,
   "id": "a40b4d60-7b17-4685-a09d-5a221af47f82",
   "metadata": {},
   "outputs": [
    {
     "data": {
      "text/plain": [
       "'blue is sky the'"
      ]
     },
     "execution_count": 4,
     "metadata": {},
     "output_type": "execute_result"
    }
   ],
   "source": [
    "reverse_words('the sky is blue')"
   ]
  },
  {
   "cell_type": "code",
   "execution_count": 5,
   "id": "1c2763e1-e366-4ae1-b501-eaac1a1270e1",
   "metadata": {},
   "outputs": [
    {
     "data": {
      "text/plain": [
       "'world hello'"
      ]
     },
     "execution_count": 5,
     "metadata": {},
     "output_type": "execute_result"
    }
   ],
   "source": [
    "reverse_words('  hello   world  ')"
   ]
  },
  {
   "cell_type": "markdown",
   "id": "662eac88-66db-4ea7-bb30-1ba7d23b8b61",
   "metadata": {},
   "source": [
    "## 6) Is A String A Subsequence of Another\n",
    "\n",
    "https://leetcode.com/problems/is-subsequence/description/?envType=study-plan-v2&envId=leetcode-75"
   ]
  },
  {
   "cell_type": "code",
   "execution_count": 13,
   "id": "c72408fd-58fb-46f6-ad20-c89167324fbc",
   "metadata": {},
   "outputs": [],
   "source": [
    "## My Solution, more efficent, beats 100% on leetcode\n",
    "\n",
    "def is_subsequence(substr:str, s:str) -> bool:\n",
    "    j = 0 \n",
    "\n",
    "    if substr == '':\n",
    "        return True\n",
    "    else:\n",
    "        for i in range(len(s)):\n",
    "            if substr[j] == s[i]:\n",
    "                j+=1 \n",
    "\n",
    "            if j == len(substr):\n",
    "                return True\n",
    "    return False\n",
    "\n",
    "\n",
    "# Another solution\n",
    "\n",
    "def is_subsequence(substr:str, s:str) -> bool:\n",
    "    i = j = 0 \n",
    "\n",
    "    while j < len(substr) and i < len(s):\n",
    "        if substr[j] == s[i]:\n",
    "            j+=1 \n",
    "        i+=1 \n",
    "\n",
    "    return j == len(substr)"
   ]
  },
  {
   "cell_type": "code",
   "execution_count": 14,
   "id": "a197b305-5ffc-4e26-8aa5-b85a24af2394",
   "metadata": {},
   "outputs": [
    {
     "data": {
      "text/plain": [
       "True"
      ]
     },
     "execution_count": 14,
     "metadata": {},
     "output_type": "execute_result"
    }
   ],
   "source": [
    "is_subsequence('b', 'fbcgd')"
   ]
  },
  {
   "cell_type": "code",
   "execution_count": 15,
   "id": "41f2d881-6914-426b-b71d-5a9b921aa726",
   "metadata": {},
   "outputs": [
    {
     "data": {
      "text/plain": [
       "True"
      ]
     },
     "execution_count": 15,
     "metadata": {},
     "output_type": "execute_result"
    }
   ],
   "source": [
    "is_subsequence('llk', 'hfgsdjlfhgryrhjlbdyejk')"
   ]
  },
  {
   "cell_type": "code",
   "execution_count": 16,
   "id": "6bd37449-7dc8-49f5-aa33-16d19c7c5a2a",
   "metadata": {},
   "outputs": [
    {
     "data": {
      "text/plain": [
       "True"
      ]
     },
     "execution_count": 16,
     "metadata": {},
     "output_type": "execute_result"
    }
   ],
   "source": [
    "is_subsequence('', 'abc')"
   ]
  },
  {
   "cell_type": "code",
   "execution_count": null,
   "id": "da51ed02-855b-4aaf-91e1-ec0eb3d2456b",
   "metadata": {},
   "outputs": [],
   "source": []
  }
 ],
 "metadata": {
  "kernelspec": {
   "display_name": "Python 3 (ipykernel)",
   "language": "python",
   "name": "python3"
  },
  "language_info": {
   "codemirror_mode": {
    "name": "ipython",
    "version": 3
   },
   "file_extension": ".py",
   "mimetype": "text/x-python",
   "name": "python",
   "nbconvert_exporter": "python",
   "pygments_lexer": "ipython3",
   "version": "3.13.0"
  }
 },
 "nbformat": 4,
 "nbformat_minor": 5
}
