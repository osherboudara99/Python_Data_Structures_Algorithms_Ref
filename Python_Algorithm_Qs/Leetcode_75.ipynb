{
 "cells": [
  {
   "cell_type": "markdown",
   "id": "0e401cfd-43d7-46df-a8f6-d3752fc04ac8",
   "metadata": {},
   "source": [
    "## 1) Merge String Alternatively\n",
    "\n",
    "https://leetcode.com/problems/merge-strings-alternately/description/?envType=study-plan-v2&envId=leetcode-75"
   ]
  },
  {
   "cell_type": "code",
   "execution_count": 1,
   "id": "af148f8d-6eb7-4fa9-bc9f-4ada6b3851be",
   "metadata": {},
   "outputs": [],
   "source": [
    "\n",
    "## My solution\n",
    "def merge_alternately(word1: str, word2: str) -> str:\n",
    "    combined_str = '' \n",
    "    i = 0\n",
    "    j = 0 \n",
    "    while i < len(word1) and j < len(word2):\n",
    "        combined_str += word1[i]\n",
    "        combined_str += word2[j]\n",
    "        i+=1 \n",
    "        j+=1 \n",
    "    \n",
    "\n",
    "    combined_str += word1[i:]\n",
    "    combined_str += word2[j:]\n",
    "    return combined_str"
   ]
  },
  {
   "cell_type": "code",
   "execution_count": 3,
   "id": "fc9046f3-d70b-4b49-8fd9-e43dfd4e0c57",
   "metadata": {},
   "outputs": [
    {
     "data": {
      "text/plain": [
       "'adbecf'"
      ]
     },
     "execution_count": 3,
     "metadata": {},
     "output_type": "execute_result"
    }
   ],
   "source": [
    "merge_alternately('abc', 'def')"
   ]
  },
  {
   "cell_type": "code",
   "execution_count": 15,
   "id": "df1394ba-8b9a-4a62-9fd4-dccf6f2c02e9",
   "metadata": {},
   "outputs": [],
   "source": [
    "## Other solution \n",
    "\n",
    "def merge_alternately(word1:str, word2:str) -> str:\n",
    "    combined_str = '' \n",
    "\n",
    "    # Add letters from both words\n",
    "    for a,b in zip(word1, word2):\n",
    "        combined_str += a+b\n",
    "\n",
    "    # Only one of the below lines will add characters \n",
    "    # We index using the length of the other word\n",
    "    # If index word length is smaller thne we grab all letters till the end of longer word\n",
    "    # If index word length is bigger then we do not grab anything because index is out of bounds\n",
    "    # Therefore, only one of th ebelow lines will execute\n",
    "    combined_str += word1[len(word2):]\n",
    "    combined_str += word2[len(word1):]\n",
    "    return combined_str"
   ]
  },
  {
   "cell_type": "code",
   "execution_count": 16,
   "id": "1a76f025-8d1d-42fb-9828-e0c71f3eb59f",
   "metadata": {},
   "outputs": [
    {
     "data": {
      "text/plain": [
       "'adbecfdgeafhahahagaaaaaaaaaaa'"
      ]
     },
     "execution_count": 16,
     "metadata": {},
     "output_type": "execute_result"
    }
   ],
   "source": [
    "merge_alternately('abcdefaaaaaaaaaaaaaa', 'defgahhhg')"
   ]
  },
  {
   "cell_type": "code",
   "execution_count": 17,
   "id": "2ec31475-54d8-4a71-b13d-137e78303f7f",
   "metadata": {},
   "outputs": [
    {
     "data": {
      "text/plain": [
       "'adbecf'"
      ]
     },
     "execution_count": 17,
     "metadata": {},
     "output_type": "execute_result"
    }
   ],
   "source": [
    "merge_alternately('abc', 'def')"
   ]
  },
  {
   "cell_type": "code",
   "execution_count": 23,
   "id": "b48b53c3-8438-450b-9384-dabae7c37001",
   "metadata": {},
   "outputs": [
    {
     "data": {
      "text/plain": [
       "1"
      ]
     },
     "execution_count": 23,
     "metadata": {},
     "output_type": "execute_result"
    }
   ],
   "source": [
    "'ABABAB'.count('AB' * 3)"
   ]
  },
  {
   "cell_type": "markdown",
   "id": "ce1a6096-e3ff-4f77-be17-b258ac6ba326",
   "metadata": {},
   "source": [
    "## 2) Kids With Candies\n",
    "\n",
    "https://leetcode.com/problems/kids-with-the-greatest-number-of-candies/description/?envType=study-plan-v2&envId=leetcode-75"
   ]
  },
  {
   "cell_type": "code",
   "execution_count": 24,
   "id": "b43d2058-246b-4bbf-b94a-cb32b0412b2a",
   "metadata": {},
   "outputs": [],
   "source": [
    "## My Solution\n",
    "\n",
    "def kids_with_candies(candies: list[int], extra_candies: int) -> list[bool]:\n",
    "    result = []\n",
    "    max_value = max(candies)\n",
    "    for i in range(len(candies)):\n",
    "        if candies[i]+extra_candies >= max_value:\n",
    "            result.append(True)\n",
    "        else:\n",
    "            result.append(False)\n",
    "    return result"
   ]
  },
  {
   "cell_type": "code",
   "execution_count": 25,
   "id": "2f8c08f4-29d8-42c5-8491-2fe764cf734c",
   "metadata": {},
   "outputs": [
    {
     "data": {
      "text/plain": [
       "[False, True, False, True, True]"
      ]
     },
     "execution_count": 25,
     "metadata": {},
     "output_type": "execute_result"
    }
   ],
   "source": [
    "kids_with_candies([1,7,3,4,9], 5)"
   ]
  },
  {
   "cell_type": "markdown",
   "id": "5d982b84-f955-491e-a9b4-ff4bc777ec46",
   "metadata": {},
   "source": [
    "## 3) Can Place Flowers\n",
    "\n",
    "https://leetcode.com/problems/can-place-flowers/description/?envType=study-plan-v2&envId=leetcode-75"
   ]
  },
  {
   "cell_type": "code",
   "execution_count": 2,
   "id": "33eb699b-8530-4267-9a07-6d4dede09c10",
   "metadata": {},
   "outputs": [],
   "source": [
    "def can_place_flowers(flower_bed:list[int], n:int) -> bool:\n",
    "    # Loop through list\n",
    "    # Find what is on left (if flowers can be inserted there without being adjacent) -> True if flowers can be inserted\n",
    "    # Find what is on right -> True if flowers can be inserted\n",
    "    # If left and right are true and flower_bed at index also has no flowers, we set that value = 1 \n",
    "    # Decrement the amount of flowers to insert\n",
    "    # Return n <= 0. If we decrement the amount of flowers all the way to zero then we know we were able to plant all plants, \n",
    "    # sometimes it is less than zero if we can plant in more places than plants we have \n",
    "    \n",
    "    \n",
    "    for i in range(len(flower_bed)):\n",
    "        # If it is the first value in list or the previous value is zero, then we having nothing adjacent on the left\n",
    "        left = i == 0 or flower_bed[i-1] == 0 \n",
    "        right = i == len(flower_bed) -1 or flower_bed[i+1] == 0\n",
    "        if left and right and flower_bed[i] == 0:\n",
    "            flower_bed[i] = 1 \n",
    "            n -= 1 \n",
    "    return n <= 0"
   ]
  },
  {
   "cell_type": "code",
   "execution_count": 4,
   "id": "f184cfcb-4bdc-41b8-924f-fe72eeabb67a",
   "metadata": {},
   "outputs": [
    {
     "data": {
      "text/plain": [
       "False"
      ]
     },
     "execution_count": 4,
     "metadata": {},
     "output_type": "execute_result"
    }
   ],
   "source": [
    "can_place_flowers([0,1,0,0,1], 1)\n"
   ]
  },
  {
   "cell_type": "code",
   "execution_count": 5,
   "id": "06a2cec2-25ce-4b01-b31b-e3e16a12cfd8",
   "metadata": {},
   "outputs": [
    {
     "data": {
      "text/plain": [
       "False"
      ]
     },
     "execution_count": 5,
     "metadata": {},
     "output_type": "execute_result"
    }
   ],
   "source": [
    "can_place_flowers([0,1,0,0,1], 4)"
   ]
  },
  {
   "cell_type": "code",
   "execution_count": 6,
   "id": "83b4eff7-c53a-4f04-be0d-c08c52a4bc34",
   "metadata": {},
   "outputs": [
    {
     "data": {
      "text/plain": [
       "True"
      ]
     },
     "execution_count": 6,
     "metadata": {},
     "output_type": "execute_result"
    }
   ],
   "source": [
    "can_place_flowers([1,0,0,0,0,0,0,1], 2)"
   ]
  },
  {
   "cell_type": "code",
   "execution_count": 7,
   "id": "755b3001-8456-4a27-bbff-5d6ed1f5db08",
   "metadata": {},
   "outputs": [
    {
     "data": {
      "text/plain": [
       "True"
      ]
     },
     "execution_count": 7,
     "metadata": {},
     "output_type": "execute_result"
    }
   ],
   "source": [
    "can_place_flowers([1,0,0,0,1],1)"
   ]
  },
  {
   "cell_type": "code",
   "execution_count": null,
   "id": "f8e0b53e-1fb1-4b06-bceb-1fb5f9f3bffc",
   "metadata": {},
   "outputs": [],
   "source": []
  }
 ],
 "metadata": {
  "kernelspec": {
   "display_name": "Python 3 (ipykernel)",
   "language": "python",
   "name": "python3"
  },
  "language_info": {
   "codemirror_mode": {
    "name": "ipython",
    "version": 3
   },
   "file_extension": ".py",
   "mimetype": "text/x-python",
   "name": "python",
   "nbconvert_exporter": "python",
   "pygments_lexer": "ipython3",
   "version": "3.13.0"
  }
 },
 "nbformat": 4,
 "nbformat_minor": 5
}
