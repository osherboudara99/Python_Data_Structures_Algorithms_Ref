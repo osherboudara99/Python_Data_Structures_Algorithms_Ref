{
 "cells": [
  {
   "cell_type": "markdown",
   "id": "0e401cfd-43d7-46df-a8f6-d3752fc04ac8",
   "metadata": {},
   "source": [
    "## 1) Merge String Alternatively\n",
    "\n",
    "https://leetcode.com/problems/merge-strings-alternately/description/?envType=study-plan-v2&envId=leetcode-75"
   ]
  },
  {
   "cell_type": "code",
   "execution_count": 1,
   "id": "af148f8d-6eb7-4fa9-bc9f-4ada6b3851be",
   "metadata": {},
   "outputs": [],
   "source": [
    "\n",
    "## My solution\n",
    "def merge_alternately(word1: str, word2: str) -> str:\n",
    "    combined_str = '' \n",
    "    i = 0\n",
    "    j = 0 \n",
    "    while i < len(word1) and j < len(word2):\n",
    "        combined_str += word1[i]\n",
    "        combined_str += word2[j]\n",
    "        i+=1 \n",
    "        j+=1 \n",
    "    \n",
    "\n",
    "    combined_str += word1[i:]\n",
    "    combined_str += word2[j:]\n",
    "    return combined_str"
   ]
  },
  {
   "cell_type": "code",
   "execution_count": 3,
   "id": "fc9046f3-d70b-4b49-8fd9-e43dfd4e0c57",
   "metadata": {},
   "outputs": [
    {
     "data": {
      "text/plain": [
       "'adbecf'"
      ]
     },
     "execution_count": 3,
     "metadata": {},
     "output_type": "execute_result"
    }
   ],
   "source": [
    "merge_alternately('abc', 'def')"
   ]
  },
  {
   "cell_type": "code",
   "execution_count": 15,
   "id": "df1394ba-8b9a-4a62-9fd4-dccf6f2c02e9",
   "metadata": {},
   "outputs": [],
   "source": [
    "## Other solution \n",
    "\n",
    "def merge_alternately(word1:str, word2:str) -> str:\n",
    "    combined_str = '' \n",
    "\n",
    "    # Add letters from both words\n",
    "    for a,b in zip(word1, word2):\n",
    "        combined_str += a+b\n",
    "\n",
    "    # Only one of the below lines will add characters \n",
    "    # We index using the length of the other word\n",
    "    # If index word length is smaller thne we grab all letters till the end of longer word\n",
    "    # If index word length is bigger then we do not grab anything because index is out of bounds\n",
    "    # Therefore, only one of th ebelow lines will execute\n",
    "    combined_str += word1[len(word2):]\n",
    "    combined_str += word2[len(word1):]\n",
    "    return combined_str"
   ]
  },
  {
   "cell_type": "code",
   "execution_count": 16,
   "id": "1a76f025-8d1d-42fb-9828-e0c71f3eb59f",
   "metadata": {},
   "outputs": [
    {
     "data": {
      "text/plain": [
       "'adbecfdgeafhahahagaaaaaaaaaaa'"
      ]
     },
     "execution_count": 16,
     "metadata": {},
     "output_type": "execute_result"
    }
   ],
   "source": [
    "merge_alternately('abcdefaaaaaaaaaaaaaa', 'defgahhhg')"
   ]
  },
  {
   "cell_type": "code",
   "execution_count": 17,
   "id": "2ec31475-54d8-4a71-b13d-137e78303f7f",
   "metadata": {},
   "outputs": [
    {
     "data": {
      "text/plain": [
       "'adbecf'"
      ]
     },
     "execution_count": 17,
     "metadata": {},
     "output_type": "execute_result"
    }
   ],
   "source": [
    "merge_alternately('abc', 'def')"
   ]
  },
  {
   "cell_type": "code",
   "execution_count": null,
   "id": "b48b53c3-8438-450b-9384-dabae7c37001",
   "metadata": {},
   "outputs": [],
   "source": []
  }
 ],
 "metadata": {
  "kernelspec": {
   "display_name": "Python 3 (ipykernel)",
   "language": "python",
   "name": "python3"
  },
  "language_info": {
   "codemirror_mode": {
    "name": "ipython",
    "version": 3
   },
   "file_extension": ".py",
   "mimetype": "text/x-python",
   "name": "python",
   "nbconvert_exporter": "python",
   "pygments_lexer": "ipython3",
   "version": "3.13.0"
  }
 },
 "nbformat": 4,
 "nbformat_minor": 5
}
