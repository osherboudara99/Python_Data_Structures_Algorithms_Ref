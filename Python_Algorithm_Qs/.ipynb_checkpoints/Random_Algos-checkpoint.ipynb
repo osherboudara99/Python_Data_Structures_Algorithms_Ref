{
 "cells": [
  {
   "cell_type": "code",
   "execution_count": 1,
   "id": "62be5f9b-0637-424c-b931-71a867085704",
   "metadata": {},
   "outputs": [],
   "source": [
    "### Common interview question\n",
    "## If you have two lists, find item in commmon\n",
    "# Below is the inefficient way of doing this O(n^2)\n",
    "def item_in_common(list1, list2):\n",
    "    for i in list1:\n",
    "        for j in list2:\n",
    "            if i == j:\n",
    "                return True\n",
    "    return False\n",
    "\n",
    "## Better version with dictionary\n",
    "# Loop through first list, setting each item in list to key in dictionary with value True\n",
    "# Then loop through second list and check if item is in dictionary -> return true if not return false\n",
    "def item_in_common(list1, list2):\n",
    "    my_dict = {}\n",
    "    for i in list1:\n",
    "        my_dict[i] = True\n",
    "\n",
    "    for j in list2:\n",
    "        if j in my_dict:\n",
    "            return True\n",
    "    return False"
   ]
  },
  {
   "cell_type": "code",
   "execution_count": 2,
   "id": "007674d6-bdd1-4c19-8b77-fd5609ac1d1e",
   "metadata": {},
   "outputs": [
    {
     "data": {
      "text/plain": [
       "[2, 8, 3]"
      ]
     },
     "execution_count": 2,
     "metadata": {},
     "output_type": "execute_result"
    }
   ],
   "source": [
    "# Find duplicates using set and a list\n",
    "# Create set and duplicates list\n",
    "# Loop through input list\n",
    "## if value in set, append to duplicates\n",
    "## else, append to set\n",
    "# return duplicates list\n",
    "def find_duplicates(l):\n",
    "\n",
    "    s = set()\n",
    "    duplicates = []\n",
    "\n",
    "    for i in l:\n",
    "        if i in s:\n",
    "            duplicates.append(i)\n",
    "        else:\n",
    "            s.add(i)\n",
    "    return duplicates\n",
    "\n",
    "\n",
    "\n",
    "find_duplicates([2,45,6,7,8,8,3,2,3])\n",
    "\n",
    "# O(n + n) slightly less efficient than above\n",
    "def find_duplicates(l):\n",
    "\n",
    "    counts = {} \n",
    "\n",
    "    for i in l:\n",
    "        counts[i] = counts.get(i, 0) + 1\n",
    "\n",
    "    duplicates = []\n",
    "\n",
    "    for i, count in counts.items():\n",
    "        if count > 1:\n",
    "            duplicates.append(i)\n",
    "    return duplicates\n",
    "\n",
    "find_duplicates([2, 45, 6,7,8,8,3,2,3])"
   ]
  },
  {
   "cell_type": "code",
   "execution_count": 3,
   "id": "f9527778-7746-4f3a-9816-743ceb1c212a",
   "metadata": {},
   "outputs": [
    {
     "name": "stdout",
     "output_type": "stream",
     "text": [
      "Result: None\n",
      "Result: r\n"
     ]
    }
   ],
   "source": [
    "def first_non_repeating_char(string):\n",
    "\n",
    "    chars = {}\n",
    "    for i in string:\n",
    "        chars[i] = chars.get(i, 0) + 1\n",
    "\n",
    "    for key in chars:\n",
    "        if chars[key] == 1:\n",
    "            return key\n",
    "    return None\n",
    "\n",
    "print(\"Result:\", first_non_repeating_char('hghhg'))\n",
    "print(\"Result:\", first_non_repeating_char(\"rebyidd\")) "
   ]
  },
  {
   "cell_type": "code",
   "execution_count": 4,
   "id": "6666dc17-af4c-4c64-80b9-86f481e492d2",
   "metadata": {},
   "outputs": [],
   "source": [
    "def roman_to_int(value):\n",
    "    # First, create order dictionary mapping\n",
    "    # Second initialize total variable\n",
    "    # Third, loop through range(len(roman_value))\n",
    "    # Fourth, for Roman numeral in rnage(len(value)), obtain the mapping to an integer\n",
    "    # 5th, if next integer index (i+1) is less than the len of value and the current value is less than the next integer (roman_int[value[i]]) then subtract current_value from total\n",
    "    # 6t, else add current_value to total\n",
    "    \n",
    "    # Step 1: Roman numeral to integer mapping\n",
    "    roman_int = {\n",
    "        'I': 1, 'V': 5, 'X': 10, 'L': 50,\n",
    "        'C': 100, 'D': 500, 'M': 1000\n",
    "    }\n",
    "    \n",
    "    # Initialize Values\n",
    "    total = 0\n",
    "    \n",
    "    for i in range(len(value)):\n",
    "        \n",
    "        current_value = roman_int[value[i]]\n",
    "        \n",
    "        # Check if this is not the last character and if the next numeral is larger \n",
    "        if i + 1 < len(value) and roman_int[value[i+1]] > current_value:\n",
    "            \n",
    "            # If not last character and next value is larger than current value -> subtract\n",
    "            # i.e. think IV, since V is greater than I, we subtract first\n",
    "            # In above case, we subtract 1 in first loop (because if conditions are met) and add 5 in second iteration (because if conditions are not met so we go to else)\n",
    "            total -= current_value\n",
    "        else:\n",
    "            total += current_value\n",
    "        \n",
    "        # Set prev value to current value\n",
    "        # prev = current_value\n",
    "    return total  \n",
    "            "
   ]
  },
  {
   "cell_type": "code",
   "execution_count": 5,
   "id": "f0ba40cb-3e3b-488b-9071-d01eb40e39d6",
   "metadata": {},
   "outputs": [
    {
     "data": {
      "text/plain": [
       "4"
      ]
     },
     "execution_count": 5,
     "metadata": {},
     "output_type": "execute_result"
    }
   ],
   "source": [
    "roman_to_int('IV')"
   ]
  },
  {
   "cell_type": "code",
   "execution_count": 6,
   "id": "05ffc2f8-8589-4c0c-8964-e82fbd2a3de4",
   "metadata": {},
   "outputs": [
    {
     "data": {
      "text/plain": [
       "7"
      ]
     },
     "execution_count": 6,
     "metadata": {},
     "output_type": "execute_result"
    }
   ],
   "source": [
    "roman_to_int('VII')"
   ]
  },
  {
   "cell_type": "code",
   "execution_count": 7,
   "id": "c20b5e76-7140-4509-9fc6-403625088fff",
   "metadata": {},
   "outputs": [
    {
     "data": {
      "text/plain": [
       "9"
      ]
     },
     "execution_count": 7,
     "metadata": {},
     "output_type": "execute_result"
    }
   ],
   "source": [
    "roman_to_int('IX')"
   ]
  },
  {
   "cell_type": "code",
   "execution_count": 8,
   "id": "d6bcdf2f-906c-4e0c-8ba8-0c3ba8b40d6b",
   "metadata": {},
   "outputs": [
    {
     "data": {
      "text/plain": [
       "3"
      ]
     },
     "execution_count": 8,
     "metadata": {},
     "output_type": "execute_result"
    }
   ],
   "source": [
    "roman_to_int('III')"
   ]
  },
  {
   "cell_type": "code",
   "execution_count": 9,
   "id": "2056fe4d-132a-4b77-adf8-e2bffcf9fcbd",
   "metadata": {},
   "outputs": [
    {
     "data": {
      "text/plain": [
       "10"
      ]
     },
     "execution_count": 9,
     "metadata": {},
     "output_type": "execute_result"
    }
   ],
   "source": [
    "roman_to_int('X')"
   ]
  },
  {
   "cell_type": "code",
   "execution_count": 10,
   "id": "51fcca43-7da6-4bd0-874f-3387aaea2b48",
   "metadata": {},
   "outputs": [
    {
     "data": {
      "text/plain": [
       "19"
      ]
     },
     "execution_count": 10,
     "metadata": {},
     "output_type": "execute_result"
    }
   ],
   "source": [
    "roman_to_int('XIX')"
   ]
  },
  {
   "cell_type": "code",
   "execution_count": 11,
   "id": "483883a7-2cc6-4606-9391-b1110fdb2db1",
   "metadata": {},
   "outputs": [
    {
     "data": {
      "text/plain": [
       "1559"
      ]
     },
     "execution_count": 11,
     "metadata": {},
     "output_type": "execute_result"
    }
   ],
   "source": [
    "roman_to_int('MDLIX')"
   ]
  },
  {
   "cell_type": "markdown",
   "id": "b1bf60fe-e56b-43e8-837e-e01b1afbab81",
   "metadata": {},
   "source": [
    "# Longest Common Prefix\n",
    "https://leetcode.com/problems/longest-common-prefix/description/"
   ]
  },
  {
   "cell_type": "code",
   "execution_count": 12,
   "id": "429379b0-e7cb-4ad1-8c9e-7816c47556c3",
   "metadata": {},
   "outputs": [],
   "source": [
    "def longestCommonPrefix(strs: list[str]) -> str:\n",
    "    # Initiallize return string\n",
    "    common_prefix = ''\n",
    "\n",
    "    # Loop through letters in string at zero index\n",
    "    for i in range(len(strs[0])):\n",
    "\n",
    "        # Have a counter to check if how many matches there are\n",
    "        counter = 0\n",
    "\n",
    "        # Loop through all other items in list and compare against string at zero index\n",
    "        for j in range(1, len(strs)):\n",
    "            # try - except incase out of range\n",
    "            try:\n",
    "                # if there is a match increase counter\n",
    "                if strs[0][i] == strs[j][i]:\n",
    "                    counter += 1 \n",
    "            except IndexError:\n",
    "                break\n",
    "        # If counter == length of list - 1, we know that all items in list have the same letter at the same position\n",
    "        if counter == len(strs) - 1:\n",
    "            common_prefix += (strs[0][i])\n",
    "        # If not, we know there aren't matches everywhere so we return prefix\n",
    "        else:\n",
    "            return common_prefix\n",
    "    return common_prefix\n",
    "\n"
   ]
  },
  {
   "cell_type": "code",
   "execution_count": 13,
   "id": "e5df6bf4-91ee-4f1f-8a26-8357b6bb1cbe",
   "metadata": {},
   "outputs": [
    {
     "data": {
      "text/plain": [
       "'12'"
      ]
     },
     "execution_count": 13,
     "metadata": {},
     "output_type": "execute_result"
    }
   ],
   "source": [
    "longestCommonPrefix(['1234454', '12334', '12456'])"
   ]
  },
  {
   "cell_type": "code",
   "execution_count": 14,
   "id": "7a2538aa-aaf4-491d-929a-38c6dcc7e551",
   "metadata": {},
   "outputs": [
    {
     "data": {
      "text/plain": [
       "''"
      ]
     },
     "execution_count": 14,
     "metadata": {},
     "output_type": "execute_result"
    }
   ],
   "source": [
    "longestCommonPrefix(['a', 'b'])"
   ]
  },
  {
   "cell_type": "code",
   "execution_count": 15,
   "id": "0e30423c-6ecf-4283-a3d0-dc5a7a70a06e",
   "metadata": {},
   "outputs": [
    {
     "data": {
      "text/plain": [
       "'flo'"
      ]
     },
     "execution_count": 15,
     "metadata": {},
     "output_type": "execute_result"
    }
   ],
   "source": [
    "longestCommonPrefix(['flower', 'flour', 'flows', 'flood'])"
   ]
  },
  {
   "cell_type": "markdown",
   "id": "0c1d9d4b-2fce-438a-809d-cd6456899241",
   "metadata": {},
   "source": [
    "# Plus One Algorithm\n",
    "\n",
    "https://leetcode.com/problems/plus-one/description/"
   ]
  },
  {
   "cell_type": "code",
   "execution_count": 16,
   "id": "0c5efcd2-eb09-4155-bade-affb75e619d0",
   "metadata": {},
   "outputs": [],
   "source": [
    "## My solution\n",
    "\n",
    "def plusOne(digits):\n",
    "    combined_digits = int(''.join(map(str,digits))) \n",
    "    combined_digits += 1 \n",
    "    combined_digits = str(combined_digits)\n",
    "    digits = list(combined_digits)\n",
    "\n",
    "    return [int(i) for i in digits]\n",
    "\n",
    "\n",
    "## Another solution\n",
    "\n",
    "def plusOne(digits):\n",
    "    # Start from the end, in many cases, this will be O(1) algorithm because of starting from end\n",
    "    for i in range(len(digits)-1, 0, -1):\n",
    "\n",
    "        # Most lists will hit this statement and return (ex: [1,2,3] , [2,8], [8])\n",
    "        if digits[i] != 10:\n",
    "            digits[i] += 1\n",
    "            return digits\n",
    "        # Lists that go from 9 -> 0 will come here (ex: [1,9], [2,9] etc)\n",
    "        digits[i] = 0\n",
    "\n",
    "        # If going from 9 -> 0 by adding one we add a new digit to number, then we come here (ex: [9], [9,9], [9,9,9], [9,9,9,9])\n",
    "        if i == 0:\n",
    "            return [1] + digits"
   ]
  },
  {
   "cell_type": "markdown",
   "id": "75c6ec59-b187-4044-8521-8f8939161294",
   "metadata": {},
   "source": [
    "## kth Factor of n:\n",
    "https://leetcode.com/problems/the-kth-factor-of-n/?envType=study-plan-v2&envId=amazon-spring-23-high-frequency\n"
   ]
  },
  {
   "cell_type": "code",
   "execution_count": 17,
   "id": "622556c0-bd11-4034-8edf-daa0f5247dd2",
   "metadata": {},
   "outputs": [],
   "source": [
    "def kth_factor(k:int, n:int) -> int:\n",
    "    # 1) Initialize factor counter\n",
    "    # 2) Loop from 1 to n+1\n",
    "    # 3) If n is divisble by i, increment factor counter\n",
    "    # 4) if kth value == factor counter, return i \n",
    "    # 5) return -1 at the end\n",
    "\n",
    "    j = 0 \n",
    "    for i in range(1, n+1):\n",
    "        if n % i == 0:\n",
    "            j+=1\n",
    "        if k == j:\n",
    "            return i \n",
    "    return -1 "
   ]
  },
  {
   "cell_type": "code",
   "execution_count": 18,
   "id": "958da2cd-bbe8-4cad-b5d9-da40366f4bda",
   "metadata": {},
   "outputs": [
    {
     "data": {
      "text/plain": [
       "1"
      ]
     },
     "execution_count": 18,
     "metadata": {},
     "output_type": "execute_result"
    }
   ],
   "source": [
    "kth_factor(1, 16)"
   ]
  },
  {
   "cell_type": "markdown",
   "id": "57d29e5a-41fa-40d1-b4e0-d6d36207fc7e",
   "metadata": {},
   "source": [
    "# ARRAYS"
   ]
  },
  {
   "cell_type": "markdown",
   "id": "7fd8e5ee-9bd8-4392-9375-3a57ab001c06",
   "metadata": {},
   "source": [
    "## Two Sum\n",
    "https://leetcode.com/problems/two-sum/description/"
   ]
  },
  {
   "cell_type": "code",
   "execution_count": 19,
   "id": "a2a1f6a5-67a7-43d7-81e9-b7fc3c44ce5e",
   "metadata": {},
   "outputs": [],
   "source": [
    "def two_sum(nums:list[int], target:int) -> list[int]:\n",
    "    # 1) Create dictionary to store index and value of already traversed numbers\n",
    "    # 2) Iterate through num list\n",
    "    # 3) Obtain complement (target - nums[i])\n",
    "    # 4) If complement in dictionary, return index of complement and current iteration index\n",
    "    # 5) After conditional, add traversed number and its index to dictionary \n",
    "    # 6) return empty list if reached end of list and two sum wasn't found\n",
    "\n",
    "    traversed_nums = {} \n",
    "\n",
    "    for i in range(len(nums)):\n",
    "        complement = target - nums[i]\n",
    "        if complement in traversed_nums:\n",
    "            return [traversed_nums[complement], i]\n",
    "        traversed_nums[nums[i]] = i\n",
    "    return []"
   ]
  },
  {
   "cell_type": "code",
   "execution_count": 20,
   "id": "5cc78d80-cab1-43ac-b68e-a7fec33da698",
   "metadata": {},
   "outputs": [
    {
     "data": {
      "text/plain": [
       "[0, 1]"
      ]
     },
     "execution_count": 20,
     "metadata": {},
     "output_type": "execute_result"
    }
   ],
   "source": [
    "two_sum([9,3,4], 12)"
   ]
  },
  {
   "cell_type": "code",
   "execution_count": 21,
   "id": "bf803cb0-f3e8-4672-ab97-979b4b951ebd",
   "metadata": {},
   "outputs": [
    {
     "data": {
      "text/plain": [
       "[]"
      ]
     },
     "execution_count": 21,
     "metadata": {},
     "output_type": "execute_result"
    }
   ],
   "source": [
    "two_sum([1,2,3], 45)"
   ]
  },
  {
   "cell_type": "code",
   "execution_count": 22,
   "id": "fb59367e-da3b-4d14-bc95-c21f7233ca63",
   "metadata": {},
   "outputs": [
    {
     "data": {
      "text/plain": [
       "[]"
      ]
     },
     "execution_count": 22,
     "metadata": {},
     "output_type": "execute_result"
    }
   ],
   "source": [
    "two_sum([3,3,3], 9)"
   ]
  },
  {
   "cell_type": "code",
   "execution_count": 23,
   "id": "ca36a3ff-4dd2-40d2-a648-4511e63076a7",
   "metadata": {},
   "outputs": [
    {
     "data": {
      "text/plain": [
       "[0, 1]"
      ]
     },
     "execution_count": 23,
     "metadata": {},
     "output_type": "execute_result"
    }
   ],
   "source": [
    "two_sum([3,3], 6)"
   ]
  },
  {
   "cell_type": "markdown",
   "id": "c340dcc0-27a9-4b42-b0fe-e1465ad8ac28",
   "metadata": {},
   "source": [
    "## Best Time to Buy and Sell Stock\n",
    "\n",
    "https://leetcode.com/problems/best-time-to-buy-and-sell-stock/description/"
   ]
  },
  {
   "cell_type": "code",
   "execution_count": 24,
   "id": "395fd586-a5f4-4622-8c55-aad666215571",
   "metadata": {},
   "outputs": [],
   "source": [
    "def max_profit(prices:list[int]) -> int:\n",
    "    # 1) Create max profit variable and set to zero, create cheapest price variable and set to infinity\n",
    "    # 2) Loop through prices until (and including) second to last index\n",
    "    # 3) if prices at current index is less than cheapest prices, cheapest price equals price at current index\n",
    "    # 4) if prices at next index - cheapest price is greater than max profit, then max profit equals that (meaning higher max profit for selling then)\n",
    "    # 5) return max profit\n",
    "    max_profit = 0\n",
    "    cheapest_price = float('inf')\n",
    "\n",
    "    for i in range(len(prices)-1):\n",
    "        if prices[i] < cheapest_price:\n",
    "            cheapest_price = prices[i]\n",
    "\n",
    "        if max_profit < prices[i+1] - cheapest_price:\n",
    "            max_profit = prices[i+1] - cheapest_price\n",
    "    return max_profit"
   ]
  },
  {
   "cell_type": "code",
   "execution_count": 25,
   "id": "06723d34-a2a6-4b51-9aca-c0fd43973b4c",
   "metadata": {},
   "outputs": [
    {
     "data": {
      "text/plain": [
       "5"
      ]
     },
     "execution_count": 25,
     "metadata": {},
     "output_type": "execute_result"
    }
   ],
   "source": [
    "max_profit([1,2,3,4,5,6])"
   ]
  },
  {
   "cell_type": "code",
   "execution_count": 26,
   "id": "79e2b668-b2f7-437a-8975-4f4a10c14052",
   "metadata": {},
   "outputs": [
    {
     "data": {
      "text/plain": [
       "2"
      ]
     },
     "execution_count": 26,
     "metadata": {},
     "output_type": "execute_result"
    }
   ],
   "source": [
    "max_profit([2,4,1])"
   ]
  },
  {
   "cell_type": "code",
   "execution_count": 27,
   "id": "e3fdead1-81e2-4c68-84cf-868efff5daa8",
   "metadata": {},
   "outputs": [
    {
     "data": {
      "text/plain": [
       "0"
      ]
     },
     "execution_count": 27,
     "metadata": {},
     "output_type": "execute_result"
    }
   ],
   "source": [
    "max_profit([7,6,5,4])"
   ]
  },
  {
   "cell_type": "markdown",
   "id": "9006e0da-82be-48b4-894f-9be40f36bc28",
   "metadata": {},
   "source": [
    "## Maximum SubArray\n",
    "\n",
    "https://leetcode.com/problems/maximum-subarray/description/"
   ]
  },
  {
   "cell_type": "code",
   "execution_count": 28,
   "id": "fc027f0a-16a1-480a-a1be-ac87fdfb2d4d",
   "metadata": {},
   "outputs": [],
   "source": [
    "def max_subarray(nums:list[int]) -> int:\n",
    "    # O(n^2)\n",
    "    # 1) initialize largest sum to -infinity\n",
    "    # 2) Loop through nums list len\n",
    "    # 3) initialize current sum\n",
    "    # 4) loop from i to nums list len\n",
    "    # 5) add nums[j] to current sum\n",
    "    # 6) find max between current sum and largest sum and set to largest sum\n",
    "    # 7) return largest sum\n",
    "    largest_sum = float('-inf')\n",
    "    for i in range(len(nums)):\n",
    "        current_sum = 0 \n",
    "        for j in range(i, len(nums)):\n",
    "            current_sum += nums[j]\n",
    "            largest_sum = max(current_sum, largest_sum)\n",
    "    return largest_sum\n",
    "\n",
    "\n",
    "def max_subarray(nums:list[int]) -> int:\n",
    "    # O(n) solution\n",
    "    # 1) Initialize total variable (set to zero) and result variable (set to first number in list)\n",
    "    # 2) Iterate through numbers list\n",
    "    # 3) If total is less than zero, we set to zero \n",
    "    # 4) Add number at index to total\n",
    "    # 5) Find max between result and total and set to result\n",
    "    # Result will eventually hit the maximum sub array sum because it is always being compared to total \n",
    "    # total is reset to zero in cases where we are starting our new sum and when max function executes, result obtains whatever this sum is\n",
    "    # - the maximum sum will stay assigned to result\n",
    "    total = 0\n",
    "    result = nums[0]\n",
    "\n",
    "    for i in range(len(nums)):\n",
    "        if total < 0:\n",
    "            total = 0 \n",
    "        total += nums[i]\n",
    "        result = max(total, result)\n",
    "    return result\n",
    "    \n",
    "        "
   ]
  },
  {
   "cell_type": "code",
   "execution_count": 29,
   "id": "a2fb3094-e1f5-47f5-800f-74891cc97a95",
   "metadata": {},
   "outputs": [
    {
     "data": {
      "text/plain": [
       "1"
      ]
     },
     "execution_count": 29,
     "metadata": {},
     "output_type": "execute_result"
    }
   ],
   "source": [
    "max_subarray([1])"
   ]
  },
  {
   "cell_type": "code",
   "execution_count": 30,
   "id": "498e6b8f-546c-4c0b-9c3f-08ab24a6a888",
   "metadata": {},
   "outputs": [
    {
     "data": {
      "text/plain": [
       "6"
      ]
     },
     "execution_count": 30,
     "metadata": {},
     "output_type": "execute_result"
    }
   ],
   "source": [
    "max_subarray([1,2,3,-3])"
   ]
  },
  {
   "cell_type": "code",
   "execution_count": 31,
   "id": "7de2667e-366f-4b71-bb60-eb9f7d3ab324",
   "metadata": {},
   "outputs": [
    {
     "data": {
      "text/plain": [
       "8"
      ]
     },
     "execution_count": 31,
     "metadata": {},
     "output_type": "execute_result"
    }
   ],
   "source": [
    "max_subarray([1,-5,4,-1,2,3,-4,-6, 3])"
   ]
  },
  {
   "cell_type": "markdown",
   "id": "876c35fb-630b-45e7-af2a-1da778f22098",
   "metadata": {},
   "source": [
    "# STRING"
   ]
  },
  {
   "cell_type": "markdown",
   "id": "8f73e823-be0c-4ffb-be97-5f61717bd2be",
   "metadata": {},
   "source": [
    "## Is Palindrome?\n",
    "\n",
    "https://leetcode.com/problems/valid-palindrome/description/"
   ]
  },
  {
   "cell_type": "code",
   "execution_count": 32,
   "id": "53bc5a17-5e0c-4442-8de8-ff951133118d",
   "metadata": {},
   "outputs": [],
   "source": [
    "def is_palindrome(phrase):\n",
    "    ans = '' \n",
    "    for i in range(len(phrase)):\n",
    "        if phrase[i].isalnum():\n",
    "            ans += phrase[i]\n",
    "    return ans == ans[::-1]\n",
    "\n",
    "def is_palindrome(phrase):\n",
    "    # Ignores any non alphanumeric characters (spaces and symbols)\n",
    "    \n",
    "    phrase_alnum = \"\".join([i.lower() for i in phrase if i.isalnum()])\n",
    "    \n",
    "    return phrase_alnum[::-1] == phrase_alnum\n",
    "\n"
   ]
  },
  {
   "cell_type": "code",
   "execution_count": 33,
   "id": "aa5461dd-f8ae-4b0f-8d3a-924bc4848a66",
   "metadata": {},
   "outputs": [
    {
     "data": {
      "text/plain": [
       "True"
      ]
     },
     "execution_count": 33,
     "metadata": {},
     "output_type": "execute_result"
    }
   ],
   "source": [
    "is_palindrome('adda')"
   ]
  },
  {
   "cell_type": "code",
   "execution_count": 34,
   "id": "ba120f46-85c8-4ddf-b7b8-702a74b0074d",
   "metadata": {},
   "outputs": [
    {
     "data": {
      "text/plain": [
       "True"
      ]
     },
     "execution_count": 34,
     "metadata": {},
     "output_type": "execute_result"
    }
   ],
   "source": [
    "is_palindrome('SQL# LQS')"
   ]
  },
  {
   "cell_type": "code",
   "execution_count": 35,
   "id": "13421a89-906f-427c-818f-7eb3d07697a1",
   "metadata": {},
   "outputs": [
    {
     "data": {
      "text/plain": [
       "False"
      ]
     },
     "execution_count": 35,
     "metadata": {},
     "output_type": "execute_result"
    }
   ],
   "source": [
    "is_palindrome('lnkdf%%%')"
   ]
  },
  {
   "cell_type": "code",
   "execution_count": 36,
   "id": "7ac86ec2-6843-4274-9300-3f7bc7658796",
   "metadata": {},
   "outputs": [
    {
     "data": {
      "text/plain": [
       "True"
      ]
     },
     "execution_count": 36,
     "metadata": {},
     "output_type": "execute_result"
    }
   ],
   "source": [
    "is_palindrome('l%nkk$$$nl$$')"
   ]
  },
  {
   "cell_type": "markdown",
   "id": "9c50119d-d3e4-40ef-a5f9-d2e3afa0d7c2",
   "metadata": {},
   "source": [
    "## Is Anagram?\n",
    "\n",
    "https://leetcode.com/problems/valid-anagram/description/"
   ]
  },
  {
   "cell_type": "code",
   "execution_count": 37,
   "id": "90e54584-3a23-43da-8f91-ab934a3eb54a",
   "metadata": {},
   "outputs": [],
   "source": [
    "def is_anagram(s:str, t:str) -> bool:\n",
    "    s = sorted(s)\n",
    "    t = sorted(t)\n",
    "    return s == t"
   ]
  },
  {
   "cell_type": "code",
   "execution_count": 38,
   "id": "4a64b996-7aca-4abe-9d6b-c08a3132da7b",
   "metadata": {},
   "outputs": [
    {
     "data": {
      "text/plain": [
       "True"
      ]
     },
     "execution_count": 38,
     "metadata": {},
     "output_type": "execute_result"
    }
   ],
   "source": [
    "is_anagram('race', 'ecar')"
   ]
  },
  {
   "cell_type": "code",
   "execution_count": 39,
   "id": "901b98dc-b743-4b0d-b97e-c44eebee4dec",
   "metadata": {},
   "outputs": [
    {
     "data": {
      "text/plain": [
       "False"
      ]
     },
     "execution_count": 39,
     "metadata": {},
     "output_type": "execute_result"
    }
   ],
   "source": [
    "is_anagram('type', 'ype')"
   ]
  },
  {
   "cell_type": "code",
   "execution_count": 40,
   "id": "7a032b4d-9f1d-4ab8-b519-6adc26c36e49",
   "metadata": {},
   "outputs": [
    {
     "data": {
      "text/plain": [
       "True"
      ]
     },
     "execution_count": 40,
     "metadata": {},
     "output_type": "execute_result"
    }
   ],
   "source": [
    "is_anagram('racecar', 'carecar')"
   ]
  },
  {
   "cell_type": "markdown",
   "id": "0d3d054c-90d0-4fd2-9b7f-aa126414135c",
   "metadata": {},
   "source": [
    "## Longest Substring Without Duplicate Characters\n",
    "\n",
    "https://leetcode.com/problems/longest-substring-without-repeating-characters/description/"
   ]
  },
  {
   "cell_type": "code",
   "execution_count": 41,
   "id": "99c4001d-4d8b-4da6-bf1d-142a2b1eb8c0",
   "metadata": {},
   "outputs": [],
   "source": [
    "def length_longest_substring(s:str) -> int:\n",
    "    # 1) Initialize set variable to store variables, length variable to zero and left/slow incrementor to 0\n",
    "    # 2) Iterate through string (with right/fast variable)\n",
    "    # 3) While character at index is in set, remove character at left/index and increment -> removes duplicates \n",
    "    # 4) Add character at index to set\n",
    "    # 5) set length to max between length of set and length curret value\n",
    "    # 6) return length\n",
    "    char_set = set()\n",
    "    length = 0\n",
    "    left = 0\n",
    "\n",
    "    for right in range(len(s)):\n",
    "        while s[right] in char_set:\n",
    "            char_set.remove(s[left])\n",
    "            left += 1 \n",
    "        char_set.add(s[right])\n",
    "        length = max(length, len(char_set))\n",
    "\n",
    "    return length"
   ]
  },
  {
   "cell_type": "code",
   "execution_count": 42,
   "id": "0eea4be0-9aae-4b16-bdbb-542d6d8ae2e8",
   "metadata": {},
   "outputs": [
    {
     "data": {
      "text/plain": [
       "6"
      ]
     },
     "execution_count": 42,
     "metadata": {},
     "output_type": "execute_result"
    }
   ],
   "source": [
    "length_longest_substring('abbcbbdbbcdgfhhhhh')"
   ]
  },
  {
   "cell_type": "code",
   "execution_count": 43,
   "id": "8a6c5051-5812-488c-a470-57b3e1156361",
   "metadata": {},
   "outputs": [
    {
     "data": {
      "text/plain": [
       "3"
      ]
     },
     "execution_count": 43,
     "metadata": {},
     "output_type": "execute_result"
    }
   ],
   "source": [
    "length_longest_substring('abcabcbac')"
   ]
  },
  {
   "cell_type": "markdown",
   "id": "92f2792a-6a9a-4cba-9999-14e24bb47aaa",
   "metadata": {},
   "source": [
    "# HASH TABLE"
   ]
  },
  {
   "cell_type": "markdown",
   "id": "61540d70-3887-4ea0-a81b-c21f53822e96",
   "metadata": {},
   "source": [
    "## Ransom Note\n",
    "\n",
    "https://leetcode.com/problems/ransom-note/description/"
   ]
  },
  {
   "cell_type": "code",
   "execution_count": 44,
   "id": "bc83bd31-748c-4216-8f6f-0e2a6950121a",
   "metadata": {},
   "outputs": [],
   "source": [
    "from collections import Counter\n",
    "\n",
    "def can_construct_ransom_note(ransom_note:str, magazine:str) -> bool:\n",
    "    note_letters = Counter(ransom_note)\n",
    "    all_letters = Counter(magazine)\n",
    "\n",
    "    # Return True if empty (meaning everything in note_letters exists in all_letters)\n",
    "    return not note_letters - all_letters\n",
    "\n",
    "\n",
    "def can_construct_ransom_note(ransom_note:str, magazine:str) -> bool:\n",
    "    # 1) Create mega_dict\n",
    "    # 2) for key in magazine, store in dictionary and increment if exists else set to 1\n",
    "    # 3) for key in ransom note, if ikeynot in mega dict and mega_dict at key less than 0, return False \n",
    "    # 4) decrement mega_dict at key\n",
    "    # 5) return True\n",
    "    \n",
    "    mega_dict = {}\n",
    "\n",
    "    for i in magazine:\n",
    "        mega_dict[i] = mega_dict.get(i,0) + 1\n",
    "\n",
    "    for i in ransom_note:\n",
    "        if i not in mega_dict or mega_dict[i] <= 0:\n",
    "            return False\n",
    "        mega_dict[i] -= 1 \n",
    "    return True"
   ]
  },
  {
   "cell_type": "code",
   "execution_count": 45,
   "id": "ddc25bf3-40a2-4dfa-9132-fd7ac0610d55",
   "metadata": {},
   "outputs": [
    {
     "data": {
      "text/plain": [
       "True"
      ]
     },
     "execution_count": 45,
     "metadata": {},
     "output_type": "execute_result"
    }
   ],
   "source": [
    "can_construct_ransom_note('aaa', 'aaaaab')"
   ]
  },
  {
   "cell_type": "code",
   "execution_count": 46,
   "id": "3fe30c41-58cf-4b05-a9d0-0402b21b6782",
   "metadata": {},
   "outputs": [
    {
     "data": {
      "text/plain": [
       "False"
      ]
     },
     "execution_count": 46,
     "metadata": {},
     "output_type": "execute_result"
    }
   ],
   "source": [
    "can_construct_ransom_note('bng', 'a')"
   ]
  },
  {
   "cell_type": "markdown",
   "id": "e7a9e4bc-8372-4bcd-9272-8c05ff115276",
   "metadata": {},
   "source": [
    "## Group Anagrams\n",
    "https://leetcode.com/problems/group-anagrams/description/"
   ]
  },
  {
   "cell_type": "code",
   "execution_count": 47,
   "id": "bf9159b2-1c11-43c9-b363-e8558afc94b4",
   "metadata": {},
   "outputs": [],
   "source": [
    "def group_anagrams(strs:list[str]) -> list[list[str]]:\n",
    "    # 1) initialize dictionary\n",
    "    # 2) Iterate through strings in str list\n",
    "    # 3) Sort string\n",
    "    # 4) if sorted string is not in dictionary, add it to dictionary with a value of an empty list\n",
    "    # 5) Append the current string to the sorted string index\n",
    "    # 6) After loop, return the dictionary values as a list\n",
    "    \n",
    "    res = {}\n",
    "    for word in strs:\n",
    "        sorted_word = ''.join(sorted(word))\n",
    "\n",
    "        if sorted_word not in res:\n",
    "            res[sorted_word] = [] \n",
    "        res[sorted_word].append(word)\n",
    "    return list(res.values())\n",
    "    "
   ]
  },
  {
   "cell_type": "code",
   "execution_count": 48,
   "id": "ad23ee08-effa-4a8c-a6c2-b5fc9b58cff5",
   "metadata": {},
   "outputs": [
    {
     "data": {
      "text/plain": [
       "[['eat', 'ate'], ['bat', 'abt'], ['gip']]"
      ]
     },
     "execution_count": 48,
     "metadata": {},
     "output_type": "execute_result"
    }
   ],
   "source": [
    "group_anagrams(['eat', 'ate', 'bat', 'abt', 'gip'])"
   ]
  },
  {
   "cell_type": "markdown",
   "id": "19b5d510-5573-4228-ae18-e82fd0e5608e",
   "metadata": {},
   "source": [
    "## Randomized Set\n",
    "\n",
    "https://leetcode.com/problems/insert-delete-getrandom-o1/description/"
   ]
  },
  {
   "cell_type": "code",
   "execution_count": 49,
   "id": "b4db5e3d-3b73-4c1f-953c-195b0242b70f",
   "metadata": {},
   "outputs": [],
   "source": [
    "import random\n",
    "# Non optimized -- insert and remove are O(n) due to checking if value in list and .remove from list\n",
    "class RandomizedSet:\n",
    "\n",
    "    # 1) Initialize empty list\n",
    "    def __init__(self):\n",
    "        self.randomized_set = []\n",
    "\n",
    "    # 1) Check if val in list - return False\n",
    "    # 2) If not in list, append to list and return True\n",
    "    def insert(self, val):\n",
    "        if val in self.randomized_set:\n",
    "            return False\n",
    "        self.randomized_set.append(val)\n",
    "        return True\n",
    "    \n",
    "    # 1) Check if val not in list -> False\n",
    "    # 2) If is in list, remove value and return True\n",
    "    def remove(self, val):\n",
    "        if val not in self.randomized_set:\n",
    "            return False\n",
    "        self.randomized_set.remove(val)\n",
    "        return True \n",
    "    \n",
    "    # 1) return random choice from list\n",
    "    def get_random(self):\n",
    "        return random.choice(self.randomized_set)\n",
    "    \n",
    "# Optimized -- every operation is O(1) (we avoid searching list for value and removing from list (both O(n) operations))\n",
    "class RandomizedSet:\n",
    "    # 1) Initialize list and dictionary to store indicies\n",
    "    def __init__(self):\n",
    "        self.randomized_set = []\n",
    "        self.index_store = {}\n",
    "\n",
    "    # 1) Check if val in dict (not list since O(n)) - return False\n",
    "    # 2) If not in dict, append value to list \n",
    "    # 3) Add to dict as key and store index as value\n",
    "    # 4) return True\n",
    "    def insert(self, val):\n",
    "        if val in self.index_store:\n",
    "            return False\n",
    "\n",
    "        self.randomized_set.append(val)\n",
    "        self.index_store[val] = len(self.randomized_set) - 1\n",
    "        return True\n",
    "\n",
    "    # 1) Check if val not in dict (don't check list because O(n)) -> False\n",
    "    # 2) Store index of value (i.e. index to be removed, stored in dictionary) and store last value in list\n",
    "    # 3) Set list index of value being removed to last element and update last element value in dictionary to its new index\n",
    "    # 4) Pop from list and del value from dictionary\n",
    "    # 5) return True\n",
    "    def remove(self, val):\n",
    "        if val not in self.index_store:\n",
    "            return False\n",
    "\n",
    "        index_to_remove = self.index_store[val]\n",
    "        last_element = self.randomized_set[-1]\n",
    "\n",
    "        self.randomized_set[index_to_remove] = last_element\n",
    "        self.index_store[last_element] = index_to_remove \n",
    "        \n",
    "        self.randomized_set.pop()\n",
    "        del self.index_store[val]\n",
    "\n",
    "        return True\n",
    "\n",
    "    # 1) return random choice from list\n",
    "    def get_random(self):\n",
    "        return random.choice(self.randomized_set)\n",
    "        \n",
    "\n",
    "\n",
    "\n",
    "    "
   ]
  },
  {
   "cell_type": "code",
   "execution_count": 50,
   "id": "321ebf69-d004-4519-8b50-adce8503fe56",
   "metadata": {},
   "outputs": [
    {
     "data": {
      "text/plain": [
       "True"
      ]
     },
     "execution_count": 50,
     "metadata": {},
     "output_type": "execute_result"
    }
   ],
   "source": [
    "r = RandomizedSet()\n",
    "r.insert(4)"
   ]
  },
  {
   "cell_type": "code",
   "execution_count": 51,
   "id": "e6f6aa64-69a1-4ee9-b999-5c893726b0d8",
   "metadata": {},
   "outputs": [
    {
     "data": {
      "text/plain": [
       "True"
      ]
     },
     "execution_count": 51,
     "metadata": {},
     "output_type": "execute_result"
    }
   ],
   "source": [
    "r.insert(2)"
   ]
  },
  {
   "cell_type": "code",
   "execution_count": 52,
   "id": "40d38a11-ccd9-4abb-a81c-d2f693df2efe",
   "metadata": {},
   "outputs": [
    {
     "data": {
      "text/plain": [
       "False"
      ]
     },
     "execution_count": 52,
     "metadata": {},
     "output_type": "execute_result"
    }
   ],
   "source": [
    "r.remove(1)"
   ]
  },
  {
   "cell_type": "code",
   "execution_count": 53,
   "id": "bfd767bd-a876-43e3-88ed-dfc10453ffff",
   "metadata": {},
   "outputs": [
    {
     "data": {
      "text/plain": [
       "True"
      ]
     },
     "execution_count": 53,
     "metadata": {},
     "output_type": "execute_result"
    }
   ],
   "source": [
    "r.remove(4)"
   ]
  },
  {
   "cell_type": "code",
   "execution_count": 54,
   "id": "50cf3c4f-ea7e-461e-a92d-17156b2406bd",
   "metadata": {},
   "outputs": [
    {
     "data": {
      "text/plain": [
       "6"
      ]
     },
     "execution_count": 54,
     "metadata": {},
     "output_type": "execute_result"
    }
   ],
   "source": [
    "r.insert(3)\n",
    "r.insert(5)\n",
    "r.insert(6)\n",
    "r.get_random()"
   ]
  },
  {
   "cell_type": "markdown",
   "id": "b0f99260-ab0c-475e-ad0b-e456510de2c6",
   "metadata": {},
   "source": [
    "# RECURSION"
   ]
  },
  {
   "cell_type": "markdown",
   "id": "7748b4b9-a8c0-48bd-869e-49f9bdb0bb3a",
   "metadata": {},
   "source": [
    "## All Subsets\n",
    "https://leetcode.com/problems/subsets/description/"
   ]
  },
  {
   "cell_type": "code",
   "execution_count": 55,
   "id": "d8ac65e8-79c2-466e-9b32-ead013f800f5",
   "metadata": {},
   "outputs": [],
   "source": [
    "def subsets(nums:list[int]) -> list[list[int]]:\n",
    "    # 1) Initalize result list\n",
    "    # 2) Create sub function with var to track indices in nums (set to zero) and list (set to empty)\n",
    "    # 3) Base case: if var to track indices equal len of nums, append copy of list to result list and return\n",
    "    # 4) First Recursion: Append nums at index to list and call sub function with index + 1 and l\n",
    "    # 5) Second Recursion: Pop from list and call sub function with index + 1 and l \n",
    "    # 6) Call function so recursion can occur\n",
    "    # 7) Return results\n",
    "    \n",
    "    res = []\n",
    "\n",
    "    def backtracking(start, l):\n",
    "        if len(nums) == start:\n",
    "            res.append(l[:])\n",
    "            return \n",
    "\n",
    "        l.append(nums[start])\n",
    "        backtracking(start+1, l)\n",
    "\n",
    "        l.pop()\n",
    "        backtracking(start+1, l)\n",
    "        \n",
    "    backtracking(0, [])\n",
    "    return res"
   ]
  },
  {
   "cell_type": "code",
   "execution_count": 56,
   "id": "15ba4905-d456-498d-a5ad-67598c313909",
   "metadata": {},
   "outputs": [
    {
     "data": {
      "text/plain": [
       "[[1, 2], [1], [2], []]"
      ]
     },
     "execution_count": 56,
     "metadata": {},
     "output_type": "execute_result"
    }
   ],
   "source": [
    "subsets([1,2])"
   ]
  },
  {
   "cell_type": "code",
   "execution_count": 57,
   "id": "e4c59471-a95b-4409-8320-c6f6335db30b",
   "metadata": {},
   "outputs": [
    {
     "data": {
      "text/plain": [
       "[[1, 3, 5], [1, 3], [1, 5], [1], [3, 5], [3], [5], []]"
      ]
     },
     "execution_count": 57,
     "metadata": {},
     "output_type": "execute_result"
    }
   ],
   "source": [
    "subsets([1,3,5])"
   ]
  },
  {
   "cell_type": "code",
   "execution_count": 58,
   "id": "a92775b8-304c-476b-9158-ac183a791e76",
   "metadata": {},
   "outputs": [
    {
     "data": {
      "text/plain": [
       "[[1, 2, 3], [1, 2], [1, 3], [1], [2, 3], [2], [3], []]"
      ]
     },
     "execution_count": 58,
     "metadata": {},
     "output_type": "execute_result"
    }
   ],
   "source": [
    "subsets([1,2,3])"
   ]
  },
  {
   "cell_type": "code",
   "execution_count": 59,
   "id": "858538f9-e1bc-45c3-a5a7-36590a81fa59",
   "metadata": {},
   "outputs": [
    {
     "data": {
      "text/plain": [
       "[[1, 4, 4], [1, 4], [1, 4], [1], [4, 4], [4], [4], []]"
      ]
     },
     "execution_count": 59,
     "metadata": {},
     "output_type": "execute_result"
    }
   ],
   "source": [
    "subsets([1,4,4])"
   ]
  },
  {
   "cell_type": "markdown",
   "id": "a8d25a52-7711-446d-a09b-c5ac857b3ed9",
   "metadata": {},
   "source": [
    "## All Subsets 2 (Remove duplicate lists in Output; this occurs when there are duplicate values in input)\n",
    "https://leetcode.com/problems/subsets-ii/description/"
   ]
  },
  {
   "cell_type": "code",
   "execution_count": 60,
   "id": "eecd6e5f-d807-42d8-8ab7-97709ed83c44",
   "metadata": {},
   "outputs": [],
   "source": [
    "def subsets_remove_duplicates(nums:list[int]) -> list[list[int]]:\n",
    "    # 1) Initalize result list, sort nums input array\n",
    "    # 2) Create sub function with var to track indices in nums (set to zero) and list (set to empty)\n",
    "    # 3) Base case: if var to track indices equal len of nums and if list not in result list, append copy of list to result list and return\n",
    "    # 4) First Recursion: Append nums at index to list and call sub function with index + 1 and l\n",
    "    # 5) Second Recursion: Pop from list and call sub function with index + 1 and l \n",
    "    # 6) Call function so recursion can occur\n",
    "    # 7) Return results\n",
    "    res = [] \n",
    "    nums.sort() \n",
    "\n",
    "    def backtracking(start, l):\n",
    "        if start == len(nums):\n",
    "            if l not in res:\n",
    "                res.append(l[:])\n",
    "            return \n",
    "\n",
    "        l.append(nums[start])\n",
    "        backtracking(start+1, l)\n",
    "\n",
    "        l.pop()\n",
    "        backtracking(start+1, l)\n",
    "\n",
    "    backtracking(0, [])\n",
    "    return res"
   ]
  },
  {
   "cell_type": "code",
   "execution_count": 61,
   "id": "15fac66d-c542-483c-8ddd-d5866f0878f2",
   "metadata": {},
   "outputs": [
    {
     "data": {
      "text/plain": [
       "[[1, 4, 4], [1, 4], [1], [4, 4], [4], []]"
      ]
     },
     "execution_count": 61,
     "metadata": {},
     "output_type": "execute_result"
    }
   ],
   "source": [
    "# No duplicates in this one like in the previous algorithm\n",
    "subsets_remove_duplicates([1,4,4])"
   ]
  },
  {
   "cell_type": "code",
   "execution_count": 62,
   "id": "34253619-7b2a-4237-9216-03ce4f187d57",
   "metadata": {},
   "outputs": [
    {
     "data": {
      "text/plain": [
       "[[1, 2, 2], [1, 2], [1], [2, 2], [2], []]"
      ]
     },
     "execution_count": 62,
     "metadata": {},
     "output_type": "execute_result"
    }
   ],
   "source": [
    "subsets_remove_duplicates([1,2,2])"
   ]
  },
  {
   "cell_type": "markdown",
   "id": "a67d0360-6ab3-491e-b41e-86f280485925",
   "metadata": {},
   "source": [
    "## Generate Parenthesis\n",
    "https://leetcode.com/problems/generate-parentheses/description/"
   ]
  },
  {
   "cell_type": "code",
   "execution_count": 63,
   "id": "9f9b52a4-7396-46b0-adea-02b6d9ad6d7a",
   "metadata": {},
   "outputs": [],
   "source": [
    "def generate_parenthesis(n:int) -> list[list[str]]:\n",
    "    # 1) Initialize list to return\n",
    "    # 2) Create sub function that takes open and closed parenthesis current amount (should be zero on function call), and empty s\n",
    "    # 3) Base case: if open and closed amount are equal and they both equal n, append string to result list\n",
    "    # 4) Recursive: if open < n, call sub function, add one to open and add open parenthesis to string\n",
    "    # 5) Recursive: if closed < open (must have same amount of parenthesis), call sub function, add one to close and add close parenthesis to string\n",
    "    # 6) Call backtrack where open = close = 0 and string is empty\n",
    "    # 7) Return result\n",
    "    res = [] \n",
    "\n",
    "    def backtracking(open_p, close_p, s):\n",
    "        if open_p == close_p and open_p == n:\n",
    "            res.append(s)\n",
    "\n",
    "        if open_p < n:\n",
    "            backtracking(open_p+1, close_p, s + '(')\n",
    "\n",
    "        if close_p < open_p:\n",
    "            backtracking(open_p, close_p+1, s+')')\n",
    "\n",
    "    backtracking(0,0,'')\n",
    "    return res\n",
    "    "
   ]
  },
  {
   "cell_type": "code",
   "execution_count": 64,
   "id": "9312d7f5-5029-42ad-9a51-57bb3ea303d5",
   "metadata": {},
   "outputs": [
    {
     "data": {
      "text/plain": [
       "['()']"
      ]
     },
     "execution_count": 64,
     "metadata": {},
     "output_type": "execute_result"
    }
   ],
   "source": [
    "generate_parenthesis(1)"
   ]
  },
  {
   "cell_type": "code",
   "execution_count": 65,
   "id": "bc5f56ab-197b-4c35-b050-6e2a6b5d6c08",
   "metadata": {},
   "outputs": [
    {
     "data": {
      "text/plain": [
       "['(())', '()()']"
      ]
     },
     "execution_count": 65,
     "metadata": {},
     "output_type": "execute_result"
    }
   ],
   "source": [
    "generate_parenthesis(2)"
   ]
  },
  {
   "cell_type": "code",
   "execution_count": 66,
   "id": "e6ebbe44-04e9-48fc-8d64-ea350a6fd21c",
   "metadata": {},
   "outputs": [
    {
     "data": {
      "text/plain": [
       "['((()))', '(()())', '(())()', '()(())', '()()()']"
      ]
     },
     "execution_count": 66,
     "metadata": {},
     "output_type": "execute_result"
    }
   ],
   "source": [
    "generate_parenthesis(3)"
   ]
  },
  {
   "cell_type": "code",
   "execution_count": 67,
   "id": "21f6f42f-d700-4f2f-a80e-e24557b81375",
   "metadata": {},
   "outputs": [
    {
     "data": {
      "text/plain": [
       "['(((())))',\n",
       " '((()()))',\n",
       " '((())())',\n",
       " '((()))()',\n",
       " '(()(()))',\n",
       " '(()()())',\n",
       " '(()())()',\n",
       " '(())(())',\n",
       " '(())()()',\n",
       " '()((()))',\n",
       " '()(()())',\n",
       " '()(())()',\n",
       " '()()(())',\n",
       " '()()()()']"
      ]
     },
     "execution_count": 67,
     "metadata": {},
     "output_type": "execute_result"
    }
   ],
   "source": [
    "generate_parenthesis(4)"
   ]
  },
  {
   "cell_type": "markdown",
   "id": "981f685d-eb3e-42bc-8a36-50047119089c",
   "metadata": {},
   "source": [
    "## All Combinations of K size from 1 to N (inclusive) (order does not matter)\n",
    "https://leetcode.com/problems/combinations/description/"
   ]
  },
  {
   "cell_type": "code",
   "execution_count": 68,
   "id": "55e5e0a8-32ec-4d36-943e-b592d53c2e2f",
   "metadata": {},
   "outputs": [],
   "source": [
    "#### CHATGPT Generated Backtracking Call Stack\n",
    "\n",
    "# backtracking(1, [])      \n",
    "# ├── append(1) → l = [1]\n",
    "# │   └── backtracking(2, [1])\n",
    "# │       ├── append(2) → l = [1, 2]\n",
    "# │       │   └── ✅ res.append([1, 2])\n",
    "# │       ├── pop() → l = [1]\n",
    "# │       ├── append(3) → l = [1, 3]\n",
    "# │       │   └── ✅ res.append([1, 3])\n",
    "# │       ├── pop() → l = [1]\n",
    "# │       ├── append(4) → l = [1, 4]\n",
    "# │       │   └── ✅ res.append([1, 4])\n",
    "# │       └── pop() → l = [1]\n",
    "# ├── pop() → l = []\n",
    "# ├── append(2) → l = [2]\n",
    "# │   └── backtracking(3, [2])\n",
    "# │       ├── append(3) → l = [2, 3]\n",
    "# │       │   └── ✅ res.append([2, 3])\n",
    "# │       ├── pop() → l = [2]\n",
    "# │       ├── append(4) → l = [2, 4]\n",
    "# │       │   └── ✅ res.append([2, 4])\n",
    "# │       └── pop() → l = [2]\n",
    "# ├── pop() → l = []\n",
    "# ├── append(3) → l = [3]\n",
    "# │   └── backtracking(4, [3])\n",
    "# │       ├── append(4) → l = [3, 4]\n",
    "# │       │   └── ✅ res.append([3, 4])\n",
    "# │       └── pop() → l = [3]\n",
    "# ├── pop() → l = []\n",
    "# ├── append(4) → l = [4]\n",
    "# │   └── backtracking(5, [4])\n",
    "# │       └── return (len([4]) < 2, no more numbers)\n",
    "# └── pop() → l = []\n"
   ]
  },
  {
   "cell_type": "code",
   "execution_count": 69,
   "id": "935aa5a0-fea7-456a-b26e-1153aa275f7f",
   "metadata": {},
   "outputs": [],
   "source": [
    "def combinations(n:int, k:int) -> list[list[int]]:\n",
    "    # 1) Initialize list to return\n",
    "    # 2) Create sub function that takes start (1) and empty list\n",
    "    # 3) Base case: if length of list equals k, append copy of list to result list\n",
    "    # 4) Recursive: for i in range start to n + 1, append i to list, call sub function on i+1 and l, and then pop from list\n",
    "    # 5) outside of backtracking funciton, Call backtracking where start=1 and list is empty\n",
    "    # 6) Return result\n",
    "    \n",
    "    res = [] \n",
    "\n",
    "    def backtracking(start, l):\n",
    "        if len(l) == k:\n",
    "            res.append(l[:]) # colon required since we want copy, not mutable list\n",
    "\n",
    "        for i in range(start, n+1):\n",
    "            l.append(i)\n",
    "            backtracking(i+1, l)\n",
    "            l.pop()\n",
    "\n",
    "    backtracking(1, [])\n",
    "\n",
    "    return res"
   ]
  },
  {
   "cell_type": "code",
   "execution_count": 70,
   "id": "ed97502b-2146-4e29-975e-9b62447bcf0f",
   "metadata": {},
   "outputs": [
    {
     "data": {
      "text/plain": [
       "[[1, 2], [1, 3], [1, 4], [2, 3], [2, 4], [3, 4]]"
      ]
     },
     "execution_count": 70,
     "metadata": {},
     "output_type": "execute_result"
    }
   ],
   "source": [
    "combinations(4, 2)"
   ]
  },
  {
   "cell_type": "code",
   "execution_count": 71,
   "id": "b9af6d38-1cf6-4e88-907b-6095f7c6094a",
   "metadata": {},
   "outputs": [
    {
     "data": {
      "text/plain": [
       "[[1], [2], [3], [4], [5], [6]]"
      ]
     },
     "execution_count": 71,
     "metadata": {},
     "output_type": "execute_result"
    }
   ],
   "source": [
    "combinations(6, 1)"
   ]
  },
  {
   "cell_type": "code",
   "execution_count": 72,
   "id": "2ad9a648-cd7e-4125-8bef-455cb62e87b2",
   "metadata": {},
   "outputs": [
    {
     "data": {
      "text/plain": [
       "[[1, 2, 3],\n",
       " [1, 2, 4],\n",
       " [1, 2, 5],\n",
       " [1, 3, 4],\n",
       " [1, 3, 5],\n",
       " [1, 4, 5],\n",
       " [2, 3, 4],\n",
       " [2, 3, 5],\n",
       " [2, 4, 5],\n",
       " [3, 4, 5]]"
      ]
     },
     "execution_count": 72,
     "metadata": {},
     "output_type": "execute_result"
    }
   ],
   "source": [
    "combinations(5, 3)"
   ]
  },
  {
   "cell_type": "markdown",
   "id": "4bf0f972-ac64-426a-bf56-9347a0b74993",
   "metadata": {},
   "source": [
    "## Permutations"
   ]
  },
  {
   "cell_type": "code",
   "execution_count": 73,
   "id": "db60a46f-c01b-463f-873a-2ab63be76d82",
   "metadata": {},
   "outputs": [],
   "source": [
    "def permute(nums:list[int]) -> list[list[int]]:\n",
    "    # 1) Initialize list to return\n",
    "    # 2) Create sub function that takes empty list\n",
    "    # 3) Base case: if length of list equals length of nums, append copy of list to result list\n",
    "    # 4) Recursive: for i in nums, if i not in list, append nums at i to list, call sub function l, and then pop from list\n",
    "    # 5) outside of backtracking funciton, Call backtracking where list is empty\n",
    "    # 6) Return result\n",
    "    res = [] \n",
    "\n",
    "    def backtracking(l):\n",
    "        if len(l) == len(nums):\n",
    "            res.append(l[:])\n",
    "            return \n",
    "\n",
    "        for i in nums:\n",
    "            if i not in l:\n",
    "                l.append(i)\n",
    "                print(l)\n",
    "                backtracking(l)\n",
    "                l.pop()\n",
    "    backtracking([])\n",
    "    return res"
   ]
  },
  {
   "cell_type": "code",
   "execution_count": 74,
   "id": "b774f257-92aa-4c27-a30f-da6a9ced97b9",
   "metadata": {},
   "outputs": [
    {
     "name": "stdout",
     "output_type": "stream",
     "text": [
      "[1]\n",
      "[1, 2]\n",
      "[2]\n",
      "[2, 1]\n"
     ]
    },
    {
     "data": {
      "text/plain": [
       "[[1, 2], [2, 1]]"
      ]
     },
     "execution_count": 74,
     "metadata": {},
     "output_type": "execute_result"
    }
   ],
   "source": [
    "permute([1,2])"
   ]
  },
  {
   "cell_type": "code",
   "execution_count": 75,
   "id": "33733b7e-911a-4423-b10c-280c4c609786",
   "metadata": {},
   "outputs": [
    {
     "name": "stdout",
     "output_type": "stream",
     "text": [
      "[1]\n",
      "[1, 2]\n",
      "[1, 2, 3]\n",
      "[1, 3]\n",
      "[1, 3, 2]\n",
      "[2]\n",
      "[2, 1]\n",
      "[2, 1, 3]\n",
      "[2, 3]\n",
      "[2, 3, 1]\n",
      "[3]\n",
      "[3, 1]\n",
      "[3, 1, 2]\n",
      "[3, 2]\n",
      "[3, 2, 1]\n"
     ]
    },
    {
     "data": {
      "text/plain": [
       "[[1, 2, 3], [1, 3, 2], [2, 1, 3], [2, 3, 1], [3, 1, 2], [3, 2, 1]]"
      ]
     },
     "execution_count": 75,
     "metadata": {},
     "output_type": "execute_result"
    }
   ],
   "source": [
    "permute([1,2,3])"
   ]
  },
  {
   "cell_type": "markdown",
   "id": "ec26c01e-9ad0-4a06-a031-ab8bd958b996",
   "metadata": {},
   "source": [
    "# LINKEDLIST"
   ]
  },
  {
   "cell_type": "markdown",
   "id": "eb1562b1-d9e9-42b4-b87b-aa167b71f386",
   "metadata": {},
   "source": [
    "## Add Two Numbers Represented Backwards as Nodes in Linked List\n",
    "https://leetcode.com/problems/add-two-numbers/description/"
   ]
  },
  {
   "cell_type": "code",
   "execution_count": 76,
   "id": "a6897c41-bee7-4ae1-815d-805f46c4e4a8",
   "metadata": {},
   "outputs": [],
   "source": [
    "from typing import Optional\n",
    "\n",
    "# Definition for singly-linked list.\n",
    "class ListNode:\n",
    "    def __init__(self, val=0, next=None):\n",
    "        self.val = val\n",
    "        self.next = next\n",
    "\n",
    "\n",
    "class Solution:\n",
    "    def addTwoNumbers(self, l1: Optional[ListNode], l2: Optional[ListNode]) -> Optional[ListNode]:\n",
    "\n",
    "        # 1) Create two lists to store the values from each LL\n",
    "        # 2) Insert values from each LL into its list as strs in two separate loops\n",
    "        # 3) Join both lists into a string and convert it to a int\n",
    "        # 4) Add the ints to obtain a total\n",
    "        # 5) Convert total to a str (so it can be split when it becomes a list), then to list and then reverse\n",
    "        # 6) Convert all items in total list to int\n",
    "        # 7) Initialize a new result LL with the first item in total list\n",
    "        # 8) Initialize head to that node to track head\n",
    "        # 9) Loop through all item except for first in total_list and add them to new result LL and move next\n",
    "        # 10) Return head\n",
    "        list1 = []\n",
    "        list2 = []\n",
    "        while l1:\n",
    "            list1.insert(0, str(l1.val))\n",
    "            l1 = l1.next\n",
    "\n",
    "        while l2:\n",
    "            list2.insert(0, str(l2.val))\n",
    "            l2 = l2.next\n",
    "        \n",
    "        num1 = int(''.join(list1))\n",
    "        num2 = int(''.join(list2))\n",
    "\n",
    "        total = num1 + num2 \n",
    "\n",
    "        total_list = list(str(total))[::-1]\n",
    "        total_list = [int(i) for i in total_list]\n",
    "        new_ll = ListNode(total_list[0])\n",
    "        head = new_ll\n",
    "        for i in total_list[1:]:\n",
    "            new_ll.next = ListNode(i)\n",
    "            new_ll = new_ll.next\n",
    "            \n",
    "        \n",
    "        return head\n",
    "\n",
    "\n",
    "\n",
    "        \n",
    "\n",
    "\n",
    "\n",
    "\n",
    "        \n",
    "        \n",
    "        "
   ]
  },
  {
   "cell_type": "code",
   "execution_count": null,
   "id": "f67d1b4d-fa9e-4d40-bd34-4b5457f41e86",
   "metadata": {},
   "outputs": [],
   "source": []
  }
 ],
 "metadata": {
  "kernelspec": {
   "display_name": "Python 3 (ipykernel)",
   "language": "python",
   "name": "python3"
  },
  "language_info": {
   "codemirror_mode": {
    "name": "ipython",
    "version": 3
   },
   "file_extension": ".py",
   "mimetype": "text/x-python",
   "name": "python",
   "nbconvert_exporter": "python",
   "pygments_lexer": "ipython3",
   "version": "3.13.0"
  }
 },
 "nbformat": 4,
 "nbformat_minor": 5
}
