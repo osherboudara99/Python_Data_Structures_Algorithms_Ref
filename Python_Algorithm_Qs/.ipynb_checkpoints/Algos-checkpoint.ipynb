{
 "cells": [
  {
   "cell_type": "code",
   "execution_count": 1,
   "id": "62be5f9b-0637-424c-b931-71a867085704",
   "metadata": {},
   "outputs": [],
   "source": [
    "### Common interview question\n",
    "## If you have two lists, find item in commmon\n",
    "# Below is the inefficient way of doing this O(n^2)\n",
    "def item_in_common(list1, list2):\n",
    "    for i in list1:\n",
    "        for j in list2:\n",
    "            if i == j:\n",
    "                return True\n",
    "    return False\n",
    "\n",
    "## Better version with dictionary\n",
    "# Loop through first list, setting each item in list to key in dictionary with value True\n",
    "# Then loop through second list and check if item is in dictionary -> return true if not return false\n",
    "def item_in_common(list1, list2):\n",
    "    my_dict = {}\n",
    "    for i in list1:\n",
    "        my_dict[i] = True\n",
    "\n",
    "    for j in list2:\n",
    "        if j in my_dict:\n",
    "            return True\n",
    "    return False"
   ]
  },
  {
   "cell_type": "code",
   "execution_count": null,
   "id": "1ef51aab-e895-453d-af73-63004bb389d2",
   "metadata": {},
   "outputs": [],
   "source": []
  },
  {
   "cell_type": "code",
   "execution_count": 44,
   "id": "6666dc17-af4c-4c64-80b9-86f481e492d2",
   "metadata": {},
   "outputs": [],
   "source": [
    "def roman_to_int(value):\n",
    "    # Step 1: Roman numeral to integer mapping\n",
    "    roman_int = {\n",
    "        'I': 1, 'V': 5, 'X': 10, 'L': 50,\n",
    "        'C': 100, 'D': 500, 'M': 1000\n",
    "    }\n",
    "    \n",
    "    # Initialize Values\n",
    "    total = 0\n",
    "    prev = 0\n",
    "    \n",
    "    for i in range(len(value)):\n",
    "        \n",
    "        current_value = roman_int[value[i]]\n",
    "        \n",
    "        # Check if this is not the last character and if the next numeral is larger \n",
    "        if i + 1 < len(value) and roman_int[value[i+1]] > current_value:\n",
    "            \n",
    "            # If not last character and next value is larger than current value -> subtract\n",
    "            # i.e. think IV, since V is greater than I, we subtract first\n",
    "            # In above case, we subtract 1 in first loop (because if conditions are met) and add 5 in second iteration (because if conditions are not met so we go to else)\n",
    "            total -= current_value\n",
    "        else:\n",
    "            total += current_value\n",
    "        \n",
    "        # Set prev value to current value\n",
    "        prev = current_value\n",
    "    return total  \n",
    "            "
   ]
  },
  {
   "cell_type": "code",
   "execution_count": 45,
   "id": "f0ba40cb-3e3b-488b-9071-d01eb40e39d6",
   "metadata": {},
   "outputs": [
    {
     "data": {
      "text/plain": [
       "4"
      ]
     },
     "execution_count": 45,
     "metadata": {},
     "output_type": "execute_result"
    }
   ],
   "source": [
    "roman_to_int('IV')"
   ]
  },
  {
   "cell_type": "code",
   "execution_count": 47,
   "id": "05ffc2f8-8589-4c0c-8964-e82fbd2a3de4",
   "metadata": {},
   "outputs": [
    {
     "data": {
      "text/plain": [
       "7"
      ]
     },
     "execution_count": 47,
     "metadata": {},
     "output_type": "execute_result"
    }
   ],
   "source": [
    "roman_to_int('VII')"
   ]
  },
  {
   "cell_type": "code",
   "execution_count": 48,
   "id": "c20b5e76-7140-4509-9fc6-403625088fff",
   "metadata": {},
   "outputs": [
    {
     "data": {
      "text/plain": [
       "9"
      ]
     },
     "execution_count": 48,
     "metadata": {},
     "output_type": "execute_result"
    }
   ],
   "source": [
    "roman_to_int('IX')"
   ]
  },
  {
   "cell_type": "code",
   "execution_count": 49,
   "id": "d6bcdf2f-906c-4e0c-8ba8-0c3ba8b40d6b",
   "metadata": {},
   "outputs": [
    {
     "data": {
      "text/plain": [
       "3"
      ]
     },
     "execution_count": 49,
     "metadata": {},
     "output_type": "execute_result"
    }
   ],
   "source": [
    "roman_to_int('III')"
   ]
  },
  {
   "cell_type": "code",
   "execution_count": null,
   "id": "2056fe4d-132a-4b77-adf8-e2bffcf9fcbd",
   "metadata": {},
   "outputs": [],
   "source": []
  }
 ],
 "metadata": {
  "kernelspec": {
   "display_name": "Python 3 (ipykernel)",
   "language": "python",
   "name": "python3"
  },
  "language_info": {
   "codemirror_mode": {
    "name": "ipython",
    "version": 3
   },
   "file_extension": ".py",
   "mimetype": "text/x-python",
   "name": "python",
   "nbconvert_exporter": "python",
   "pygments_lexer": "ipython3",
   "version": "3.9.7"
  }
 },
 "nbformat": 4,
 "nbformat_minor": 5
}
