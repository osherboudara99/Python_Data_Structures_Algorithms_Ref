{
 "cells": [
  {
   "cell_type": "markdown",
   "id": "e2e17685-d8d7-4fb8-a84e-5378288cd23c",
   "metadata": {},
   "source": [
    "# Dynamic Programming\n",
    "\n",
    "In order for an algorithm to include dynamic programming, there must be two characteristics of the problem being solved.\n",
    "\n",
    "### 1) Over Lapping Subproblems\n",
    "\n",
    "This is where you divide a problem into smaller problems and there are duplicates in the sub problems\n",
    "If you have an array of `[1,2,2,3,5,5]` where each number represents a huge calculation, you can divide the array into sub problems when solving the problem:\n",
    "\n",
    "`[1], [2], [2], [3], [5], [5]`\n",
    "\n",
    "When dividing the array all the way down to the smallest subproblems, we can see that there are duplicate calculations for 2 and 5. This is a overlapping subproblem characteristic (since 2 and 5 are repeated).\n",
    "\n",
    "An example of something that is NOT overlapping solutions is merge algorithm from merge sort since each smaller problem has to be ordered and ordering will be different for even duplicate subproblems.\n",
    "\n",
    "A solution to this is memoization where we store previous results in an array and reference the results when the duplicates come instead of re-calculating\n",
    "\n",
    "### 2) Optimized Substructure\n",
    "\n",
    "This is where a solution to a subproblem contributes to the overall problem. \n",
    "Think of a weighted graph where we want to traverse from point A to C and find the shortest path (where all the points are A, B, C and there are edges between all the points). \n",
    "Lets say we know the shortest path is A -> B -> C. To find the shortest path, we first look A to B and then B to C and solving those sub-problems gives us the solution to our problem.\n",
    "Hence this is a case of optimized substructure\n",
    "\n",
    "An example of something that is NOT optimized substructure is if we were finding the longest path. This is because to find the longest path, we need to determine the other paths and see which one has the greatest distance. Each subproblem does not contribute to the solution here and only the one with the greatest distance contributes to our solution. Therefore, not optimized substructure"
   ]
  },
  {
   "cell_type": "markdown",
   "id": "5a5ac710-6bfa-4352-b658-b35a04935dd0",
   "metadata": {},
   "source": [
    "## Classic Example of Dynamic Programming: Fibonacci Sequence"
   ]
  },
  {
   "cell_type": "markdown",
   "id": "1ee5833a-ed69-4571-b731-3b2e8ac6b825",
   "metadata": {},
   "source": [
    "The Fibonacci sequence is a series of numbers where each number is the sum of the two preceding ones. It typically starts with 0 and 1, and the sequence continues as 0, 1, 1, 2, 3, 5, 8, 13, 21, 34, and so on.\n",
    "\n",
    "Overlapping subproblems occur in the Fibonacci sequence because the computation of each Fibonacci number depends on the previous two numbers. For instance, to compute the 5th Fibonacci number, you need to compute the 4th and 3rd Fibonacci numbers, and to compute the 4th Fibonacci number, you need the 3rd and 2nd, and so on. This results in the same subproblems being solved multiple times, as seen in the recursive approach where the computation of F(3) is repeated twice and F(2) is repeated three times for F(5) alone.\n",
    "\n",
    "Optimal substructure means that the optimal solution to a problem can be constructed from optimal solutions to its subproblems. For the Fibonacci sequence, the optimal solution for the nth Fibonacci number depends on the optimal solutions for the (n-1)th and (n-2)th Fibonacci numbers"
   ]
  },
  {
   "cell_type": "code",
   "execution_count": 1,
   "id": "bcea143f-16df-4ed5-8177-84b4bff4f0c0",
   "metadata": {},
   "outputs": [],
   "source": [
    "def fib(n):\n",
    "\n",
    "    if n == 0 or n ==1:\n",
    "        return n\n",
    "\n",
    "    return fib(n-1) + fib(n-2)"
   ]
  },
  {
   "cell_type": "code",
   "execution_count": 2,
   "id": "544898a5-24a0-4baa-96c4-354661f38e39",
   "metadata": {},
   "outputs": [
    {
     "data": {
      "text/plain": [
       "13"
      ]
     },
     "execution_count": 2,
     "metadata": {},
     "output_type": "execute_result"
    }
   ],
   "source": [
    "fib(7)"
   ]
  },
  {
   "cell_type": "code",
   "execution_count": 3,
   "id": "2c3a5979-49af-4eff-96e9-1938e01bb7db",
   "metadata": {},
   "outputs": [
    {
     "name": "stdout",
     "output_type": "stream",
     "text": [
      "Fibonacci Sequence Second Value:  1\n",
      "Amount of operations/times recursion occurred:  3\n"
     ]
    }
   ],
   "source": [
    "# Count the amount of recursive functions to see how in-efficient, fibonacci sequence is\n",
    "# Fibonacci sequence is 2^n because for each problem we divide it into two problems \n",
    "# (to find fib(5), we find fib(4) and fib(3) and to find fib(4), we need find fib(3) and fib(2))\n",
    "counter = 0\n",
    "\n",
    "def fib(n):\n",
    "    global counter\n",
    "    counter += 1\n",
    "\n",
    "    if n == 0 or n ==1:\n",
    "        return n\n",
    "\n",
    "    return fib(n-1) + fib(n-2)\n",
    "\n",
    "print('Fibonacci Sequence Second Value: ', fib(2))\n",
    "print('Amount of operations/times recursion occurred: ', counter)"
   ]
  },
  {
   "cell_type": "code",
   "execution_count": 4,
   "id": "cecfd4f9-3b29-49a8-8044-cc87aff0ebc3",
   "metadata": {},
   "outputs": [
    {
     "name": "stdout",
     "output_type": "stream",
     "text": [
      "Fibonacci Sequence 4th Value:  3\n",
      "Amount of operations/times recursion occurred:  9\n"
     ]
    }
   ],
   "source": [
    "counter = 0\n",
    "\n",
    "print('Fibonacci Sequence 4th Value: ', fib(4))\n",
    "print('Amount of operations/times recursion occurred: ', counter)"
   ]
  },
  {
   "cell_type": "code",
   "execution_count": 5,
   "id": "847438c8-31bd-4df3-8cae-4eaeac2583b9",
   "metadata": {},
   "outputs": [
    {
     "name": "stdout",
     "output_type": "stream",
     "text": [
      "Fibonacci Sequence 7th Value:  13\n",
      "Amount of operations/times recursion occurred:  41\n"
     ]
    }
   ],
   "source": [
    "counter = 0\n",
    "\n",
    "print('Fibonacci Sequence 7th Value: ', fib(7))\n",
    "print('Amount of operations/times recursion occurred: ', counter)"
   ]
  },
  {
   "cell_type": "code",
   "execution_count": 6,
   "id": "395c892b-91f8-45f7-b5f9-cf331f28bdb6",
   "metadata": {},
   "outputs": [
    {
     "name": "stdout",
     "output_type": "stream",
     "text": [
      "Fibonacci Sequence 20th Value:  6765\n",
      "Amount of operations/times recursion occurred:  21891\n"
     ]
    }
   ],
   "source": [
    "counter = 0\n",
    "\n",
    "print('Fibonacci Sequence 20th Value: ', fib(20))\n",
    "print('Amount of operations/times recursion occurred: ', counter)"
   ]
  },
  {
   "cell_type": "code",
   "execution_count": 7,
   "id": "4fc5d133-eb6a-4dd2-8f60-02093002597f",
   "metadata": {},
   "outputs": [
    {
     "name": "stdout",
     "output_type": "stream",
     "text": [
      "Fibonacci Sequence 30th Value:  832040\n",
      "Amount of operations/times recursion occurred:  2692537\n"
     ]
    }
   ],
   "source": [
    "counter = 0\n",
    "\n",
    "print('Fibonacci Sequence 30th Value: ', fib(30))\n",
    "print('Amount of operations/times recursion occurred: ', counter)"
   ]
  },
  {
   "cell_type": "code",
   "execution_count": 8,
   "id": "40ed2785-ede9-4e30-bf21-a88535a38d2f",
   "metadata": {},
   "outputs": [
    {
     "name": "stdout",
     "output_type": "stream",
     "text": [
      "Fibonacci Sequence 35th Value:  9227465\n",
      "Amount of operations/times recursion occurred:  29860703\n"
     ]
    }
   ],
   "source": [
    "counter = 0\n",
    "\n",
    "print('Fibonacci Sequence 35th Value: ', fib(35))\n",
    "print('Amount of operations/times recursion occurred: ', counter)"
   ]
  },
  {
   "cell_type": "markdown",
   "id": "7ef29fb9-39b0-43e3-9124-ca7f117b4bf2",
   "metadata": {},
   "source": [
    "### This is incredibly in-efficient!"
   ]
  },
  {
   "cell_type": "markdown",
   "id": "c5fb6256-bdd1-4777-a405-2f91de3583ae",
   "metadata": {},
   "source": [
    "## Memoization\n",
    "\n",
    "\n",
    "Store our values to sub-problems to avoid repeated calculations\n",
    "\n",
    "The below function improves the time complexity from 2^n to n because now we only calculate each value below the n only once (and then we refer to it another n times to get the stored values excluding our current n so therefore we only do 2n - 1 operations or recursion calls here instead of 2^n which means we only do n operations).\n",
    "With memoization, our algorithm improves to O(n)"
   ]
  },
  {
   "cell_type": "code",
   "execution_count": 9,
   "id": "074d5da3-f8b1-4855-b90d-b488dfffb69a",
   "metadata": {},
   "outputs": [
    {
     "name": "stdout",
     "output_type": "stream",
     "text": [
      "Fibonacci Sequence Second Value:  1\n",
      "Amount of operations/times recursion occurred:  3\n"
     ]
    }
   ],
   "source": [
    "# Can use list to do this or can use dictionary \n",
    "memo = [None] * 100\n",
    "# memo = {}\n",
    "\n",
    "\n",
    "# Counter to track amount of recursion\n",
    "counter = 0\n",
    "\n",
    "def fib(n):\n",
    "\n",
    "    global counter\n",
    "    counter += 1\n",
    "\n",
    "    # Check if sequence number has been calculated\n",
    "    if memo[n] is not None:\n",
    "        # If it has, return pre calculated value and avoid recursive line of code below\n",
    "        return memo[n]\n",
    "\n",
    "    if n == 0 or n == 1:\n",
    "        return n\n",
    "    \n",
    "    # Store values that haven't been calculated in array\n",
    "    memo[n] = fib(n-1) + fib(n-2)\n",
    "    return memo[n]\n",
    "\n",
    "print('Fibonacci Sequence Second Value: ', fib(2))\n",
    "print('Amount of operations/times recursion occurred: ', counter)"
   ]
  },
  {
   "cell_type": "code",
   "execution_count": 10,
   "id": "303a61f3-9349-4bd8-850d-955ca0e1fe06",
   "metadata": {},
   "outputs": [
    {
     "name": "stdout",
     "output_type": "stream",
     "text": [
      "Fibonacci Sequence 4th Value:  3\n",
      "Amount of operations/times recursion occurred:  7\n"
     ]
    }
   ],
   "source": [
    "# Reset counter and memoization array to view total operations\n",
    "counter = 0\n",
    "memo = [None] * 100\n",
    "\n",
    "print('Fibonacci Sequence 4th Value: ', fib(4))\n",
    "print('Amount of operations/times recursion occurred: ', counter)"
   ]
  },
  {
   "cell_type": "code",
   "execution_count": 11,
   "id": "26a587b3-7e0f-47cd-933e-661df240a555",
   "metadata": {},
   "outputs": [
    {
     "name": "stdout",
     "output_type": "stream",
     "text": [
      "Fibonacci Sequence 7th Value:  13\n",
      "Amount of operations/times recursion occurred:  13\n"
     ]
    }
   ],
   "source": [
    "# Reset counter and memoization array to view total operations\n",
    "counter = 0\n",
    "memo = [None] * 100\n",
    "\n",
    "print('Fibonacci Sequence 7th Value: ', fib(7))\n",
    "print('Amount of operations/times recursion occurred: ', counter)"
   ]
  },
  {
   "cell_type": "code",
   "execution_count": 12,
   "id": "e61fc5da-45cf-4a8c-948d-07a676d4646b",
   "metadata": {},
   "outputs": [
    {
     "name": "stdout",
     "output_type": "stream",
     "text": [
      "Fibonacci Sequence 20th Value:  6765\n",
      "Amount of operations/times recursion occurred:  39\n"
     ]
    }
   ],
   "source": [
    "# Reset counter and memoization array to view total operations\n",
    "counter = 0\n",
    "memo = [None] * 100\n",
    "\n",
    "print('Fibonacci Sequence 20th Value: ', fib(20))\n",
    "print('Amount of operations/times recursion occurred: ', counter)"
   ]
  },
  {
   "cell_type": "code",
   "execution_count": 13,
   "id": "33e40579-7834-474f-9cc5-376e48be418d",
   "metadata": {},
   "outputs": [
    {
     "name": "stdout",
     "output_type": "stream",
     "text": [
      "Fibonacci Sequence 30th Value:  832040\n",
      "Amount of operations/times recursion occurred:  59\n"
     ]
    }
   ],
   "source": [
    "# Reset counter and memoization array to view total operations\n",
    "counter = 0\n",
    "memo = [None] * 100\n",
    "\n",
    "print('Fibonacci Sequence 30th Value: ', fib(30))\n",
    "print('Amount of operations/times recursion occurred: ', counter)"
   ]
  },
  {
   "cell_type": "code",
   "execution_count": 14,
   "id": "1e00bbd1-3c8a-44d0-80ac-84e6d65223bc",
   "metadata": {},
   "outputs": [
    {
     "name": "stdout",
     "output_type": "stream",
     "text": [
      "Fibonacci Sequence 35th Value:  9227465\n",
      "Amount of operations/times recursion occurred:  69\n"
     ]
    }
   ],
   "source": [
    "# Reset counter and memoization array to view total operations\n",
    "counter = 0\n",
    "memo = [None] * 100\n",
    "\n",
    "print('Fibonacci Sequence 35th Value: ', fib(35))\n",
    "print('Amount of operations/times recursion occurred: ', counter)"
   ]
  },
  {
   "cell_type": "markdown",
   "id": "1a079a00-f874-4ca3-9921-a8ffb0269e25",
   "metadata": {},
   "source": [
    "### We have significantly improved the Amount of operations/times recursion has occurred"
   ]
  },
  {
   "cell_type": "markdown",
   "id": "1e7c14f4-18b3-4373-b3b0-7443e05b63bc",
   "metadata": {},
   "source": [
    "## Top Down vs Bottom Up"
   ]
  },
  {
   "cell_type": "markdown",
   "id": "fbf196c6-e83b-4472-9ed5-8acd30c77c20",
   "metadata": {},
   "source": [
    "In the above implementation, we did a top down approach. We started from the top which is n and then we work our way down to 0. This is typically the approach in recursion.\n",
    "\n",
    "We can also implement a bottom up approach where we start at 0 and working our way to the n in question. This is typically an iterative approach."
   ]
  },
  {
   "cell_type": "code",
   "execution_count": 15,
   "id": "18480495-d3d9-4dd0-94b4-325e3d976019",
   "metadata": {},
   "outputs": [],
   "source": [
    "# Bottom Up approach\n",
    "\n",
    "# Note: can use memoization here -> Lets say you ran the below function for n=7 and you want to run it again for n=7\n",
    "# On the second run, it would be O(1) with memoization because you are just accessing the list/dictionary with the already populated values instead of re-calculating\n",
    "# Downside is memory usage but you can weigh the options based on a use case\n",
    "\n",
    "# Track number of operations\n",
    "counter = 0\n",
    "\n",
    "def fib(n):\n",
    "    fib_list = [0, 1]\n",
    "    global counter\n",
    "    for i in range(2, n+1):\n",
    "        counter += 1\n",
    "        next_fib = fib_list[i-1] + fib_list[i-2]\n",
    "        fib_list.append(next_fib)\n",
    "\n",
    "    return fib_list[n]\n",
    "        "
   ]
  },
  {
   "cell_type": "code",
   "execution_count": null,
   "id": "53a08d29-a4a7-413a-b9c4-ef8f0ee6adba",
   "metadata": {},
   "outputs": [],
   "source": []
  },
  {
   "cell_type": "code",
   "execution_count": 16,
   "id": "020d1a92-e2a7-4d18-be2e-78870cc99b16",
   "metadata": {},
   "outputs": [
    {
     "name": "stdout",
     "output_type": "stream",
     "text": [
      "Fibonacci Sequence 4th Value:  3\n",
      "Amount of operations/iterations occurred:  3\n"
     ]
    }
   ],
   "source": [
    "# Reset counter\n",
    "counter = 0\n",
    "\n",
    "print('Fibonacci Sequence 4th Value: ', fib(4))\n",
    "print('Amount of operations/iterations occurred: ', counter)"
   ]
  },
  {
   "cell_type": "code",
   "execution_count": 17,
   "id": "a27d0f8d-2c5a-4c63-b32f-8f1a95f96d55",
   "metadata": {},
   "outputs": [
    {
     "name": "stdout",
     "output_type": "stream",
     "text": [
      "Fibonacci Sequence 7th Value:  13\n",
      "Amount of operations/iterations occurred:  6\n"
     ]
    }
   ],
   "source": [
    "# Reset counter\n",
    "counter = 0\n",
    "\n",
    "\n",
    "print('Fibonacci Sequence 7th Value: ', fib(7))\n",
    "print('Amount of operations/iterations occurred: ', counter)"
   ]
  },
  {
   "cell_type": "code",
   "execution_count": 18,
   "id": "69a029d3-0f01-42bc-9e87-6ad2ef1833e2",
   "metadata": {},
   "outputs": [
    {
     "name": "stdout",
     "output_type": "stream",
     "text": [
      "Fibonacci Sequence 20th Value:  6765\n",
      "Amount of operations/iterations occurred:  19\n"
     ]
    }
   ],
   "source": [
    "# Reset counter \n",
    "counter = 0\n",
    "memo = [None] * 100\n",
    "\n",
    "print('Fibonacci Sequence 20th Value: ', fib(20))\n",
    "print('Amount of operations/iterations occurred: ', counter)"
   ]
  },
  {
   "cell_type": "code",
   "execution_count": 19,
   "id": "fcd222c9-a215-4b9e-9f17-3e8cc2b6a7bb",
   "metadata": {},
   "outputs": [
    {
     "name": "stdout",
     "output_type": "stream",
     "text": [
      "Fibonacci Sequence 30th Value:  832040\n",
      "Amount of operations/iterations occurred:  29\n"
     ]
    }
   ],
   "source": [
    "# Reset counter \n",
    "counter = 0\n",
    "\n",
    "\n",
    "print('Fibonacci Sequence 30th Value: ', fib(30))\n",
    "print('Amount of operations/iterations occurred: ', counter)"
   ]
  },
  {
   "cell_type": "code",
   "execution_count": 20,
   "id": "0239e93f-f28a-43a4-98a9-63cb3818ebaf",
   "metadata": {},
   "outputs": [
    {
     "name": "stdout",
     "output_type": "stream",
     "text": [
      "Fibonacci Sequence 35th Value:  9227465\n",
      "Amount of operations/iterations occurred:  34\n"
     ]
    }
   ],
   "source": [
    "# Reset counter \n",
    "counter = 0\n",
    "\n",
    "print('Fibonacci Sequence 35th Value: ', fib(35))\n",
    "print('Amount of operations/iterations occurred: ', counter)"
   ]
  },
  {
   "cell_type": "code",
   "execution_count": null,
   "id": "4946a523-6a1a-4cf8-b6f8-f7daf7150331",
   "metadata": {},
   "outputs": [],
   "source": []
  }
 ],
 "metadata": {
  "kernelspec": {
   "display_name": "Python 3 (ipykernel)",
   "language": "python",
   "name": "python3"
  },
  "language_info": {
   "codemirror_mode": {
    "name": "ipython",
    "version": 3
   },
   "file_extension": ".py",
   "mimetype": "text/x-python",
   "name": "python",
   "nbconvert_exporter": "python",
   "pygments_lexer": "ipython3",
   "version": "3.13.0"
  }
 },
 "nbformat": 4,
 "nbformat_minor": 5
}
