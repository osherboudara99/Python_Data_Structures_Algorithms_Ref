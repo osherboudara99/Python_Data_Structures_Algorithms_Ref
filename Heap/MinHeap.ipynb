{
 "cells": [
  {
   "cell_type": "code",
   "execution_count": 4,
   "id": "f81839e9-8ec5-484a-9f91-594f5e0093ce",
   "metadata": {},
   "outputs": [],
   "source": [
    "class MinHeap:\n",
    "    def __init__(self):\n",
    "        self.heap = [] \n",
    "    def _left_child(self, index):\n",
    "        return 2*index+1 \n",
    "    def _right_child(self, index):\n",
    "        return 2*index+2 \n",
    "    def _parent(self, index):\n",
    "        return (index - 1) // 2 \n",
    "    def _swap(self, index1, index2):\n",
    "        self.heap[index1], self.heap[index2] = self.heap[index2], self.heap[index1]\n",
    "\n",
    "    def insert(self, value):\n",
    "        self.heap.append(value)\n",
    "\n",
    "        current = len(self.heap) - 1\n",
    "\n",
    "        while current > 0 and self.heap[current] < self.heap[self._parent(current)]:\n",
    "\n",
    "            self._swap(current, self._parent(current))\n",
    "            current = self._parent(current)\n",
    "\n",
    "    def remove(self):\n",
    "        if len(self.heap) == 0:\n",
    "            return None \n",
    "\n",
    "        if len(self.heap) == 1:\n",
    "            return self.heap.pop()\n",
    "\n",
    "        min_value = self.heap[0]\n",
    "        self.heap[0] = self.heap.pop()\n",
    "\n",
    "        self._sink_down(0)\n",
    "        return min_value \n",
    "\n",
    "\n",
    "    def _sink_down(self, index=0):\n",
    "        min_index = index\n",
    "\n",
    "        while True:\n",
    "            left_index = self._left_child(index)\n",
    "            right_index = self._right_child(index)\n",
    "\n",
    "            if left_index < len(self.heap) and self.heap[left_index] < self.heap[min_index]:\n",
    "                min_index = left_index \n",
    "\n",
    "            if right_index < len(self.heap) and self.heap[right_index] < self.heap[min_index]:\n",
    "                min_index = right_index \n",
    "\n",
    "            if min_index != index:\n",
    "                self._swap(min_index, index)\n",
    "                index = min_index \n",
    "            else:\n",
    "                return\n",
    "                "
   ]
  },
  {
   "cell_type": "code",
   "execution_count": 8,
   "id": "789147b8-529f-4706-8b0e-1357d9dc2c8b",
   "metadata": {},
   "outputs": [
    {
     "name": "stdout",
     "output_type": "stream",
     "text": [
      "[10, 25, 50, 100, 30]\n"
     ]
    }
   ],
   "source": [
    "minheap = MinHeap()\n",
    "\n",
    "minheap.insert(100)\n",
    "minheap.insert(10)\n",
    "minheap.insert(50)\n",
    "minheap.insert(25)\n",
    "minheap.insert(30)\n",
    "print(minheap.heap)"
   ]
  },
  {
   "cell_type": "code",
   "execution_count": 9,
   "id": "75e9e7ee-15d6-4773-8295-60b0d4851d95",
   "metadata": {},
   "outputs": [
    {
     "name": "stdout",
     "output_type": "stream",
     "text": [
      "[1, 25, 10, 100, 30, 50]\n"
     ]
    }
   ],
   "source": [
    "minheap.insert(1)\n",
    "\n",
    "print(minheap.heap)"
   ]
  },
  {
   "cell_type": "code",
   "execution_count": 10,
   "id": "019f0fc2-c211-4c8a-85e1-4c9a29aaf21b",
   "metadata": {},
   "outputs": [
    {
     "name": "stdout",
     "output_type": "stream",
     "text": [
      "[10, 25, 50, 100, 30]\n"
     ]
    }
   ],
   "source": [
    "minheap.remove()\n",
    "print(minheap.heap)"
   ]
  },
  {
   "cell_type": "code",
   "execution_count": 11,
   "id": "baac6815-f58f-4ccb-82b7-930251c4a832",
   "metadata": {},
   "outputs": [
    {
     "name": "stdout",
     "output_type": "stream",
     "text": [
      "[25, 30, 50, 100]\n"
     ]
    }
   ],
   "source": [
    "minheap.remove()\n",
    "print(minheap.heap)"
   ]
  },
  {
   "cell_type": "code",
   "execution_count": null,
   "id": "7011c5bb-1f47-4ae2-bf87-8089672dca39",
   "metadata": {},
   "outputs": [],
   "source": []
  }
 ],
 "metadata": {
  "kernelspec": {
   "display_name": "Python 3 (ipykernel)",
   "language": "python",
   "name": "python3"
  },
  "language_info": {
   "codemirror_mode": {
    "name": "ipython",
    "version": 3
   },
   "file_extension": ".py",
   "mimetype": "text/x-python",
   "name": "python",
   "nbconvert_exporter": "python",
   "pygments_lexer": "ipython3",
   "version": "3.13.0"
  }
 },
 "nbformat": 4,
 "nbformat_minor": 5
}
