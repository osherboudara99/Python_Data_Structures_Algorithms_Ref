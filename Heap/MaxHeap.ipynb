{
 "cells": [
  {
   "cell_type": "markdown",
   "id": "a091c763-0da7-4e1b-b8e1-ac8c688ad709",
   "metadata": {},
   "source": [
    "\n",
    "## Heap\n",
    "Heap is like a BST.\n",
    "\n",
    "Heap also must be a complete tree\n",
    "\n",
    "Complete Binary Tree: A Binary Tree is complete Binary Tree if all levels are completely filled except possibly the last level and the last level has all keys as left as possible.\n",
    "\n",
    "\n",
    "Max heap: Highest value on top. Root has to be greater than children. \n",
    "\n",
    "Min Heap: Lowest value on top. Root has to be less than all children.\n",
    "\n",
    "\n",
    "\n",
    "\n",
    "**Implementation**\n",
    "- Use a list to store heap value\n",
    "- Root goes in zero index (some people do first index since math is easier for calculating child positions; zero index left as None), and left to right we fill in rest of list\n",
    "- Since it is a complete tree, there should be no gaps in our list\n",
    "\n",
    "- Insertion\n",
    "  - No matter order of numbers, we insert value first in the next open spot in heap (because tree needs to remain complete)\n",
    "  - After insertion, we compare against parent (greater or less than depending on max or min heap) and swap. Swap until it is in the correct position. Called bubble up\n",
    "- Removing\n",
    "  - Whether it is a min or max heap, we always only remove the root node\n",
    "  - Issue: reconstructing heap is difficult, we must always make sure heap is complete\n",
    "  - Solution: Move most right child up to root and sink down to the position it should be in (instead of bubble up)\n",
    "  - Lot of time complexity in the remove method\n",
    "\n",
    "\n",
    "**Use Cases**\n",
    "- Heaps are great for priority queues, we also just pop the top off\n",
    "- Can use Linked List but we have to search list for highest value and it may take time.\n",
    "- Can use regular list but still have to search list for value\n",
    "- Can use dictionary cause you can find the key but then we still have to compare against other keys\n",
    "- Can use BST but they aren't always balanced, if you have a weird tree, it may take O(N)\n",
    "- Heap is always better because we remove which is O(1) and if we sink down, we only sink the height of tree which is O(log n) -> same idea with insert, we only bubble up the height (O(log n))\n",
    "- Big O is better for heaps so we use them over LinkedList in a priority queue"
   ]
  },
  {
   "cell_type": "code",
   "execution_count": 1,
   "id": "324ff490-fdee-4796-9607-1ed0a348582b",
   "metadata": {},
   "outputs": [],
   "source": [
    "# Example of Max Heap:\n",
    "\n",
    "\n",
    "#             99\n",
    "#        /         \\  \n",
    "#      76          50  \n",
    "#     /  \\         /  \\\n",
    "#   40    16     12   10     \n",
    "\n",
    "#             99\n",
    "#        /         \\  \n",
    "#      50          76  \n",
    "#     /  \\         /  \\\n",
    "#   40    16     12   10   \n",
    "\n",
    "\n",
    "# Example of Min Heap:\n",
    "\n",
    "#             14\n",
    "#        /         \\  \n",
    "#      50          76  \n",
    "#     /  \\         /  \\\n",
    "#   300    51     201  102   "
   ]
  },
  {
   "cell_type": "code",
   "execution_count": 7,
   "id": "af79ed73-e6cd-4cfe-9905-6c4547aa7560",
   "metadata": {},
   "outputs": [],
   "source": [
    "class MaxHeap:\n",
    "    def __init__(self):\n",
    "        self.heap = []\n",
    "\n",
    "    def _left_child(self, index):\n",
    "        return 2 * index + 1 # if list starts from 0 index\n",
    "        # return 2 * index # if list starts from 1 index\n",
    "\n",
    "    def _right_child(self, index):\n",
    "        return 2 * index + 2 # if list starts from 0 index\n",
    "        # return 2 * index + 1 # if list starts from 1 index\n",
    "\n",
    "    def _parent(self, index):\n",
    "        return (index - 1) // 2\n",
    "\n",
    "    def _swap(self, index1, index2):\n",
    "        self.heap[index1], self.heap[index2] = self.heap[index2], self.heap[index1]\n",
    "\n",
    "    def insert(self, value):\n",
    "        # 1) append value to heap list\n",
    "        # 2) get index of inserted value (current)\n",
    "        # 3) while current is not the root and while child is greater than parent (meaning we want to swap)\n",
    "        # 4) swap parent and child\n",
    "        # 5) obtain new index of inserted value\n",
    "        self.heap.append(value)\n",
    "\n",
    "        current = len(self.heap) - 1 # Find index of inserted value\n",
    "\n",
    "        # while current is not the root and while child is greater than parent (meaning we want to swap)\n",
    "        while current > 0 and self.heap[current] > self.heap[self._parent(current)]: \n",
    "            \n",
    "            self._swap(current, self._parent(current)) # swap child and parent\n",
    "            current = self._parent(current) # Find new index of value inserted after swap \n",
    "\n",
    "    def remove(self):\n",
    "        # Edge case: No node -> return None\n",
    "        # Edge case: 1 node -> pop from heap list and return value\n",
    "        # Store root value (value to be popped from heap)\n",
    "        # Move last child to root (at index 0)\n",
    "        # Call sink down method on zero index to reorganize heap\n",
    "        # Return removed root value\n",
    "        \n",
    "\n",
    "        if len(self.heap) == 0:\n",
    "            return None \n",
    "\n",
    "        if len(self.heap) == 1:\n",
    "            return self.heap.pop()\n",
    "\n",
    "        # Store root which will be popped\n",
    "        max_value = self.heap[0]\n",
    "\n",
    "        # Move last child to root\n",
    "        self.heap[0] = self.heap.pop()\n",
    "\n",
    "        # Call sink down to move new root to appropriate position in heap\n",
    "        self._sink_down(0)\n",
    "\n",
    "        # return removed value\n",
    "        return max_value\n",
    "\n",
    "    def _sink_down(self, index = 0):\n",
    "        # Point at index with max index variable\n",
    "        # Obtain position of left and right children\n",
    "        # Check if left child exists and if it is greater than max_index value -> if yes, max_index = left_index\n",
    "        # Check if right child exists and if it is greater than max_index value -> if yes, max_index = right_index\n",
    "        # if max_index and index are different, swap and set index to max_index \n",
    "        # if they are the same, then there are no more children and we return\n",
    "        \n",
    "        # Point at max index\n",
    "        max_index = index\n",
    "\n",
    "        while True:\n",
    "            # Obtain left and right child index from root\n",
    "            left_index = self._left_child(index)\n",
    "            right_index = self._right_child(index)\n",
    "\n",
    "            # Is left child greater than root\n",
    "            if left_index < len(self.heap) and self.heap[left_index] > self.heap[max_index]:\n",
    "\n",
    "                # Set max index to left child index (since it is greater)\n",
    "                max_index = left_index\n",
    "\n",
    "            # Does right index exist and is right child great than root\n",
    "            if right_index < len(self.heap) and self.heap[right_index] > self.heap[max_index]:\n",
    "\n",
    "                max_index = right_index\n",
    "\n",
    "            # Now that max index and index are different, we can swap\n",
    "            if max_index != index:\n",
    "                self._swap(index, max_index)\n",
    "                \n",
    "                # Move index down to the node that may need swapping \n",
    "                index = max_index\n",
    "            # meaning there are no more children to swap, we return\n",
    "            else:\n",
    "                return\n",
    "                \n",
    "                \n",
    "                \n",
    "        "
   ]
  },
  {
   "cell_type": "code",
   "execution_count": 8,
   "id": "deb71ad6-ac42-47a9-97f2-2e96d7b04b9d",
   "metadata": {},
   "outputs": [
    {
     "name": "stdout",
     "output_type": "stream",
     "text": [
      "[99, 59, 67, 43]\n"
     ]
    }
   ],
   "source": [
    "maxheap = MaxHeap()\n",
    "\n",
    "maxheap.insert(99)\n",
    "maxheap.insert(59)\n",
    "maxheap.insert(67)\n",
    "maxheap.insert(43)\n",
    "\n",
    "print(maxheap.heap)"
   ]
  },
  {
   "cell_type": "code",
   "execution_count": 9,
   "id": "d6ae52a0-d3b4-4922-9888-88ea563727fd",
   "metadata": {},
   "outputs": [
    {
     "name": "stdout",
     "output_type": "stream",
     "text": [
      "[100, 99, 67, 43, 59]\n"
     ]
    }
   ],
   "source": [
    "maxheap.insert(100)\n",
    "\n",
    "print(maxheap.heap)"
   ]
  },
  {
   "cell_type": "code",
   "execution_count": 10,
   "id": "ea1f6200-026d-4008-aa42-613c2b5171e3",
   "metadata": {},
   "outputs": [
    {
     "name": "stdout",
     "output_type": "stream",
     "text": [
      "[100, 99, 75, 43, 59, 67]\n"
     ]
    }
   ],
   "source": [
    "maxheap.insert(75)\n",
    "print(maxheap.heap)"
   ]
  },
  {
   "cell_type": "code",
   "execution_count": 11,
   "id": "f09af6d0-222b-432a-90ea-c93988672123",
   "metadata": {},
   "outputs": [
    {
     "name": "stdout",
     "output_type": "stream",
     "text": [
      "[99, 67, 75, 43, 59]\n"
     ]
    }
   ],
   "source": [
    "maxheap.remove()\n",
    "print(maxheap.heap)"
   ]
  },
  {
   "cell_type": "code",
   "execution_count": 12,
   "id": "82dc575e-9bf6-4af5-b054-d599173ad9c7",
   "metadata": {},
   "outputs": [
    {
     "name": "stdout",
     "output_type": "stream",
     "text": [
      "[75, 67, 59, 43]\n"
     ]
    }
   ],
   "source": [
    "maxheap.remove()\n",
    "print(maxheap.heap)"
   ]
  },
  {
   "cell_type": "code",
   "execution_count": null,
   "id": "f5671ee5-6b49-4be8-a56e-4020e2b26e90",
   "metadata": {},
   "outputs": [],
   "source": []
  }
 ],
 "metadata": {
  "kernelspec": {
   "display_name": "Python 3 (ipykernel)",
   "language": "python",
   "name": "python3"
  },
  "language_info": {
   "codemirror_mode": {
    "name": "ipython",
    "version": 3
   },
   "file_extension": ".py",
   "mimetype": "text/x-python",
   "name": "python",
   "nbconvert_exporter": "python",
   "pygments_lexer": "ipython3",
   "version": "3.13.0"
  }
 },
 "nbformat": 4,
 "nbformat_minor": 5
}
