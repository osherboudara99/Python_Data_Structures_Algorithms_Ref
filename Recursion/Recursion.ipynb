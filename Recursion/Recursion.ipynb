{
 "cells": [
  {
   "cell_type": "markdown",
   "id": "2321b520-2e55-416e-97f4-e638d6e6983a",
   "metadata": {},
   "source": [
    "## Recursion\n",
    "- A function that calls itself until it doesn't\n",
    "\n",
    "- Base Case - Portion of function when it stops calling the function again\n",
    "    - Without Base Case, function will run forever and cause stack overflow\n",
    "    - Must have return statement in this portion of code to break out of recursion\n",
    "\n",
    "- Recursive Case -  Portion of function when it continues to call the function again\n",
    "\n",
    "- Call Stack\n",
    "  - Functions are called using a stack. When a function is called it is added to a stack and when it finishes running, it is popped from the stack\n",
    "\n",
    "  "
   ]
  },
  {
   "cell_type": "code",
   "execution_count": 2,
   "id": "f8334223-e50d-48c1-8430-c50f1c732a8d",
   "metadata": {},
   "outputs": [
    {
     "name": "stdout",
     "output_type": "stream",
     "text": [
      "Three\n",
      "Two\n",
      "One\n"
     ]
    }
   ],
   "source": [
    "def funcThree():\n",
    "    print('Three')\n",
    "\n",
    "def funcTwo():\n",
    "    funcThree()\n",
    "    print('Two')\n",
    "\n",
    "def funcOne():\n",
    "    funcTwo()\n",
    "    print('One')\n",
    "\n",
    "funcOne()"
   ]
  },
  {
   "cell_type": "markdown",
   "id": "06ed1484-8405-45c1-9dc6-aae195c85902",
   "metadata": {},
   "source": [
    "**Example of how Call Stack work**\n",
    "\n",
    "In the above code, we called funcOne but first it printed Three, then Two then One. \n",
    "This is because funcOne called funcTwo which called funcThree\n",
    "If we think of this as a stack, funcOne was first pushed to stack but then funcTwo was called within funcOne so then funcTwo was pushed to stack and then funcThree was called by funcTwo which then pushes funcThree onto the stack. Since funcThree calls no other functions, it is at the top of the stack and it can now finish executing (and it will be popped).\n",
    "Once it is popped funcTwo can now execute and then it is popped. Then funcOne. That is why it prints out Three then Two then One"
   ]
  },
  {
   "cell_type": "code",
   "execution_count": 3,
   "id": "6c39a4ca-4c95-449c-be7c-38a5fd481623",
   "metadata": {},
   "outputs": [],
   "source": [
    "# Same call stack process holds here\n",
    "\n",
    "def factorial(n):\n",
    "    # Base Case\n",
    "    if n == 1:\n",
    "        return n\n",
    "        \n",
    "\n",
    "    # Recursive Case\n",
    "    return n * factorial(n-1)"
   ]
  },
  {
   "cell_type": "code",
   "execution_count": 9,
   "id": "09fec3ce-f5c2-40a1-b68f-52e52a640402",
   "metadata": {},
   "outputs": [
    {
     "data": {
      "text/plain": [
       "60415263063373835637355132068513997507264512000000000"
      ]
     },
     "execution_count": 9,
     "metadata": {},
     "output_type": "execute_result"
    }
   ],
   "source": [
    "factorial(43)"
   ]
  },
  {
   "cell_type": "code",
   "execution_count": null,
   "id": "d806597b-26df-4fc3-9a9b-59464000d7f9",
   "metadata": {},
   "outputs": [],
   "source": []
  }
 ],
 "metadata": {
  "kernelspec": {
   "display_name": "Python 3 (ipykernel)",
   "language": "python",
   "name": "python3"
  },
  "language_info": {
   "codemirror_mode": {
    "name": "ipython",
    "version": 3
   },
   "file_extension": ".py",
   "mimetype": "text/x-python",
   "name": "python",
   "nbconvert_exporter": "python",
   "pygments_lexer": "ipython3",
   "version": "3.13.0"
  }
 },
 "nbformat": 4,
 "nbformat_minor": 5
}
