{
 "cells": [
  {
   "cell_type": "markdown",
   "id": "95cca618-4a5f-40c9-9705-168153392824",
   "metadata": {},
   "source": [
    "## Graphs"
   ]
  },
  {
   "cell_type": "markdown",
   "id": "49b65a55-6d2e-4833-95ab-1ab554c09938",
   "metadata": {},
   "source": [
    "- Vertex or Node for storing data\n",
    "\n",
    "- Edges connects Vertex\n",
    "\n",
    "- A vertex can have any number of edges (i.e. can connect to any amount of verticies)\n",
    "\n",
    "- Graphs can have weighted or unweighted edges\n",
    "\n",
    "- Weighted Edges: Edges that have different \"weights\" of traversal. When traversing, you want to take the route with the lowest cost\n",
    "\n",
    "- Routes on a Google Map have a sort of weighted edge\n",
    "\n",
    "- Friends on Facebook have a unweighted edge between them\n",
    "\n",
    "- Friends on Facebook are friends with eachother, edge is bidirectional (goes both ways)\n",
    "\n",
    "- Instagram followers are directional, one person can follow someone else and they do not follow you\n",
    "\n",
    "- Tree and Linked List are a type of graph, they point to other node but have additional restrictions (LinkedList can only point to one node, tree can only point to two nodes)"
   ]
  },
  {
   "cell_type": "markdown",
   "id": "4f208b42-fbef-4e08-83d0-5decf5cef504",
   "metadata": {},
   "source": [
    "**Adjacency Matrix**: Used to represent connections between verticies\n",
    "- Bidirectional Graph will reflect along matrix diagonal (symmetrical). Zeroes across diagonal if no verticies point to itself\n",
    "\n",
    "\n",
    "**Adjacency List**: Another way to represent connections between verticies\n",
    "- Can use dictionary where key is vertex and value is a list of all verticies that have an edge to vertex at key"
   ]
  },
  {
   "cell_type": "markdown",
   "id": "d59d3bfc-12f9-4000-b810-8cb3e4471f38",
   "metadata": {},
   "source": [
    "**Space Complexity**\n",
    "- Using an adjacency matrix, we store all the verticies connected and not connected to the vertex (takes up more space) -- incredibly inefficent in large numbers\n",
    "- Adjacency list -> we only store the connected verticies\n",
    "- Therefore adjacency matrix is O(amount of verticies squared) or O(V^2), wheres adjacency list is O(amount of vertices + amount of edges) or O(V + E)\n",
    "\n",
    "\n",
    "**Time Complexity**\n",
    "- Adding a node (List significantly better) \n",
    "  - For matrix, O(V^2) because you have to compare that new vertex to every other vertex (fill in zeroes and ones for each entry whether connected)\n",
    "  - For adjacency list, O(1) because you just add it to dictionary\n",
    "\n",
    "- Adding edge (List and Matrix perform the same)\n",
    "  - For both matrix and list, O(1)\n",
    "  - Matrix, we just change entry values where relevant\n",
    "  - List, we just add edges to value list where relevant\n",
    "\n",
    "- Remove Edge (Matrix is better)\n",
    "  - For matrix, we just go to relevant entry and remove it -- O(1)\n",
    "  - For List, we have to loop through dictionary list and find where the edge is in the value list and remove it --- O(amount of edges) or O(E)\n",
    "\n",
    "- Remove Vertex (List is much better)\n",
    "  - For matrix, we have to remove the column and row relating to vertex and rewrite full matrix -- O(V^2)\n",
    "  - For list, we have to remove vertex key and loop through dictionary to find all edges to vertex being removed -- O(V+E)"
   ]
  },
  {
   "cell_type": "code",
   "execution_count": 33,
   "id": "61044b19-869e-4051-9ca8-1fe31d4895e7",
   "metadata": {},
   "outputs": [],
   "source": [
    "class Graph:\n",
    "    def __init__(self):\n",
    "        # Create an empty graph\n",
    "        self.adj_list = {}\n",
    "\n",
    "    def print_graph(self):\n",
    "        for vertex in self.adj_list:\n",
    "            print(vertex, ':', self.adj_list[vertex])\n",
    "\n",
    "    def add_vertex(self, vertex):\n",
    "        # If vertex doesn't exist, add to graph\n",
    "        if vertex not in self.adj_list.keys():\n",
    "            self.adj_list[vertex] = []\n",
    "            return True\n",
    "\n",
    "        # Else, cannot add because vertex already exists\n",
    "        return False\n",
    "\n",
    "    def add_edge(self, v1, v2):\n",
    "        # Check if verticies exist\n",
    "        if v1 in self.adj_list.keys() and v2 in self.adj_list.keys():\n",
    "            # append to each value list\n",
    "            self.adj_list[v1].append(v2)\n",
    "            self.adj_list[v2].append(v1)\n",
    "            return True\n",
    "        return False\n",
    "\n",
    "    def remove_edge(self, v1, v2):\n",
    "        # Check if verticies exist\n",
    "        if v1 in self.adj_list.keys() and v2 in self.adj_list.keys():\n",
    "            # Check if there is an edge between existing verticies\n",
    "            try:\n",
    "                # Remove the vertex connection\n",
    "                self.adj_list[v1].remove(v2)\n",
    "                self.adj_list[v2].remove(v1)\n",
    "            except ValueError:\n",
    "                print(f'No edge between {v1} and {v2}')\n",
    "                pass\n",
    "            return True\n",
    "        return False\n",
    "\n",
    "    def remove_vertex(self, vertex):\n",
    "        # Effiency for Bidirectional Graphs\n",
    "        # Loop through edges in vertex being removed\n",
    "        # If there is an edge in the list, we know the vertex will have an edge to the vertex being removed\n",
    "        # In loop we remove edge from other vertex until we looped through all edges in list for vertex being removed\n",
    "        # And then we totally remove vertex\n",
    "        if vertex in self.adj_list.keys():\n",
    "            for other_vertex in self.adj_list[vertex]:\n",
    "                self.adj_list[other_vertex].remove(vertex)\n",
    "            del self.adj_list[vertex]\n",
    "            return True\n",
    "        return False\n",
    "            \n",
    "        "
   ]
  },
  {
   "cell_type": "code",
   "execution_count": 34,
   "id": "7039a8fa-e553-48d9-9d48-608eac33f16a",
   "metadata": {},
   "outputs": [],
   "source": [
    "graph = Graph()"
   ]
  },
  {
   "cell_type": "code",
   "execution_count": 35,
   "id": "7f01f509-807b-471a-96c1-9fb22a76c599",
   "metadata": {},
   "outputs": [
    {
     "data": {
      "text/plain": [
       "True"
      ]
     },
     "execution_count": 35,
     "metadata": {},
     "output_type": "execute_result"
    }
   ],
   "source": [
    "graph.add_vertex('A')"
   ]
  },
  {
   "cell_type": "code",
   "execution_count": 36,
   "id": "f9847e6c-ccbf-4de5-a581-37a1d98d0abb",
   "metadata": {},
   "outputs": [
    {
     "name": "stdout",
     "output_type": "stream",
     "text": [
      "A : []\n"
     ]
    }
   ],
   "source": [
    "graph.print_graph()"
   ]
  },
  {
   "cell_type": "code",
   "execution_count": 37,
   "id": "46564ba5-08cc-4050-ae07-22e861f44e77",
   "metadata": {},
   "outputs": [
    {
     "data": {
      "text/plain": [
       "True"
      ]
     },
     "execution_count": 37,
     "metadata": {},
     "output_type": "execute_result"
    }
   ],
   "source": [
    "graph.add_vertex('B')\n",
    "graph.add_vertex('C')"
   ]
  },
  {
   "cell_type": "code",
   "execution_count": 38,
   "id": "2943c890-26d5-4fb6-be50-1b18cb92e4dc",
   "metadata": {},
   "outputs": [
    {
     "data": {
      "text/plain": [
       "True"
      ]
     },
     "execution_count": 38,
     "metadata": {},
     "output_type": "execute_result"
    }
   ],
   "source": [
    "graph.add_edge('A', 'B')\n",
    "graph.add_edge('C', 'B')"
   ]
  },
  {
   "cell_type": "code",
   "execution_count": 39,
   "id": "ae9ec474-f6b2-4468-8963-1cf5426f37c4",
   "metadata": {},
   "outputs": [
    {
     "name": "stdout",
     "output_type": "stream",
     "text": [
      "A : ['B']\n",
      "B : ['A', 'C']\n",
      "C : ['B']\n"
     ]
    }
   ],
   "source": [
    "graph.print_graph()"
   ]
  },
  {
   "cell_type": "code",
   "execution_count": 40,
   "id": "67d3c545-da32-45e1-883e-c0c3f6d9c790",
   "metadata": {},
   "outputs": [
    {
     "data": {
      "text/plain": [
       "True"
      ]
     },
     "execution_count": 40,
     "metadata": {},
     "output_type": "execute_result"
    }
   ],
   "source": [
    "graph.remove_edge('A', 'B')"
   ]
  },
  {
   "cell_type": "code",
   "execution_count": 41,
   "id": "abf8d226-8270-4685-9e96-b2711d003e30",
   "metadata": {},
   "outputs": [
    {
     "name": "stdout",
     "output_type": "stream",
     "text": [
      "A : []\n",
      "B : ['C']\n",
      "C : ['B']\n"
     ]
    }
   ],
   "source": [
    "graph.print_graph()"
   ]
  },
  {
   "cell_type": "code",
   "execution_count": null,
   "id": "df191c09-cf23-49b9-8584-21454a5307f1",
   "metadata": {},
   "outputs": [],
   "source": []
  },
  {
   "cell_type": "code",
   "execution_count": 42,
   "id": "71eb09d0-e3af-4657-a5f0-3b463262eb08",
   "metadata": {},
   "outputs": [
    {
     "name": "stdout",
     "output_type": "stream",
     "text": [
      "A : ['B', 'C', 'D']\n",
      "D : ['A', 'B', 'C']\n",
      "B : ['A', 'D']\n",
      "C : ['A', 'D']\n"
     ]
    }
   ],
   "source": [
    "graph = Graph()\n",
    "graph.add_vertex('A')\n",
    "graph.add_vertex('D')\n",
    "graph.add_vertex('B')\n",
    "graph.add_vertex('C')\n",
    "\n",
    "graph.add_edge('A', 'B')\n",
    "graph.add_edge('A', 'C')\n",
    "graph.add_edge('A', 'D')\n",
    "graph.add_edge('B', 'D')\n",
    "graph.add_edge('D', 'C')\n",
    "\n",
    "graph.print_graph()"
   ]
  },
  {
   "cell_type": "code",
   "execution_count": 43,
   "id": "448641b0-ea8d-44aa-8ff7-9d9e495cef5f",
   "metadata": {},
   "outputs": [
    {
     "data": {
      "text/plain": [
       "True"
      ]
     },
     "execution_count": 43,
     "metadata": {},
     "output_type": "execute_result"
    }
   ],
   "source": [
    "graph.remove_vertex('B')"
   ]
  },
  {
   "cell_type": "code",
   "execution_count": 44,
   "id": "099d3770-1d3b-4269-b4ac-ba5833dad39a",
   "metadata": {},
   "outputs": [
    {
     "name": "stdout",
     "output_type": "stream",
     "text": [
      "A : ['C', 'D']\n",
      "D : ['A', 'C']\n",
      "C : ['A', 'D']\n"
     ]
    }
   ],
   "source": [
    "graph.print_graph()"
   ]
  },
  {
   "cell_type": "code",
   "execution_count": null,
   "id": "8cb2bc2c-9438-4213-9092-6e6422d6b807",
   "metadata": {},
   "outputs": [],
   "source": []
  }
 ],
 "metadata": {
  "kernelspec": {
   "display_name": "Python 3 (ipykernel)",
   "language": "python",
   "name": "python3"
  },
  "language_info": {
   "codemirror_mode": {
    "name": "ipython",
    "version": 3
   },
   "file_extension": ".py",
   "mimetype": "text/x-python",
   "name": "python",
   "nbconvert_exporter": "python",
   "pygments_lexer": "ipython3",
   "version": "3.13.0"
  }
 },
 "nbformat": 4,
 "nbformat_minor": 5
}
