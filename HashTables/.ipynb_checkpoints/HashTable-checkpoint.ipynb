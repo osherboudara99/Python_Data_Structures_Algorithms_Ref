{
 "cells": [
  {
   "cell_type": "markdown",
   "id": "eeee63c0-c27a-445a-bfd3-7852c5793d78",
   "metadata": {},
   "source": [
    "Example of Hashtable: Python Dictionaries\n",
    "\n",
    "Hash Characteristics:\n",
    "\n",
    "1) One way: Feed key and get address, we cannot feed address and get key\n",
    "\n",
    "2) Deterministic: Anytime we use a certain key, we should expect to get the address tied to it. We can go right to the address and get that data\n",
    "\n",
    "\n",
    "Collisions: Happens when two key-value pairs are stored in the same address. \n",
    "- How does this happen without overwriting? We store a list (or a LL) at the address and append each key-value pair\n",
    "- This is called Separate Chaining\n",
    "- Another way to handle Collusions is through Linear Probing\n",
    "- Search through Hash Address List till you find an open address (open addressing) -> this is done so you do not have more than one key-value pair at the same address\n",
    "- Below we will use separate chaining\n",
    "\n",
    "\n",
    "Hash table should always have a prime number as the amount of addresses \n",
    "- Prime numbers allow for more randomness when inserting -> less collisions"
   ]
  },
  {
   "cell_type": "markdown",
   "id": "58f080a3-8118-4ad7-af9f-cc91e3394928",
   "metadata": {},
   "source": [
    "## __hash Method explanation\n",
    "\n",
    "Hash tables can be a bit tricky, so let's break down your question about the __hash method and the use of a prime number like 23.\n",
    "\n",
    "In a hash table, we need a way to convert keys into array indices. This is done by a hash function. A good hash function distributes keys uniformly across the array, minimizing the chances of two keys hashing to the same index, a situation known as a collision.\n",
    "\n",
    "Now, why do we often use prime numbers in these hash functions, like 23 in your example?\n",
    "\n",
    "- Reducing Collisions: Prime numbers help in spreading keys more uniformly across the array. By using a prime number, the hash function tends to produce a unique value for each unique key, which reduces collisions.\n",
    "\n",
    "- Uniform Distribution: When we multiply by a prime number, the hash values are less likely to form patterns. Non-prime numbers, especially those that are factors of the array size, tend to cause more clustering in the hash table.\n",
    "\n",
    "- Maximizing Efficiency: The goal is to use the entire array as effectively as possible. Prime numbers help in achieving this by ensuring that each key is more likely to be hashed to a different index.\n",
    "\n",
    "In summary, using a prime number like 23 in a hash function helps to distribute the keys more uniformly across the hash table, reducing the likelihood of collisions and making the hash table more efficient. This choice is a balance between complexity and effectiveness, making prime numbers a popular choice in hash function design.\n",
    "\n"
   ]
  },
  {
   "cell_type": "code",
   "execution_count": null,
   "id": "7a69f4f6-1353-45bf-9708-9861e5942d7e",
   "metadata": {},
   "outputs": [],
   "source": [
    "class HashTable:\n",
    "    def __init__(self, size = 7): # Default is 7 addresses but can do any amount\n",
    "        self.data_map = [None] * size \n",
    "\n",
    "    # Function that \"hashes\" table -- converts keys into array indicies\n",
    "    # A good hash function distributes keys \"uniformly\" across the array minimizing the chance of two keys hashing to same index or collision\n",
    "    def __hash(self, key):\n",
    "        my_hash = 0\n",
    "        for letter in key:\n",
    "            # We do the below calculation to get a more random distribution of numbers from our hash keys\n",
    "            my_hash = (my_hash + ord(letter) * 23) % len(self.data_map) # Ord obtains ASCII value, can use any number other than 23 but prime numbers provide more randomness\n",
    "            \n",
    "        # hash(key) % len(self.data_map) --- can also be done this way using the built in hash function\n",
    "        return my_hash\n",
    "\n",
    "    def print_table(self):\n",
    "        for i, val in enumerate(self.data_map):\n",
    "            p\n",
    "    \n",
    "    "
   ]
  }
 ],
 "metadata": {
  "kernelspec": {
   "display_name": "Python 3 (ipykernel)",
   "language": "python",
   "name": "python3"
  },
  "language_info": {
   "codemirror_mode": {
    "name": "ipython",
    "version": 3
   },
   "file_extension": ".py",
   "mimetype": "text/x-python",
   "name": "python",
   "nbconvert_exporter": "python",
   "pygments_lexer": "ipython3",
   "version": "3.13.0"
  }
 },
 "nbformat": 4,
 "nbformat_minor": 5
}
