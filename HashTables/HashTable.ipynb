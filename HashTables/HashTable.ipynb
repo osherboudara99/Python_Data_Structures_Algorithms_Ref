{
 "cells": [
  {
   "cell_type": "markdown",
   "id": "37f6737f-7c7d-4bb7-88d9-cc9ea62d9051",
   "metadata": {},
   "source": [
    "# Hash Table Big O"
   ]
  },
  {
   "cell_type": "markdown",
   "id": "d1e4c40e-e66a-435f-b216-aa94dc3d9940",
   "metadata": {},
   "source": [
    "1) __hash method is O(1) because for any given key, the amount of operations is CONSTANT\n",
    "2) set_item calls __hash method which is O(1) and then does 1 operation which appends so set_item is O(1)\n",
    "3) get_item calls __hash method which is O(1), go to address and loop through list if need to find item\n",
    "   - Even though we have to loop through items at the address, we assume everything is uniformly distributed in a hash table so there shouldn't be too many items at a single address so therefore O(1) still\n",
    "   - We would think O(n) because you would do n loops through an address which may have multiple items but since __hash functions should be efficient in allocating data (uniformly distributed) then we only have O(1) operations"
   ]
  },
  {
   "cell_type": "markdown",
   "id": "eeee63c0-c27a-445a-bfd3-7852c5793d78",
   "metadata": {},
   "source": [
    "Example of Hashtable: Python Dictionaries\n",
    "\n",
    "Hash Characteristics:\n",
    "\n",
    "1) One way: Feed key and get address, we cannot feed address and get key\n",
    "\n",
    "2) Deterministic: Anytime we use a certain key, we should expect to get the address tied to it. We can go right to the address and get that data\n",
    "\n",
    "\n",
    "Collisions: Happens when two key-value pairs are stored in the same address. \n",
    "- How does this happen without overwriting? We store a list (or a LL) at the address and append each key-value pair\n",
    "- This is called Separate Chaining\n",
    "- Another way to handle Collusions is through Linear Probing\n",
    "- Search through Hash Address List till you find an open address (open addressing) -> this is done so you do not have more than one key-value pair at the same address\n",
    "- Below we will use separate chaining\n",
    "\n",
    "\n",
    "Hash table should always have a prime number as the amount of addresses \n",
    "- Prime numbers allow for more randomness when inserting -> less collisions"
   ]
  },
  {
   "cell_type": "markdown",
   "id": "58f080a3-8118-4ad7-af9f-cc91e3394928",
   "metadata": {},
   "source": [
    "## __hash Method explanation\n",
    "\n",
    "Hash tables can be a bit tricky, so let's break down your question about the __hash method and the use of a prime number like 23.\n",
    "\n",
    "In a hash table, we need a way to convert keys into array indices. This is done by a hash function. A good hash function distributes keys uniformly across the array, minimizing the chances of two keys hashing to the same index, a situation known as a collision.\n",
    "\n",
    "Now, why do we often use prime numbers in these hash functions, like 23 in your example?\n",
    "\n",
    "- Reducing Collisions: Prime numbers help in spreading keys more uniformly across the array. By using a prime number, the hash function tends to produce a unique value for each unique key, which reduces collisions.\n",
    "\n",
    "- Uniform Distribution: When we multiply by a prime number, the hash values are less likely to form patterns. Non-prime numbers, especially those that are factors of the array size, tend to cause more clustering in the hash table.\n",
    "\n",
    "- Maximizing Efficiency: The goal is to use the entire array as effectively as possible. Prime numbers help in achieving this by ensuring that each key is more likely to be hashed to a different index.\n",
    "\n",
    "In summary, using a prime number like 23 in a hash function helps to distribute the keys more uniformly across the hash table, reducing the likelihood of collisions and making the hash table more efficient. This choice is a balance between complexity and effectiveness, making prime numbers a popular choice in hash function design.\n",
    "\n"
   ]
  },
  {
   "cell_type": "code",
   "execution_count": 20,
   "id": "7a69f4f6-1353-45bf-9708-9861e5942d7e",
   "metadata": {},
   "outputs": [],
   "source": [
    "class HashTable:\n",
    "    # Creates address space\n",
    "    def __init__(self, size = 7): # Default is 7 addresses but can do any amount\n",
    "        self.data_map = [None] * size \n",
    "\n",
    "    # Function that \"hashes\" table -- converts keys into array indicies\n",
    "    # A good hash function distributes keys \"uniformly\" across the array minimizing the chance of two keys hashing to same index or collision\n",
    "    def __hash(self, key):\n",
    "        my_hash = 0\n",
    "        for letter in key:\n",
    "            # We do the below calculation to get a more random distribution of numbers from our hash keys\n",
    "            my_hash = (my_hash + ord(letter) * 23) % len(self.data_map) # Ord obtains ASCII value, can use any number other than 23 but prime numbers provide more randomness\n",
    "            \n",
    "        # hash(key) % len(self.data_map) --- can also be done this way using the built in hash function\n",
    "        return my_hash\n",
    "\n",
    "    def print_table(self):\n",
    "        for i, val in enumerate(self.data_map):\n",
    "            print(f\"{i}: {val}\")\n",
    "\n",
    "    def set_item(self, key, value):\n",
    "        # First, find address to store key-value pair\n",
    "        # if no items in address, Initialize list at index/address to store key-value pair \n",
    "        # Append key-value pair as a list to address\n",
    "\n",
    "        index = self.__hash(key)\n",
    "\n",
    "        if self.data_map[index] == None:\n",
    "            self.data_map[index] = []\n",
    "\n",
    "        self.data_map[index].append([key, value])\n",
    "\n",
    "    def get_item(self, key):\n",
    "        # Find address of key (if or if it doesn't exist)\n",
    "        # Check if the index is not None - loop through all data at address (could be one item at address or more if collisions occurred)\n",
    "        # Find where index of list within address where key lives and return value of the key value pair\n",
    "        # return None if key is not in hash table\n",
    "\n",
    "        index = self.__hash(key)\n",
    "\n",
    "        if self.data_map[index] is not None:\n",
    "            for i in range(len(self.data_map[index])): # Loop through list of key-value pairs at address\n",
    "                if self.data_map[index][i][0] == key:  # If key is found\n",
    "                    return self.data_map[index][i][1] # Return value\n",
    "        return None\n",
    "\n",
    "    def get_keys(self):\n",
    "        # Function that returns list of all keys\n",
    "        # Initialize empty list\n",
    "        # Loop through all address spaces\n",
    "        # if address is not none, Loop through all lists within an address (nested for loop)\n",
    "\n",
    "        all_keys = []\n",
    "        for i in range(len(self.data_map)):\n",
    "            if self.data_map[i] is not None:\n",
    "                for j in range(len(self.data_map[i])):\n",
    "                    all_keys.append(self.data_map[i][j][0])\n",
    "        return all_keys\n",
    "                \n",
    "\n",
    "    \n",
    "\n",
    "        \n",
    "            \n",
    "        \n",
    "        \n",
    "\n",
    "        \n",
    "    \n",
    "    "
   ]
  },
  {
   "cell_type": "code",
   "execution_count": 21,
   "id": "714c07ae-2381-4a6d-a23a-bbd655568e63",
   "metadata": {},
   "outputs": [
    {
     "name": "stdout",
     "output_type": "stream",
     "text": [
      "0: None\n",
      "1: None\n",
      "2: None\n",
      "3: None\n"
     ]
    }
   ],
   "source": [
    "hash_table = HashTable(4)\n",
    "\n",
    "hash_table.print_table()"
   ]
  },
  {
   "cell_type": "code",
   "execution_count": 22,
   "id": "73a5bdc9-c090-4957-a903-384f74830198",
   "metadata": {},
   "outputs": [
    {
     "name": "stdout",
     "output_type": "stream",
     "text": [
      "0: None\n",
      "1: None\n",
      "2: None\n",
      "3: None\n",
      "4: None\n",
      "5: None\n",
      "6: None\n"
     ]
    }
   ],
   "source": [
    "hash_table = HashTable()\n",
    "\n",
    "hash_table.print_table()"
   ]
  },
  {
   "cell_type": "code",
   "execution_count": 23,
   "id": "e27e66d7-9ade-4ee5-8738-b4e3dd047909",
   "metadata": {},
   "outputs": [
    {
     "name": "stdout",
     "output_type": "stream",
     "text": [
      "0: None\n",
      "1: None\n",
      "2: None\n",
      "3: None\n",
      "4: [['bolts', 1400], ['washers', 500]]\n",
      "5: None\n",
      "6: [['lumber', 75]]\n"
     ]
    }
   ],
   "source": [
    "hash_table.set_item('bolts', 1400)\n",
    "hash_table.set_item('washers', 500)\n",
    "hash_table.set_item('lumber', 75)\n",
    "\n",
    "hash_table.print_table()"
   ]
  },
  {
   "cell_type": "code",
   "execution_count": 24,
   "id": "04f2c97f-d2ee-45b7-8a9b-c4e1a7bbeda1",
   "metadata": {},
   "outputs": [
    {
     "data": {
      "text/plain": [
       "1400"
      ]
     },
     "execution_count": 24,
     "metadata": {},
     "output_type": "execute_result"
    }
   ],
   "source": [
    "hash_table.get_item('bolts')"
   ]
  },
  {
   "cell_type": "code",
   "execution_count": 25,
   "id": "43141969-a63c-4d8f-b46c-47a632caaed1",
   "metadata": {},
   "outputs": [
    {
     "data": {
      "text/plain": [
       "75"
      ]
     },
     "execution_count": 25,
     "metadata": {},
     "output_type": "execute_result"
    }
   ],
   "source": [
    "hash_table.get_item('lumber')"
   ]
  },
  {
   "cell_type": "code",
   "execution_count": 26,
   "id": "79cb5881-244d-490f-96ab-b2caf6afdb0a",
   "metadata": {},
   "outputs": [
    {
     "data": {
      "text/plain": [
       "['bolts', 'washers', 'lumber']"
      ]
     },
     "execution_count": 26,
     "metadata": {},
     "output_type": "execute_result"
    }
   ],
   "source": [
    "hash_table.get_keys()"
   ]
  },
  {
   "cell_type": "code",
   "execution_count": null,
   "id": "f1590d27-b7a0-4042-a5ae-f5799a54ea81",
   "metadata": {},
   "outputs": [],
   "source": []
  }
 ],
 "metadata": {
  "kernelspec": {
   "display_name": "Python 3 (ipykernel)",
   "language": "python",
   "name": "python3"
  },
  "language_info": {
   "codemirror_mode": {
    "name": "ipython",
    "version": 3
   },
   "file_extension": ".py",
   "mimetype": "text/x-python",
   "name": "python",
   "nbconvert_exporter": "python",
   "pygments_lexer": "ipython3",
   "version": "3.9.7"
  }
 },
 "nbformat": 4,
 "nbformat_minor": 5
}
