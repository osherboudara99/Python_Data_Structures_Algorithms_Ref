{
 "cells": [
  {
   "cell_type": "code",
   "execution_count": 1,
   "id": "adea5533-9154-40d2-bfc2-17129303d325",
   "metadata": {},
   "outputs": [],
   "source": [
    "class Cookie:\n",
    "    def __init__(self, color): # Constructor\n",
    "        self.color = color\n",
    "\n",
    "    def get_color(self):\n",
    "        return self.color\n",
    "\n",
    "    def set_color(self, color):\n",
    "        self.color = color"
   ]
  },
  {
   "cell_type": "code",
   "execution_count": 2,
   "id": "2ca522da-7541-496a-91b5-b6d8823e1d10",
   "metadata": {},
   "outputs": [],
   "source": [
    "cookie_one = Cookie('green') "
   ]
  },
  {
   "cell_type": "code",
   "execution_count": 3,
   "id": "6240f7e6-73ce-4a80-9a96-1e5c92bf1716",
   "metadata": {},
   "outputs": [],
   "source": [
    "cookie_two = Cookie('blue')"
   ]
  },
  {
   "cell_type": "code",
   "execution_count": 4,
   "id": "e592e0c2-ff66-4161-a1ac-5f9b5ed93003",
   "metadata": {},
   "outputs": [
    {
     "data": {
      "text/plain": [
       "'green'"
      ]
     },
     "execution_count": 4,
     "metadata": {},
     "output_type": "execute_result"
    }
   ],
   "source": [
    "cookie_one.color"
   ]
  },
  {
   "cell_type": "code",
   "execution_count": 5,
   "id": "96b49687-7db2-4555-a26b-56f6e2af9611",
   "metadata": {},
   "outputs": [
    {
     "name": "stdout",
     "output_type": "stream",
     "text": [
      "Cookie One Color: green\n",
      "Cookie Two Color: blue\n"
     ]
    }
   ],
   "source": [
    "print('Cookie One Color:', cookie_one.get_color())\n",
    "print('Cookie Two Color:', cookie_two.get_color())"
   ]
  },
  {
   "cell_type": "code",
   "execution_count": 6,
   "id": "558f2d8a-b2cc-4dcd-b1d4-d734f21cf9af",
   "metadata": {},
   "outputs": [],
   "source": [
    "cookie_one.set_color('red')"
   ]
  },
  {
   "cell_type": "code",
   "execution_count": 7,
   "id": "a8a752dc-c668-47c3-ad53-2e2424c9f0d7",
   "metadata": {},
   "outputs": [
    {
     "name": "stdout",
     "output_type": "stream",
     "text": [
      "Cookie One Color: red\n",
      "Cookie Two Color: blue\n"
     ]
    }
   ],
   "source": [
    "print('Cookie One Color:', cookie_one.get_color())\n",
    "print('Cookie Two Color:', cookie_two.get_color())"
   ]
  },
  {
   "cell_type": "markdown",
   "id": "72c3bb18-2517-427a-8319-c2fd0f5dd4fa",
   "metadata": {},
   "source": [
    "## Pointers"
   ]
  },
  {
   "cell_type": "code",
   "execution_count": 8,
   "id": "de753305-184a-4e28-ab81-8938208fadb2",
   "metadata": {},
   "outputs": [
    {
     "name": "stdout",
     "output_type": "stream",
     "text": [
      "11\n",
      "11\n"
     ]
    }
   ],
   "source": [
    "num1 = 11 # In memory, we create an int in memory and point variable to it\n",
    "num2 = num1 # Doing this, do we create another 11 in memory and point num2 to it or is it pointing to same 11 in memory that num1 is pointing to?\n",
    "\n",
    "print(num1)\n",
    "print(num2)"
   ]
  },
  {
   "cell_type": "code",
   "execution_count": 9,
   "id": "d86f26eb-245a-4451-a4d2-d926614134fc",
   "metadata": {},
   "outputs": [
    {
     "name": "stdout",
     "output_type": "stream",
     "text": [
      "140717122446568\n",
      "140717122446568\n"
     ]
    }
   ],
   "source": [
    "## As can seen in output, they point to same location in memory!!\n",
    "\n",
    "print(id(num1)) \n",
    "print(id(num2))"
   ]
  },
  {
   "cell_type": "code",
   "execution_count": 10,
   "id": "2350a6ac-cbeb-4359-aa1b-3d9418e95b02",
   "metadata": {},
   "outputs": [],
   "source": [
    "num2 = 22 # new integer is now created in memory and num2 now points to it\n",
    "          "
   ]
  },
  {
   "cell_type": "code",
   "execution_count": 11,
   "id": "6805667d-039c-4ec1-ad50-9d96828ef181",
   "metadata": {},
   "outputs": [
    {
     "name": "stdout",
     "output_type": "stream",
     "text": [
      "11\n",
      "22\n",
      "140717122446568\n",
      "140717122446920\n"
     ]
    }
   ],
   "source": [
    "print(num1) # Num 1 stays the same because integers are immutable\n",
    "print(num2)\n",
    "\n",
    "print(id(num1)) \n",
    "print(id(num2))"
   ]
  },
  {
   "cell_type": "code",
   "execution_count": 12,
   "id": "da19c32d-e29e-4cfa-a503-fc2b2b01bd0d",
   "metadata": {},
   "outputs": [
    {
     "name": "stdout",
     "output_type": "stream",
     "text": [
      "{'value': 11}\n",
      "{'value': 11}\n"
     ]
    }
   ],
   "source": [
    "dict1 = {\n",
    "    'value':11\n",
    "}\n",
    "\n",
    "dict2 = dict1\n",
    "\n",
    "print(dict1)\n",
    "print(dict2)"
   ]
  },
  {
   "cell_type": "code",
   "execution_count": 13,
   "id": "ea5f887d-e9c3-449e-8b36-671f521b8e13",
   "metadata": {},
   "outputs": [
    {
     "name": "stdout",
     "output_type": "stream",
     "text": [
      "2236062360000\n",
      "2236062360000\n"
     ]
    }
   ],
   "source": [
    "print(id(dict1)) # Same location in memory\n",
    "print(id(dict2))"
   ]
  },
  {
   "cell_type": "code",
   "execution_count": 14,
   "id": "0edb2a08-05aa-4a3b-91b1-d3a15853c68e",
   "metadata": {},
   "outputs": [
    {
     "name": "stdout",
     "output_type": "stream",
     "text": [
      "{'value': 22}\n",
      "{'value': 22}\n"
     ]
    }
   ],
   "source": [
    "dict2['value'] = 22\n",
    "\n",
    "print(dict1) # Both values are updated even though only modified dict2, dictionaries are mutable!!\n",
    "print(dict2)"
   ]
  },
  {
   "cell_type": "code",
   "execution_count": 15,
   "id": "135b0a5e-7a42-40fd-b1e2-e0abf8b4a25d",
   "metadata": {},
   "outputs": [
    {
     "name": "stdout",
     "output_type": "stream",
     "text": [
      "2236062360000\n",
      "2236062360000\n"
     ]
    }
   ],
   "source": [
    "print(id(dict1)) # Same location in memory\n",
    "print(id(dict2))"
   ]
  },
  {
   "cell_type": "code",
   "execution_count": 16,
   "id": "c74bca6d-2853-4471-9cea-cd54c60e96a4",
   "metadata": {},
   "outputs": [],
   "source": [
    "dict3 = dict2"
   ]
  },
  {
   "cell_type": "code",
   "execution_count": 17,
   "id": "89cf6e6e-cd43-4c11-bb7f-31912adb7d24",
   "metadata": {},
   "outputs": [
    {
     "name": "stdout",
     "output_type": "stream",
     "text": [
      "{'value': 22}\n",
      "{'value': 22}\n",
      "{'value': 22}\n",
      "2236062360000\n",
      "2236062360000\n",
      "2236062360000\n"
     ]
    }
   ],
   "source": [
    "print(dict1)\n",
    "print(dict2)\n",
    "print(dict3)\n",
    "\n",
    "print(id(dict1)) # Same location in memory\n",
    "print(id(dict2))\n",
    "print(id(dict3))"
   ]
  },
  {
   "cell_type": "code",
   "execution_count": 18,
   "id": "55326ab2-17f1-4d2a-aab5-4397c4c80e80",
   "metadata": {},
   "outputs": [],
   "source": [
    "dict3['value'] = 3"
   ]
  },
  {
   "cell_type": "code",
   "execution_count": 19,
   "id": "7497700f-55db-4917-a331-edf48a6f2cea",
   "metadata": {},
   "outputs": [
    {
     "name": "stdout",
     "output_type": "stream",
     "text": [
      "{'value': 3}\n",
      "{'value': 3}\n",
      "{'value': 3}\n",
      "2236062360000\n",
      "2236062360000\n",
      "2236062360000\n"
     ]
    }
   ],
   "source": [
    "print(dict1)\n",
    "print(dict2)\n",
    "print(dict3)\n",
    "\n",
    "print(id(dict1)) # Same location in memory\n",
    "print(id(dict2))\n",
    "print(id(dict3))"
   ]
  },
  {
   "cell_type": "code",
   "execution_count": 20,
   "id": "b0f7ee87-dc2a-49c5-88d8-6afa3d4cbc50",
   "metadata": {},
   "outputs": [],
   "source": [
    "dict2['value'] = 5"
   ]
  },
  {
   "cell_type": "code",
   "execution_count": 21,
   "id": "a2226bae-f56f-49f5-8308-0b993300aa71",
   "metadata": {},
   "outputs": [
    {
     "name": "stdout",
     "output_type": "stream",
     "text": [
      "{'value': 5}\n",
      "{'value': 5}\n",
      "{'value': 5}\n",
      "2236062360000\n",
      "2236062360000\n",
      "2236062360000\n"
     ]
    }
   ],
   "source": [
    "print(dict1)\n",
    "print(dict2)\n",
    "print(dict3)\n",
    "\n",
    "print(id(dict1)) # Same location in memory\n",
    "print(id(dict2))\n",
    "print(id(dict3))"
   ]
  },
  {
   "cell_type": "code",
   "execution_count": 22,
   "id": "fd699664-e66b-4ab5-9233-fd522baf20cf",
   "metadata": {},
   "outputs": [],
   "source": [
    "## What happens to the 3, we cannot access it anymore??\n",
    "# Python cleans it up with garbage collector"
   ]
  },
  {
   "cell_type": "code",
   "execution_count": null,
   "id": "1435c6d7-9790-4a2a-b68b-3d20eecf91d6",
   "metadata": {},
   "outputs": [],
   "source": []
  }
 ],
 "metadata": {
  "kernelspec": {
   "display_name": "Python 3 (ipykernel)",
   "language": "python",
   "name": "python3"
  },
  "language_info": {
   "codemirror_mode": {
    "name": "ipython",
    "version": 3
   },
   "file_extension": ".py",
   "mimetype": "text/x-python",
   "name": "python",
   "nbconvert_exporter": "python",
   "pygments_lexer": "ipython3",
   "version": "3.13.0"
  }
 },
 "nbformat": 4,
 "nbformat_minor": 5
}
